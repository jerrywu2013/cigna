{
  "nbformat": 4,
  "nbformat_minor": 0,
  "metadata": {
    "colab": {
      "name": "NLP.ipynb",
      "version": "0.3.2",
      "provenance": [],
      "collapsed_sections": []
    },
    "kernelspec": {
      "name": "python3",
      "display_name": "Python 3"
    },
    "accelerator": "GPU"
  },
  "cells": [
    {
      "cell_type": "markdown",
      "metadata": {
        "id": "vBS48WENwGwN",
        "colab_type": "text"
      },
      "source": [
        "# Jieba"
      ]
    },
    {
      "cell_type": "code",
      "metadata": {
        "id": "gODieBhYuQ-P",
        "colab_type": "code",
        "colab": {}
      },
      "source": [
        "import jieba"
      ],
      "execution_count": 0,
      "outputs": []
    },
    {
      "cell_type": "code",
      "metadata": {
        "id": "L0LhyHoLuT1s",
        "colab_type": "code",
        "outputId": "3a768ea5-c99e-4cda-d1a9-97bbd2583cff",
        "colab": {
          "base_uri": "https://localhost:8080/",
          "height": 34
        }
      },
      "source": [
        "seg_list = jieba.cut(\"我來到康健人壽上課\", HMM=False)\n",
        "print(\"Full Mode: \" + \"/ \".join(seg_list))  # 全模式"
      ],
      "execution_count": 0,
      "outputs": [
        {
          "output_type": "stream",
          "text": [
            "Full Mode: 我/ 來/ 到/ 康健/ 人/ 壽/ 上/ 課\n"
          ],
          "name": "stdout"
        }
      ]
    },
    {
      "cell_type": "code",
      "metadata": {
        "id": "MMDmDB_TvAiH",
        "colab_type": "code",
        "colab": {}
      },
      "source": [
        "jieba.add_word('人壽')"
      ],
      "execution_count": 0,
      "outputs": []
    },
    {
      "cell_type": "code",
      "metadata": {
        "id": "eCf0lllGvFm5",
        "colab_type": "code",
        "outputId": "92baf862-eb80-4de7-8dfa-96d61408c5aa",
        "colab": {
          "base_uri": "https://localhost:8080/",
          "height": 34
        }
      },
      "source": [
        "seg_list = jieba.cut(\"我來到康健人壽上課\", HMM=False)\n",
        "print(\"Full Mode: \" + \"/ \".join(seg_list))  # 全模式"
      ],
      "execution_count": 0,
      "outputs": [
        {
          "output_type": "stream",
          "text": [
            "Full Mode: 我/ 來/ 到/ 康健/ 人壽/ 上/ 課\n"
          ],
          "name": "stdout"
        }
      ]
    },
    {
      "cell_type": "code",
      "metadata": {
        "id": "fjytg7rgvHpw",
        "colab_type": "code",
        "colab": {}
      },
      "source": [
        "jieba.del_word('T客邦')"
      ],
      "execution_count": 0,
      "outputs": []
    },
    {
      "cell_type": "code",
      "metadata": {
        "id": "M4vb2gIdvKn3",
        "colab_type": "code",
        "outputId": "3a79fe27-111c-46f6-d866-77dce791ef77",
        "colab": {
          "base_uri": "https://localhost:8080/",
          "height": 34
        }
      },
      "source": [
        "seg_list = jieba.cut(\"我來到康健人壽上課\", HMM=False)\n",
        "print(\"Full Mode: \" + \"/ \".join(seg_list))  # 全模式"
      ],
      "execution_count": 0,
      "outputs": [
        {
          "output_type": "stream",
          "text": [
            "Full Mode: 我/ 來/ 到/ 康健/ 人壽/ 上/ 課\n"
          ],
          "name": "stdout"
        }
      ]
    },
    {
      "cell_type": "code",
      "metadata": {
        "id": "pOh866H0vMy4",
        "colab_type": "code",
        "outputId": "16784779-12f1-44e0-d835-0419b69c8a1c",
        "colab": {
          "base_uri": "https://localhost:8080/",
          "height": 67
        }
      },
      "source": [
        "#詞性標註\n",
        "import jieba.posseg as pseg\n",
        "words = pseg.cut(\"今天天氣真好\")\n",
        "for word, flag in words:\n",
        "    print('%s %s' % (word, flag))\n",
        "    \n",
        "#https://gist.github.com/luw2007/6016931"
      ],
      "execution_count": 0,
      "outputs": [
        {
          "output_type": "stream",
          "text": [
            "今天 t\n",
            "天氣 n\n",
            "真好 d\n"
          ],
          "name": "stdout"
        }
      ]
    },
    {
      "cell_type": "code",
      "metadata": {
        "id": "T7eg3sQgvRFZ",
        "colab_type": "code",
        "outputId": "8c0b645b-3c68-4ddd-cbba-0747be28c4f3",
        "colab": {
          "base_uri": "https://localhost:8080/",
          "height": 84
        }
      },
      "source": [
        "result = jieba.tokenize(u'亞太智能機器有限公司')\n",
        "for tk in result:\n",
        "    print(\"word %s\\t\\t start: %d \\t\\t end:%d\" % (tk[0],tk[1],tk[2]))"
      ],
      "execution_count": 0,
      "outputs": [
        {
          "output_type": "stream",
          "text": [
            "word 亞太\t\t start: 0 \t\t end:2\n",
            "word 智能\t\t start: 2 \t\t end:4\n",
            "word 機器\t\t start: 4 \t\t end:6\n",
            "word 有限公司\t\t start: 6 \t\t end:10\n"
          ],
          "name": "stdout"
        }
      ]
    },
    {
      "cell_type": "code",
      "metadata": {
        "id": "UZRg3hVDvUIb",
        "colab_type": "code",
        "colab": {}
      },
      "source": [
        ""
      ],
      "execution_count": 0,
      "outputs": []
    },
    {
      "cell_type": "markdown",
      "metadata": {
        "id": "W5-t2HPSwKWM",
        "colab_type": "text"
      },
      "source": [
        "# TF-IDF"
      ]
    },
    {
      "cell_type": "code",
      "metadata": {
        "id": "UZbourmRwMmj",
        "colab_type": "code",
        "outputId": "99c005f7-b979-411e-9829-03d73fcbc77b",
        "colab": {
          "base_uri": "https://localhost:8080/",
          "height": 101
        }
      },
      "source": [
        "#詞袋模型\n",
        "from sklearn.feature_extraction.text import CountVectorizer\n",
        " \n",
        "corpus = [\n",
        "    'This is the first document.',\n",
        "    'This is the second second document.',\n",
        "    'And the third one.',\n",
        "    'Is this the first document?',\n",
        "]\n",
        "\n",
        "#文本轉換詞頻矩陣\n",
        "vectorizer = CountVectorizer()\n",
        "#計算詞語出現次數\n",
        "X = vectorizer.fit_transform(corpus)\n",
        "#文本關鍵字獲取\n",
        "word = vectorizer.get_feature_names()\n",
        "print(word)\n",
        "#檢查結果\n",
        "print(X.toarray())"
      ],
      "execution_count": 0,
      "outputs": [
        {
          "output_type": "stream",
          "text": [
            "['and', 'document', 'first', 'is', 'one', 'second', 'the', 'third', 'this']\n",
            "[[0 1 1 1 0 0 1 0 1]\n",
            " [0 1 0 1 0 2 1 0 1]\n",
            " [1 0 0 0 1 0 1 1 0]\n",
            " [0 1 1 1 0 0 1 0 1]]\n"
          ],
          "name": "stdout"
        }
      ]
    },
    {
      "cell_type": "code",
      "metadata": {
        "id": "biJzVR3dwRCM",
        "colab_type": "code",
        "outputId": "d03f4adb-ab8b-48e8-fb70-f1ab52c40613",
        "colab": {
          "base_uri": "https://localhost:8080/",
          "height": 252
        }
      },
      "source": [
        "#TF-IDF\n",
        "from sklearn.feature_extraction.text import CountVectorizer\n",
        "\n",
        "corpus = [\n",
        "    'This is the first document.',\n",
        "    'This is the second second document.',\n",
        "    'And the third one.',\n",
        "    'Is this the first document?',\n",
        "]\n",
        "#文本轉換詞頻矩陣\n",
        "vectorizer = CountVectorizer()\n",
        "#計算詞語出現次數\n",
        "X = vectorizer.fit_transform(corpus)\n",
        "#文本關鍵字獲取\n",
        "word = vectorizer.get_feature_names()\n",
        "print(word)\n",
        "#檢查結果\n",
        "print(X.toarray())\n",
        " \n",
        "from sklearn.feature_extraction.text import TfidfTransformer\n",
        " \n",
        "#功能調用\n",
        "transformer = TfidfTransformer()\n",
        "print(transformer)\n",
        "#將矩陣X轉成TF-IDF值\n",
        "tfidf = transformer.fit_transform(X)\n",
        "\n",
        "\n",
        "print (tfidf.toarray())"
      ],
      "execution_count": 0,
      "outputs": [
        {
          "output_type": "stream",
          "text": [
            "['and', 'document', 'first', 'is', 'one', 'second', 'the', 'third', 'this']\n",
            "[[0 1 1 1 0 0 1 0 1]\n",
            " [0 1 0 1 0 2 1 0 1]\n",
            " [1 0 0 0 1 0 1 1 0]\n",
            " [0 1 1 1 0 0 1 0 1]]\n",
            "TfidfTransformer(norm='l2', smooth_idf=True, sublinear_tf=False, use_idf=True)\n",
            "[[0.         0.43877674 0.54197657 0.43877674 0.         0.\n",
            "  0.35872874 0.         0.43877674]\n",
            " [0.         0.27230147 0.         0.27230147 0.         0.85322574\n",
            "  0.22262429 0.         0.27230147]\n",
            " [0.55280532 0.         0.         0.         0.55280532 0.\n",
            "  0.28847675 0.55280532 0.        ]\n",
            " [0.         0.43877674 0.54197657 0.43877674 0.         0.\n",
            "  0.35872874 0.         0.43877674]]\n"
          ],
          "name": "stdout"
        }
      ]
    },
    {
      "cell_type": "code",
      "metadata": {
        "id": "lCU_PG_Rwfz9",
        "colab_type": "code",
        "outputId": "66fc6f75-f4a9-45f0-a385-1634cb8ed414",
        "colab": {
          "base_uri": "https://localhost:8080/",
          "height": 252
        }
      },
      "source": [
        "#TF-IDF\n",
        "from sklearn.feature_extraction.text import CountVectorizer\n",
        "\n",
        "corpus = [\n",
        "    '你 住 的 巷子 裡',\n",
        "    '我 租了 一間 公寓',\n",
        "    '爲了 想 與 你 不期而遇',\n",
        "    '高中 三年',\n",
        "]\n",
        "#文本轉換詞頻矩陣\n",
        "vectorizer = CountVectorizer()\n",
        "#計算詞語出現次數\n",
        "X = vectorizer.fit_transform(corpus)\n",
        "#文本關鍵字獲取\n",
        "word = vectorizer.get_feature_names()\n",
        "print(word)\n",
        "#檢查結果\n",
        "print(X.toarray())\n",
        " \n",
        "from sklearn.feature_extraction.text import TfidfTransformer\n",
        " \n",
        "#功能調用\n",
        "transformer = TfidfTransformer()\n",
        "print(transformer)\n",
        "#將矩陣X轉成TF-IDF值\n",
        "tfidf = transformer.fit_transform(X)\n",
        "\n",
        "\n",
        "print (tfidf.toarray())  "
      ],
      "execution_count": 0,
      "outputs": [
        {
          "output_type": "stream",
          "text": [
            "['一間', '三年', '不期而遇', '公寓', '巷子', '爲了', '租了', '高中']\n",
            "[[0 0 0 0 1 0 0 0]\n",
            " [1 0 0 1 0 0 1 0]\n",
            " [0 0 1 0 0 1 0 0]\n",
            " [0 1 0 0 0 0 0 1]]\n",
            "TfidfTransformer(norm='l2', smooth_idf=True, sublinear_tf=False, use_idf=True)\n",
            "[[0.         0.         0.         0.         1.         0.\n",
            "  0.         0.        ]\n",
            " [0.57735027 0.         0.         0.57735027 0.         0.\n",
            "  0.57735027 0.        ]\n",
            " [0.         0.         0.70710678 0.         0.         0.70710678\n",
            "  0.         0.        ]\n",
            " [0.         0.70710678 0.         0.         0.         0.\n",
            "  0.         0.70710678]]\n"
          ],
          "name": "stdout"
        }
      ]
    },
    {
      "cell_type": "code",
      "metadata": {
        "id": "z6rG9nIwww9h",
        "colab_type": "code",
        "colab": {}
      },
      "source": [
        ""
      ],
      "execution_count": 0,
      "outputs": []
    },
    {
      "cell_type": "markdown",
      "metadata": {
        "id": "CccaKc9gw7XL",
        "colab_type": "text"
      },
      "source": [
        "# Cosine Similarity"
      ]
    },
    {
      "cell_type": "code",
      "metadata": {
        "id": "_1jgXDA_w9f5",
        "colab_type": "code",
        "colab": {}
      },
      "source": [
        "def Bag_of_Words(raw_corpus):  \n",
        "    import jieba\n",
        "    from sklearn.feature_extraction.text import CountVectorizer\n",
        "    corpus = [] \n",
        "    for x in raw_corpus:\n",
        "        corpus.append(x)\n",
        "        #corpus.append(' '.join(jieba.cut(x)))\n",
        "    vectorizer = CountVectorizer()\n",
        "    corpus_matrix = vectorizer.fit_transform(corpus)\n",
        "    return corpus_matrix.toarray()"
      ],
      "execution_count": 0,
      "outputs": []
    },
    {
      "cell_type": "code",
      "metadata": {
        "id": "9ZDsmSwww_yQ",
        "colab_type": "code",
        "colab": {}
      },
      "source": [
        "raw_corpus = ['I work at home', 'I was working at home', 'I was sleeping at home']\n",
        "x1,x2,x3 = Bag_of_Words(raw_corpus)"
      ],
      "execution_count": 0,
      "outputs": []
    },
    {
      "cell_type": "code",
      "metadata": {
        "id": "-k9oELfexKvS",
        "colab_type": "code",
        "outputId": "874dfe6a-e079-4c9b-8501-b2cd9d7d840d",
        "colab": {
          "base_uri": "https://localhost:8080/",
          "height": 34
        }
      },
      "source": [
        "def cosine_similarity(x1,x2):    \n",
        "    import math\n",
        "    sum_x_and_x, sum_x_and_y, sum_y_and_y = 0, 0, 0\n",
        "    for i in range(len(x1)):\n",
        "        x = x1[i]\n",
        "        y = x2[i]\n",
        "        sum_x_and_x += x*x\n",
        "        sum_y_and_y += y*y\n",
        "        sum_x_and_y += x*y\n",
        "    return sum_x_and_y/math.sqrt(sum_x_and_x * sum_y_and_y)\n",
        "print(cosine_similarity(x2,x3))\n",
        "#Bag_of_Words(raw_corpus)[0]"
      ],
      "execution_count": 0,
      "outputs": [
        {
          "output_type": "stream",
          "text": [
            "0.75\n"
          ],
          "name": "stdout"
        }
      ]
    },
    {
      "cell_type": "code",
      "metadata": {
        "id": "4JhtVtq5xLaO",
        "colab_type": "code",
        "outputId": "cf878361-7fe2-459b-e5fc-6ddfbcb1985b",
        "colab": {
          "base_uri": "https://localhost:8080/",
          "height": 34
        }
      },
      "source": [
        "print(cosine_similarity(x1,x2))"
      ],
      "execution_count": 0,
      "outputs": [
        {
          "output_type": "stream",
          "text": [
            "0.5773502691896258\n"
          ],
          "name": "stdout"
        }
      ]
    },
    {
      "cell_type": "code",
      "metadata": {
        "id": "iLKM1FsMxM7-",
        "colab_type": "code",
        "outputId": "e37f71f4-ee82-47a3-f5c6-2d4a96a4f27c",
        "colab": {
          "base_uri": "https://localhost:8080/",
          "height": 118
        }
      },
      "source": [
        "#作業\n",
        "text = [\n",
        "    [\"這台車真好我從來不開他\"],\n",
        "    [\"這台手機真好我從來不用他\"],\n",
        "    [\"這台機車真好我從來不騎他\"],\n",
        "    [\"這碗咖哩飯真好吃我經常來吃\", ],\n",
        "    [\"這碗義大利麵真好吃我經常來餐廳吃\"],\n",
        "    [\"這台車真好開我經常開出門\"],\n",
        "]\n",
        "\n",
        "text"
      ],
      "execution_count": 0,
      "outputs": [
        {
          "output_type": "execute_result",
          "data": {
            "text/plain": [
              "[['這台車真好我從來不開他'],\n",
              " ['這台手機真好我從來不用他'],\n",
              " ['這台機車真好我從來不騎他'],\n",
              " ['這碗咖哩飯真好吃我經常來吃'],\n",
              " ['這碗義大利麵真好吃我經常來餐廳吃'],\n",
              " ['這台車真好開我經常開出門']]"
            ]
          },
          "metadata": {
            "tags": []
          },
          "execution_count": 24
        }
      ]
    },
    {
      "cell_type": "code",
      "metadata": {
        "id": "FQwtggdAxUFw",
        "colab_type": "code",
        "colab": {}
      },
      "source": [
        "#請問 這台機車真好我從來不騎他 的 這碗咖哩飯真好吃我經常來吃 的關係"
      ],
      "execution_count": 0,
      "outputs": []
    },
    {
      "cell_type": "markdown",
      "metadata": {
        "id": "gE6ys347zh1B",
        "colab_type": "text"
      },
      "source": [
        "# Word2vec"
      ]
    },
    {
      "cell_type": "code",
      "metadata": {
        "id": "uWZvq_WI1zxD",
        "colab_type": "code",
        "colab": {}
      },
      "source": [
        ""
      ],
      "execution_count": 0,
      "outputs": []
    },
    {
      "cell_type": "code",
      "metadata": {
        "id": "DsE-92Q6xZci",
        "colab_type": "code",
        "outputId": "d08a264d-6019-40b7-fee1-61dc26a79f8a",
        "colab": {
          "base_uri": "https://localhost:8080/",
          "height": 34
        }
      },
      "source": [
        "from __future__ import absolute_import, division, print_function, unicode_literals\n",
        "\n",
        "try:\n",
        "  %tensorflow_version 2.x\n",
        "except Exception:\n",
        "  pass\n"
      ],
      "execution_count": 0,
      "outputs": [
        {
          "output_type": "stream",
          "text": [
            "TensorFlow 2.x selected.\n"
          ],
          "name": "stdout"
        }
      ]
    },
    {
      "cell_type": "code",
      "metadata": {
        "id": "ZEQ6nSq21xYR",
        "colab_type": "code",
        "outputId": "9eea2207-6d1e-4516-869b-1db4a90a9507",
        "colab": {
          "base_uri": "https://localhost:8080/",
          "height": 390
        }
      },
      "source": [
        "!pip install tensorflow==2.0.0-rc0 \n",
        "import tensorflow as tf\n",
        "\n",
        "from tensorflow import keras\n",
        "from tensorflow.keras import layers"
      ],
      "execution_count": 0,
      "outputs": [
        {
          "output_type": "stream",
          "text": [
            "Requirement already satisfied: tensorflow==2.0.0-rc0 in /usr/local/lib/python3.6/dist-packages (2.0.0rc0)\n",
            "Requirement already satisfied: astor>=0.6.0 in /usr/local/lib/python3.6/dist-packages (from tensorflow==2.0.0-rc0) (0.8.0)\n",
            "Requirement already satisfied: numpy<2.0,>=1.16.0 in /usr/local/lib/python3.6/dist-packages (from tensorflow==2.0.0-rc0) (1.16.4)\n",
            "Requirement already satisfied: protobuf>=3.6.1 in /usr/local/lib/python3.6/dist-packages (from tensorflow==2.0.0-rc0) (3.7.1)\n",
            "Requirement already satisfied: grpcio>=1.8.6 in /usr/local/lib/python3.6/dist-packages (from tensorflow==2.0.0-rc0) (1.15.0)\n",
            "Requirement already satisfied: wrapt>=1.11.1 in /usr/local/lib/python3.6/dist-packages (from tensorflow==2.0.0-rc0) (1.11.2)\n",
            "Requirement already satisfied: opt-einsum>=2.3.2 in /usr/local/lib/python3.6/dist-packages (from tensorflow==2.0.0-rc0) (3.0.1)\n",
            "Requirement already satisfied: google-pasta>=0.1.6 in /usr/local/lib/python3.6/dist-packages (from tensorflow==2.0.0-rc0) (0.1.7)\n",
            "Requirement already satisfied: tf-estimator-nightly<1.14.0.dev2019080602,>=1.14.0.dev2019080601 in /usr/local/lib/python3.6/dist-packages (from tensorflow==2.0.0-rc0) (1.14.0.dev2019080601)\n",
            "Requirement already satisfied: tb-nightly<1.15.0a20190807,>=1.15.0a20190806 in /usr/local/lib/python3.6/dist-packages (from tensorflow==2.0.0-rc0) (1.15.0a20190806)\n",
            "Requirement already satisfied: keras-preprocessing>=1.0.5 in /usr/local/lib/python3.6/dist-packages (from tensorflow==2.0.0-rc0) (1.1.0)\n",
            "Requirement already satisfied: six>=1.10.0 in /usr/local/lib/python3.6/dist-packages (from tensorflow==2.0.0-rc0) (1.12.0)\n",
            "Requirement already satisfied: keras-applications>=1.0.8 in /usr/local/lib/python3.6/dist-packages (from tensorflow==2.0.0-rc0) (1.0.8)\n",
            "Requirement already satisfied: wheel>=0.26 in /usr/local/lib/python3.6/dist-packages (from tensorflow==2.0.0-rc0) (0.33.4)\n",
            "Requirement already satisfied: absl-py>=0.7.0 in /usr/local/lib/python3.6/dist-packages (from tensorflow==2.0.0-rc0) (0.7.1)\n",
            "Requirement already satisfied: gast>=0.2.0 in /usr/local/lib/python3.6/dist-packages (from tensorflow==2.0.0-rc0) (0.2.2)\n",
            "Requirement already satisfied: termcolor>=1.1.0 in /usr/local/lib/python3.6/dist-packages (from tensorflow==2.0.0-rc0) (1.1.0)\n",
            "Requirement already satisfied: setuptools in /usr/local/lib/python3.6/dist-packages (from protobuf>=3.6.1->tensorflow==2.0.0-rc0) (41.2.0)\n",
            "Requirement already satisfied: markdown>=2.6.8 in /usr/local/lib/python3.6/dist-packages (from tb-nightly<1.15.0a20190807,>=1.15.0a20190806->tensorflow==2.0.0-rc0) (3.1.1)\n",
            "Requirement already satisfied: werkzeug>=0.11.15 in /usr/local/lib/python3.6/dist-packages (from tb-nightly<1.15.0a20190807,>=1.15.0a20190806->tensorflow==2.0.0-rc0) (0.15.5)\n",
            "Requirement already satisfied: h5py in /usr/local/lib/python3.6/dist-packages (from keras-applications>=1.0.8->tensorflow==2.0.0-rc0) (2.8.0)\n"
          ],
          "name": "stdout"
        }
      ]
    },
    {
      "cell_type": "code",
      "metadata": {
        "id": "UZdPi6-u16AP",
        "colab_type": "code",
        "outputId": "b6bfbae9-2207-4811-b738-8171397c1ba7",
        "colab": {
          "base_uri": "https://localhost:8080/",
          "height": 34
        }
      },
      "source": [
        "tf.__version__"
      ],
      "execution_count": 0,
      "outputs": [
        {
          "output_type": "execute_result",
          "data": {
            "text/plain": [
              "'2.0.0-rc0'"
            ]
          },
          "metadata": {
            "tags": []
          },
          "execution_count": 4
        }
      ]
    },
    {
      "cell_type": "code",
      "metadata": {
        "id": "mN61BFZT0WRO",
        "colab_type": "code",
        "colab": {}
      },
      "source": [
        "# 資料匯入\n",
        "# 25,000電影評論情緒資料（正面與負面）\n",
        "vocab_size = 10000\n",
        "imdb = keras.datasets.imdb\n",
        "(train_data, train_labels), (test_data, test_labels) = imdb.load_data(num_words=vocab_size)"
      ],
      "execution_count": 0,
      "outputs": []
    },
    {
      "cell_type": "code",
      "metadata": {
        "id": "Kx1jRiu82hrA",
        "colab_type": "code",
        "outputId": "746be591-413a-47cf-d184-28c68bc88fcb",
        "colab": {
          "base_uri": "https://localhost:8080/",
          "height": 622
        }
      },
      "source": [
        "#以下展示的數字為字典中的特定單詞\n",
        "print(train_data[1])"
      ],
      "execution_count": 0,
      "outputs": [
        {
          "output_type": "stream",
          "text": [
            "[   1  194 1153  194 8255   78  228    5    6 1463 4369 5012  134   26\n",
            "    4  715    8  118 1634   14  394   20   13  119  954  189  102    5\n",
            "  207  110 3103   21   14   69  188    8   30   23    7    4  249  126\n",
            "   93    4  114    9 2300 1523    5  647    4  116    9   35 8163    4\n",
            "  229    9  340 1322    4  118    9    4  130 4901   19    4 1002    5\n",
            "   89   29  952   46   37    4  455    9   45   43   38 1543 1905  398\n",
            "    4 1649   26 6853    5  163   11 3215    2    4 1153    9  194  775\n",
            "    7 8255    2  349 2637  148  605    2 8003   15  123  125   68    2\n",
            " 6853   15  349  165 4362   98    5    4  228    9   43    2 1157   15\n",
            "  299  120    5  120  174   11  220  175  136   50    9 4373  228 8255\n",
            "    5    2  656  245 2350    5    4 9837  131  152  491   18    2   32\n",
            " 7464 1212   14    9    6  371   78   22  625   64 1382    9    8  168\n",
            "  145   23    4 1690   15   16    4 1355    5   28    6   52  154  462\n",
            "   33   89   78  285   16  145   95    0    0    0    0    0    0    0\n",
            "    0    0    0    0    0    0    0    0    0    0    0    0    0    0\n",
            "    0    0    0    0    0    0    0    0    0    0    0    0    0    0\n",
            "    0    0    0    0    0    0    0    0    0    0    0    0    0    0\n",
            "    0    0    0    0    0    0    0    0    0    0    0    0    0    0\n",
            "    0    0    0    0    0    0    0    0    0    0    0    0    0    0\n",
            "    0    0    0    0    0    0    0    0    0    0    0    0    0    0\n",
            "    0    0    0    0    0    0    0    0    0    0    0    0    0    0\n",
            "    0    0    0    0    0    0    0    0    0    0    0    0    0    0\n",
            "    0    0    0    0    0    0    0    0    0    0    0    0    0    0\n",
            "    0    0    0    0    0    0    0    0    0    0    0    0    0    0\n",
            "    0    0    0    0    0    0    0    0    0    0    0    0    0    0\n",
            "    0    0    0    0    0    0    0    0    0    0    0    0    0    0\n",
            "    0    0    0    0    0    0    0    0    0    0    0    0    0    0\n",
            "    0    0    0    0    0    0    0    0    0    0    0    0    0    0\n",
            "    0    0    0    0    0    0    0    0    0    0    0    0    0    0\n",
            "    0    0    0    0    0    0    0    0    0    0    0    0    0    0\n",
            "    0    0    0    0    0    0    0    0    0    0    0    0    0    0\n",
            "    0    0    0    0    0    0    0    0    0    0    0    0    0    0\n",
            "    0    0    0    0    0    0    0    0    0    0    0    0    0    0\n",
            "    0    0    0    0    0    0    0    0    0    0    0    0    0    0\n",
            "    0    0    0    0    0    0    0    0    0    0    0    0    0    0\n",
            "    0    0    0    0    0    0    0    0    0    0]\n"
          ],
          "name": "stdout"
        }
      ]
    },
    {
      "cell_type": "code",
      "metadata": {
        "id": "8yfxvlKg0ixW",
        "colab_type": "code",
        "outputId": "24847225-3a9d-433a-e155-1a2a4efa91e5",
        "colab": {
          "base_uri": "https://localhost:8080/",
          "height": 54
        }
      },
      "source": [
        "word_index = imdb.get_word_index()\n",
        "\n",
        "word_index = {k:(v+3) for k,v in word_index.items()}\n",
        "word_index[\"<PAD>\"] = 0 #填充長度不一的內容\n",
        "word_index[\"<START>\"] = 1 #開始的代號\n",
        "word_index[\"<UNK>\"] = 2   # 詞彙表沒有的詞，如人名\n",
        "word_index[\"<UNUSED>\"] = 3 #沒用到的詞\n",
        "\n",
        "reverse_word_index = dict([(value, key) for (key, value) in word_index.items()])\n",
        "\n",
        "def decode_review(text):\n",
        "    return ' '.join([reverse_word_index.get(i, '?') for i in text])\n",
        "\n",
        "decode_review(train_data[0])"
      ],
      "execution_count": 0,
      "outputs": [
        {
          "output_type": "execute_result",
          "data": {
            "text/plain": [
              "\"<START> this film was just brilliant casting location scenery story direction everyone's really suited the part they played and you could just imagine being there robert <UNK> is an amazing actor and now the same being director <UNK> father came from the same scottish island as myself so i loved the fact there was a real connection with this film the witty remarks throughout the film were great it was just brilliant so much that i bought the film as soon as it was released for <UNK> and would recommend it to everyone to watch and the fly fishing was amazing really cried at the end it was so sad and you know what they say if you cry at a film it must have been good and this definitely was also <UNK> to the two little boy's that played the <UNK> of norman and paul they were just brilliant children are often left out of the <UNK> list i think because the stars that play them all grown up are such a big profile for the whole film but these children are amazing and should be praised for what they have done don't you think the whole story was so lovely because it was true and was someone's life after all that was shared with us all\""
            ]
          },
          "metadata": {
            "tags": []
          },
          "execution_count": 6
        }
      ]
    },
    {
      "cell_type": "code",
      "metadata": {
        "id": "V_RR6wo11Fiv",
        "colab_type": "code",
        "colab": {}
      },
      "source": [
        "#透過pad_sequences來將電影的評論進行長度的標準化\n",
        "maxlen = 500\n",
        "\n",
        "train_data = keras.preprocessing.sequence.pad_sequences(train_data,\n",
        "                                                        value=word_index[\"<PAD>\"],\n",
        "                                                        padding='post',\n",
        "                                                        maxlen=maxlen)\n",
        "\n",
        "test_data = keras.preprocessing.sequence.pad_sequences(test_data,\n",
        "                                                       value=word_index[\"<PAD>\"],\n",
        "                                                       padding='post',\n",
        "                                                       maxlen=maxlen)"
      ],
      "execution_count": 0,
      "outputs": []
    },
    {
      "cell_type": "code",
      "metadata": {
        "id": "pYeXzGuV1LJi",
        "colab_type": "code",
        "outputId": "455e69ba-eb21-469d-d4c2-4b6c8bb7f07b",
        "colab": {
          "base_uri": "https://localhost:8080/",
          "height": 286
        }
      },
      "source": [
        "embedding_dim=16\n",
        "\n",
        "model = keras.Sequential([\n",
        "  #第一層採用Embedding（單詞的範圍大小、Embedding向量的維度、單一句子的最大長度）\n",
        "  layers.Embedding(vocab_size, embedding_dim, input_length=maxlen),\n",
        "  #對字串做最大池化\n",
        "  layers.GlobalAveragePooling1D(),\n",
        "  #建立16顆神經單元的輸出\n",
        "  layers.Dense(16, activation='relu'),\n",
        "  #建立1顆神經單元的輸出，並使用0~1間的激活函數，確保輸出為機率的範圍\n",
        "  layers.Dense(1, activation='sigmoid')\n",
        "])\n",
        "\n",
        "model.summary()"
      ],
      "execution_count": 0,
      "outputs": [
        {
          "output_type": "stream",
          "text": [
            "Model: \"sequential\"\n",
            "_________________________________________________________________\n",
            "Layer (type)                 Output Shape              Param #   \n",
            "=================================================================\n",
            "embedding (Embedding)        (None, 500, 16)           160000    \n",
            "_________________________________________________________________\n",
            "global_average_pooling1d (Gl (None, 16)                0         \n",
            "_________________________________________________________________\n",
            "dense (Dense)                (None, 16)                272       \n",
            "_________________________________________________________________\n",
            "dense_1 (Dense)              (None, 1)                 17        \n",
            "=================================================================\n",
            "Total params: 160,289\n",
            "Trainable params: 160,289\n",
            "Non-trainable params: 0\n",
            "_________________________________________________________________\n"
          ],
          "name": "stdout"
        }
      ]
    },
    {
      "cell_type": "code",
      "metadata": {
        "id": "1BlCSbVo1OOW",
        "colab_type": "code",
        "outputId": "b6870300-8aec-4e96-ef30-d10f1e777c60",
        "colab": {
          "base_uri": "https://localhost:8080/",
          "height": 1000
        }
      },
      "source": [
        "model.compile(optimizer='adam',\n",
        "              loss='binary_crossentropy',\n",
        "              metrics=['accuracy'])\n",
        "\n",
        "history = model.fit(\n",
        "    train_data,\n",
        "    train_labels,\n",
        "    epochs=30,\n",
        "    batch_size=512,\n",
        "    validation_data=(test_data, test_labels))"
      ],
      "execution_count": 0,
      "outputs": [
        {
          "output_type": "stream",
          "text": [
            "WARNING: Logging before flag parsing goes to stderr.\n",
            "W0824 08:58:18.508578 140460605884288 deprecation.py:323] From /usr/local/lib/python3.6/dist-packages/tensorflow_core/python/ops/nn_impl.py:183: where (from tensorflow.python.ops.array_ops) is deprecated and will be removed in a future version.\n",
            "Instructions for updating:\n",
            "Use tf.where in 2.0, which has the same broadcast rule as np.where\n"
          ],
          "name": "stderr"
        },
        {
          "output_type": "stream",
          "text": [
            "Train on 25000 samples, validate on 25000 samples\n",
            "Epoch 1/30\n",
            "25000/25000 [==============================] - 3s 130us/sample - loss: 0.6922 - accuracy: 0.5717 - val_loss: 0.6907 - val_accuracy: 0.6168\n",
            "Epoch 2/30\n",
            "25000/25000 [==============================] - 2s 97us/sample - loss: 0.6867 - accuracy: 0.6715 - val_loss: 0.6816 - val_accuracy: 0.7119\n",
            "Epoch 3/30\n",
            "25000/25000 [==============================] - 2s 97us/sample - loss: 0.6687 - accuracy: 0.7242 - val_loss: 0.6567 - val_accuracy: 0.7526\n",
            "Epoch 4/30\n",
            "25000/25000 [==============================] - 2s 96us/sample - loss: 0.6297 - accuracy: 0.7727 - val_loss: 0.6093 - val_accuracy: 0.7790\n",
            "Epoch 5/30\n",
            "25000/25000 [==============================] - 2s 96us/sample - loss: 0.5706 - accuracy: 0.8043 - val_loss: 0.5516 - val_accuracy: 0.8057\n",
            "Epoch 6/30\n",
            "25000/25000 [==============================] - 2s 97us/sample - loss: 0.5066 - accuracy: 0.8318 - val_loss: 0.4959 - val_accuracy: 0.8235\n",
            "Epoch 7/30\n",
            "25000/25000 [==============================] - 2s 96us/sample - loss: 0.4484 - accuracy: 0.8537 - val_loss: 0.4469 - val_accuracy: 0.8405\n",
            "Epoch 8/30\n",
            "25000/25000 [==============================] - 2s 98us/sample - loss: 0.4001 - accuracy: 0.8693 - val_loss: 0.4097 - val_accuracy: 0.8523\n",
            "Epoch 9/30\n",
            "25000/25000 [==============================] - 2s 96us/sample - loss: 0.3620 - accuracy: 0.8782 - val_loss: 0.3815 - val_accuracy: 0.8594\n",
            "Epoch 10/30\n",
            "25000/25000 [==============================] - 2s 97us/sample - loss: 0.3326 - accuracy: 0.8872 - val_loss: 0.3604 - val_accuracy: 0.8647\n",
            "Epoch 11/30\n",
            "25000/25000 [==============================] - 2s 97us/sample - loss: 0.3087 - accuracy: 0.8929 - val_loss: 0.3438 - val_accuracy: 0.8686\n",
            "Epoch 12/30\n",
            "25000/25000 [==============================] - 2s 96us/sample - loss: 0.2894 - accuracy: 0.8991 - val_loss: 0.3312 - val_accuracy: 0.8720\n",
            "Epoch 13/30\n",
            "25000/25000 [==============================] - 2s 97us/sample - loss: 0.2732 - accuracy: 0.9051 - val_loss: 0.3205 - val_accuracy: 0.8758\n",
            "Epoch 14/30\n",
            "25000/25000 [==============================] - 2s 98us/sample - loss: 0.2594 - accuracy: 0.9087 - val_loss: 0.3147 - val_accuracy: 0.8752\n",
            "Epoch 15/30\n",
            "25000/25000 [==============================] - 2s 99us/sample - loss: 0.2468 - accuracy: 0.9136 - val_loss: 0.3059 - val_accuracy: 0.8791\n",
            "Epoch 16/30\n",
            "25000/25000 [==============================] - 3s 100us/sample - loss: 0.2358 - accuracy: 0.9174 - val_loss: 0.3011 - val_accuracy: 0.8802\n",
            "Epoch 17/30\n",
            "25000/25000 [==============================] - 2s 99us/sample - loss: 0.2260 - accuracy: 0.9214 - val_loss: 0.2964 - val_accuracy: 0.8826\n",
            "Epoch 18/30\n",
            "25000/25000 [==============================] - 2s 97us/sample - loss: 0.2179 - accuracy: 0.9240 - val_loss: 0.2938 - val_accuracy: 0.8828\n",
            "Epoch 19/30\n",
            "25000/25000 [==============================] - 2s 96us/sample - loss: 0.2087 - accuracy: 0.9273 - val_loss: 0.2904 - val_accuracy: 0.8840\n",
            "Epoch 20/30\n",
            "25000/25000 [==============================] - 2s 96us/sample - loss: 0.2012 - accuracy: 0.9305 - val_loss: 0.2913 - val_accuracy: 0.8836\n",
            "Epoch 21/30\n",
            "25000/25000 [==============================] - 2s 96us/sample - loss: 0.1945 - accuracy: 0.9324 - val_loss: 0.2875 - val_accuracy: 0.8844\n",
            "Epoch 22/30\n",
            "25000/25000 [==============================] - 2s 99us/sample - loss: 0.1880 - accuracy: 0.9358 - val_loss: 0.2893 - val_accuracy: 0.8843\n",
            "Epoch 23/30\n",
            "25000/25000 [==============================] - 2s 97us/sample - loss: 0.1827 - accuracy: 0.9376 - val_loss: 0.2852 - val_accuracy: 0.8861\n",
            "Epoch 24/30\n",
            "25000/25000 [==============================] - 2s 98us/sample - loss: 0.1761 - accuracy: 0.9407 - val_loss: 0.2853 - val_accuracy: 0.8856\n",
            "Epoch 25/30\n",
            "25000/25000 [==============================] - 2s 97us/sample - loss: 0.1706 - accuracy: 0.9424 - val_loss: 0.2854 - val_accuracy: 0.8861\n",
            "Epoch 26/30\n",
            "25000/25000 [==============================] - 2s 97us/sample - loss: 0.1656 - accuracy: 0.9447 - val_loss: 0.2874 - val_accuracy: 0.8852\n",
            "Epoch 27/30\n",
            "25000/25000 [==============================] - 2s 97us/sample - loss: 0.1615 - accuracy: 0.9457 - val_loss: 0.2868 - val_accuracy: 0.8857\n",
            "Epoch 28/30\n",
            "25000/25000 [==============================] - 2s 97us/sample - loss: 0.1562 - accuracy: 0.9480 - val_loss: 0.2886 - val_accuracy: 0.8857\n",
            "Epoch 29/30\n",
            "25000/25000 [==============================] - 2s 97us/sample - loss: 0.1523 - accuracy: 0.9497 - val_loss: 0.2901 - val_accuracy: 0.8854\n",
            "Epoch 30/30\n",
            "25000/25000 [==============================] - 2s 96us/sample - loss: 0.1479 - accuracy: 0.9517 - val_loss: 0.2911 - val_accuracy: 0.8859\n"
          ],
          "name": "stdout"
        }
      ]
    },
    {
      "cell_type": "code",
      "metadata": {
        "id": "TG8RO0SA1Qbm",
        "colab_type": "code",
        "outputId": "6ddb66f9-4f9d-42c5-d701-4aa51a5f2607",
        "colab": {
          "base_uri": "https://localhost:8080/",
          "height": 1000
        }
      },
      "source": [
        "import matplotlib.pyplot as plt\n",
        "\n",
        "history_dict = history.history\n",
        "\n",
        "acc = history_dict['accuracy']\n",
        "val_acc = history_dict['val_accuracy']\n",
        "loss = history_dict['loss']\n",
        "val_loss = history_dict['val_loss']\n",
        "\n",
        "epochs = range(1, len(acc) + 1)\n",
        "\n",
        "plt.figure(figsize=(12,9))\n",
        "plt.plot(epochs, loss, 'bo', label='Training loss')\n",
        "plt.plot(epochs, val_loss, 'b', label='Validation loss')\n",
        "plt.title('Training and validation loss')\n",
        "plt.xlabel('Epochs')\n",
        "plt.ylabel('Loss')\n",
        "plt.legend()\n",
        "plt.show()\n",
        "\n",
        "plt.figure(figsize=(12,9))\n",
        "plt.plot(epochs, acc, 'bo', label='Training acc')\n",
        "plt.plot(epochs, val_acc, 'b', label='Validation acc')\n",
        "plt.title('Training and validation accuracy')\n",
        "plt.xlabel('Epochs')\n",
        "plt.ylabel('Accuracy')\n",
        "plt.legend(loc='lower right')\n",
        "plt.ylim((0.5,1))\n",
        "plt.show()"
      ],
      "execution_count": 0,
      "outputs": [
        {
          "output_type": "display_data",
          "data": {
            "image/png": "[encoded data removed]",
            "text/plain": [
              "<Figure size 864x648 with 1 Axes>"
            ]
          },
          "metadata": {
            "tags": []
          }
        },
        {
          "output_type": "display_data",
          "data": {
            "image/png": "[encoded data removed]",
            "text/plain": [
              "<Figure size 864x648 with 1 Axes>"
            ]
          },
          "metadata": {
            "tags": []
          }
        }
      ]
    },
    {
      "cell_type": "code",
      "metadata": {
        "id": "fn3AUcB41VmK",
        "colab_type": "code",
        "outputId": "4dedc310-10f9-4464-88f5-9cb13553560c",
        "colab": {
          "base_uri": "https://localhost:8080/",
          "height": 34
        }
      },
      "source": [
        "e = model.layers[0]\n",
        "weights = e.get_weights()[0]\n",
        "print(weights.shape) # shape: (vocab_size, embedding_dim)\n",
        "#10000為詞彙表，16為詞向量維度"
      ],
      "execution_count": 0,
      "outputs": [
        {
          "output_type": "stream",
          "text": [
            "(10000, 16)\n"
          ],
          "name": "stdout"
        }
      ]
    },
    {
      "cell_type": "code",
      "metadata": {
        "id": "xUQC9w-q1Xdu",
        "colab_type": "code",
        "colab": {}
      },
      "source": [
        "import io\n",
        "\n",
        "#vecs.tsv向量文件（16個維度）\n",
        "#meta.tsv單詞文件（10000個單詞）\n",
        "\n",
        "out_v = io.open('vecs.tsv', 'w', encoding='utf-8')\n",
        "out_m = io.open('meta.tsv', 'w', encoding='utf-8')\n",
        "for word_num in range(vocab_size):\n",
        "  word = reverse_word_index[word_num]\n",
        "  embeddings = weights[word_num]\n",
        "  out_m.write(word + \"\\n\")\n",
        "  out_v.write('\\t'.join([str(x) for x in embeddings]) + \"\\n\")\n",
        "out_v.close()\n",
        "out_m.close()"
      ],
      "execution_count": 0,
      "outputs": []
    },
    {
      "cell_type": "code",
      "metadata": {
        "id": "h1E9HT7a1ZSh",
        "colab_type": "code",
        "colab": {}
      },
      "source": [
        "try:\n",
        "  from google.colab import files\n",
        "except ImportError:\n",
        "   pass\n",
        "else:\n",
        "  files.download('vecs.tsv')\n",
        "  files.download('meta.tsv')"
      ],
      "execution_count": 0,
      "outputs": []
    },
    {
      "cell_type": "code",
      "metadata": {
        "id": "3-vky2081b5H",
        "colab_type": "code",
        "colab": {}
      },
      "source": [
        "#http://projector.tensorflow.org/"
      ],
      "execution_count": 0,
      "outputs": []
    },
    {
      "cell_type": "code",
      "metadata": {
        "id": "Ao90ftEg2Q8Q",
        "colab_type": "code",
        "colab": {}
      },
      "source": [
        "#嘗試輸入beautiful\n",
        "#嘗試刪除Dense(16) layer 試試看"
      ],
      "execution_count": 0,
      "outputs": []
    },
    {
      "cell_type": "markdown",
      "metadata": {
        "id": "s3HpyWhqAMYJ",
        "colab_type": "text"
      },
      "source": [
        "# elmo in Tensorflow Hub"
      ]
    },
    {
      "cell_type": "code",
      "metadata": {
        "id": "TyPXUFe3ATue",
        "colab_type": "code",
        "outputId": "d1725ec5-a938-4c1a-a13c-a0e68888c6ba",
        "colab": {
          "base_uri": "https://localhost:8080/",
          "height": 709
        }
      },
      "source": [
        "# https://tfhub.dev/google/elmo/2\n",
        "!pip install \"tensorflow_hub==0.4.0\"\n",
        "!pip install \"tf-nightly\"\n",
        "import tensorflow as tf\n",
        "import tensorflow_hub as hub"
      ],
      "execution_count": 0,
      "outputs": [
        {
          "output_type": "stream",
          "text": [
            "Requirement already satisfied: tensorflow_hub==0.4.0 in /usr/local/lib/python3.6/dist-packages (0.4.0)\n",
            "Requirement already satisfied: numpy>=1.12.0 in /usr/local/lib/python3.6/dist-packages (from tensorflow_hub==0.4.0) (1.16.4)\n",
            "Requirement already satisfied: protobuf>=3.4.0 in /usr/local/lib/python3.6/dist-packages (from tensorflow_hub==0.4.0) (3.7.1)\n",
            "Requirement already satisfied: six>=1.10.0 in /usr/local/lib/python3.6/dist-packages (from tensorflow_hub==0.4.0) (1.12.0)\n",
            "Requirement already satisfied: setuptools in /usr/local/lib/python3.6/dist-packages (from protobuf>=3.4.0->tensorflow_hub==0.4.0) (41.2.0)\n",
            "Requirement already satisfied: tf-nightly in /usr/local/lib/python3.6/dist-packages (1.15.0.dev20190821)\n",
            "Requirement already satisfied: tb-nightly<1.16.0a0,>=1.15.0a0 in /usr/local/lib/python3.6/dist-packages (from tf-nightly) (1.15.0a20190806)\n",
            "Requirement already satisfied: keras-applications>=1.0.8 in /usr/local/lib/python3.6/dist-packages (from tf-nightly) (1.0.8)\n",
            "Requirement already satisfied: wrapt>=1.11.1 in /usr/local/lib/python3.6/dist-packages (from tf-nightly) (1.11.2)\n",
            "Requirement already satisfied: google-pasta>=0.1.6 in /usr/local/lib/python3.6/dist-packages (from tf-nightly) (0.1.7)\n",
            "Requirement already satisfied: keras-preprocessing>=1.0.5 in /usr/local/lib/python3.6/dist-packages (from tf-nightly) (1.1.0)\n",
            "Requirement already satisfied: opt-einsum>=2.3.2 in /usr/local/lib/python3.6/dist-packages (from tf-nightly) (3.0.1)\n",
            "Requirement already satisfied: termcolor>=1.1.0 in /usr/local/lib/python3.6/dist-packages (from tf-nightly) (1.1.0)\n",
            "Requirement already satisfied: absl-py>=0.7.0 in /usr/local/lib/python3.6/dist-packages (from tf-nightly) (0.7.1)\n",
            "Requirement already satisfied: numpy<2.0,>=1.16.0 in /usr/local/lib/python3.6/dist-packages (from tf-nightly) (1.16.4)\n",
            "Requirement already satisfied: gast>=0.2.0 in /usr/local/lib/python3.6/dist-packages (from tf-nightly) (0.2.2)\n",
            "Requirement already satisfied: tf-estimator-nightly in /usr/local/lib/python3.6/dist-packages (from tf-nightly) (1.14.0.dev2019080601)\n",
            "Requirement already satisfied: astor>=0.6.0 in /usr/local/lib/python3.6/dist-packages (from tf-nightly) (0.8.0)\n",
            "Requirement already satisfied: wheel>=0.26 in /usr/local/lib/python3.6/dist-packages (from tf-nightly) (0.33.4)\n",
            "Requirement already satisfied: protobuf>=3.6.1 in /usr/local/lib/python3.6/dist-packages (from tf-nightly) (3.7.1)\n",
            "Requirement already satisfied: six>=1.10.0 in /usr/local/lib/python3.6/dist-packages (from tf-nightly) (1.12.0)\n",
            "Requirement already satisfied: grpcio>=1.8.6 in /usr/local/lib/python3.6/dist-packages (from tf-nightly) (1.15.0)\n",
            "Requirement already satisfied: setuptools>=41.0.0 in /usr/local/lib/python3.6/dist-packages (from tb-nightly<1.16.0a0,>=1.15.0a0->tf-nightly) (41.2.0)\n",
            "Requirement already satisfied: werkzeug>=0.11.15 in /usr/local/lib/python3.6/dist-packages (from tb-nightly<1.16.0a0,>=1.15.0a0->tf-nightly) (0.15.5)\n",
            "Requirement already satisfied: markdown>=2.6.8 in /usr/local/lib/python3.6/dist-packages (from tb-nightly<1.16.0a0,>=1.15.0a0->tf-nightly) (3.1.1)\n",
            "Requirement already satisfied: h5py in /usr/local/lib/python3.6/dist-packages (from keras-applications>=1.0.8->tf-nightly) (2.8.0)\n"
          ],
          "name": "stdout"
        },
        {
          "output_type": "stream",
          "text": [
            "WARNING: Logging before flag parsing goes to stderr.\n",
            "W0824 10:19:06.556741 140274628392832 __init__.py:690] \n",
            "\n",
            "  TensorFlow's `tf-nightly` package will soon be updated to TensorFlow 2.0.\n",
            "\n",
            "  Please upgrade your code to TensorFlow 2.0:\n",
            "    * https://www.tensorflow.org/beta/guide/migration_guide\n",
            "\n",
            "  Or install the latest stable TensorFlow 1.X release:\n",
            "    * `pip install -U \"tensorflow==1.*\"`\n",
            "\n",
            "  Otherwise your code may be broken by the change.\n",
            "\n",
            "  \n"
          ],
          "name": "stderr"
        }
      ]
    },
    {
      "cell_type": "code",
      "metadata": {
        "id": "ocWBPfHnCxwK",
        "colab_type": "code",
        "outputId": "94879d54-c16a-4b2c-ec95-824bc1414602",
        "colab": {
          "base_uri": "https://localhost:8080/",
          "height": 34
        }
      },
      "source": [
        "#'1.15.0-dev20190821'\n",
        "tf.__version__"
      ],
      "execution_count": 0,
      "outputs": [
        {
          "output_type": "execute_result",
          "data": {
            "text/plain": [
              "'1.15.0-dev20190821'"
            ]
          },
          "metadata": {
            "tags": []
          },
          "execution_count": 2
        }
      ]
    },
    {
      "cell_type": "code",
      "metadata": {
        "id": "blVIkvAsCwXK",
        "colab_type": "code",
        "colab": {}
      },
      "source": [
        "elmo = hub.Module(\"https://tfhub.dev/google/elmo/2\", trainable=True)\n",
        "embeddings = elmo(\n",
        "    [\"the cat is on the mat\", \"dogs are in the fog\"],\n",
        "    signature=\"default\",\n",
        "    as_dict=True)[\"elmo\"]\n"
      ],
      "execution_count": 0,
      "outputs": []
    },
    {
      "cell_type": "code",
      "metadata": {
        "id": "DBESITbBGaZL",
        "colab_type": "code",
        "outputId": "727f9e29-a14e-4af4-f83c-02b504f5ed26",
        "colab": {
          "base_uri": "https://localhost:8080/",
          "height": 437
        }
      },
      "source": [
        "init = tf.global_variables_initializer()\n",
        "sess = tf.Session()\n",
        "sess.run(init)\n",
        "\n",
        "print(sess.run([embeddings]))"
      ],
      "execution_count": 0,
      "outputs": [
        {
          "output_type": "stream",
          "text": [
            "[array([[[ 3.0815446e-01,  2.6630378e-01,  2.3561318e-01, ...,\n",
            "         -3.7085700e-01,  1.6490485e-01, -7.2459400e-02],\n",
            "        [ 5.1428747e-01, -1.3532342e-01,  1.1090420e-01, ...,\n",
            "          4.0468417e-02, -4.7897615e-02,  7.3659599e-01],\n",
            "        [-2.5880523e-02, -7.2836205e-02, -7.9355910e-02, ...,\n",
            "         -2.9072449e-01,  7.2421384e-01,  4.3863493e-01],\n",
            "        [-3.4798056e-01, -2.9102534e-02, -8.1993049e-01, ...,\n",
            "         -9.2048419e-01,  2.1887727e-02,  1.2106007e-01],\n",
            "        [-2.1827470e-01, -1.3076583e-01, -2.5209606e-01, ...,\n",
            "         -2.9693565e-01, -1.5828055e-01, -4.9007621e-02],\n",
            "        [ 1.0072546e-01, -2.9534407e-02, -2.4494278e-01, ...,\n",
            "         -3.7235114e-01, -1.4875799e-01,  2.1592233e-01]],\n",
            "\n",
            "       [[ 5.4578602e-02, -2.6427537e-01,  4.6843791e-01, ...,\n",
            "         -1.4077078e-01, -2.6568234e-01,  4.5212010e-01],\n",
            "        [ 8.0942839e-02,  1.1583914e-01, -1.5670604e-01, ...,\n",
            "         -2.6896149e-01,  3.3871955e-01,  1.1577109e-02],\n",
            "        [-7.8964338e-02,  9.4927549e-01, -6.1804879e-01, ...,\n",
            "         -6.3055873e-01,  3.0942985e-01,  1.5378729e-01],\n",
            "        [-6.7808568e-02,  9.7187772e-02, -3.6225450e-01, ...,\n",
            "          7.7500165e-02, -6.1660841e-02,  6.0047470e-02],\n",
            "        [-2.6228279e-04, -1.2609774e-01, -5.3394741e-01, ...,\n",
            "          4.2921811e-01,  1.2804602e-01,  5.3191936e-01],\n",
            "        [-2.8408406e-02, -4.3532155e-02,  4.1301623e-02, ...,\n",
            "          2.5831681e-02, -1.4298355e-02, -1.6504223e-02]]], dtype=float32)]\n"
          ],
          "name": "stdout"
        }
      ]
    },
    {
      "cell_type": "code",
      "metadata": {
        "id": "fqMBKorPB8p5",
        "colab_type": "code",
        "colab": {}
      },
      "source": [
        "elmo = hub.Module(\"https://tfhub.dev/google/elmo/2\", trainable=True)\n",
        "tokens_input = [[\"the\", \"cat\", \"is\", \"on\", \"the\", \"mat\"],\n",
        "                [\"dogs\", \"are\", \"in\", \"the\", \"fog\", \"\"]]\n",
        "tokens_length = [6, 5]\n",
        "embeddings = elmo(\n",
        "    inputs={\n",
        "        \"tokens\": tokens_input,\n",
        "        \"sequence_len\": tokens_length\n",
        "    },\n",
        "    signature=\"tokens\",\n",
        "    as_dict=True)[\"elmo\"]"
      ],
      "execution_count": 0,
      "outputs": []
    },
    {
      "cell_type": "code",
      "metadata": {
        "id": "JWjSUgcxCpR1",
        "colab_type": "code",
        "colab": {}
      },
      "source": [
        ""
      ],
      "execution_count": 0,
      "outputs": []
    },
    {
      "cell_type": "markdown",
      "metadata": {
        "id": "Yu3EOFKYDdOa",
        "colab_type": "text"
      },
      "source": [
        "# elmo"
      ]
    },
    {
      "cell_type": "code",
      "metadata": {
        "id": "iygqodtMHXVm",
        "colab_type": "code",
        "outputId": "7f6accda-d4ac-476d-de13-16ee5dd33e16",
        "colab": {
          "base_uri": "https://localhost:8080/",
          "height": 574
        }
      },
      "source": [
        "#!pip install tensorflow=='1.14.0'\n",
        "#!pip install \"tensorflow_hub==0.4.0\""
      ],
      "execution_count": 0,
      "outputs": [
        {
          "output_type": "stream",
          "text": [
            "Requirement already satisfied: tensorflow==1.14.0 in /usr/local/lib/python3.6/dist-packages (1.14.0)\n",
            "Requirement already satisfied: google-pasta>=0.1.6 in /usr/local/lib/python3.6/dist-packages (from tensorflow==1.14.0) (0.1.7)\n",
            "Requirement already satisfied: keras-applications>=1.0.6 in /usr/local/lib/python3.6/dist-packages (from tensorflow==1.14.0) (1.0.8)\n",
            "Requirement already satisfied: protobuf>=3.6.1 in /usr/local/lib/python3.6/dist-packages (from tensorflow==1.14.0) (3.7.1)\n",
            "Requirement already satisfied: absl-py>=0.7.0 in /usr/local/lib/python3.6/dist-packages (from tensorflow==1.14.0) (0.7.1)\n",
            "Requirement already satisfied: termcolor>=1.1.0 in /usr/local/lib/python3.6/dist-packages (from tensorflow==1.14.0) (1.1.0)\n",
            "Requirement already satisfied: tensorflow-estimator<1.15.0rc0,>=1.14.0rc0 in /usr/local/lib/python3.6/dist-packages (from tensorflow==1.14.0) (1.14.0)\n",
            "Requirement already satisfied: keras-preprocessing>=1.0.5 in /usr/local/lib/python3.6/dist-packages (from tensorflow==1.14.0) (1.1.0)\n",
            "Requirement already satisfied: gast>=0.2.0 in /usr/local/lib/python3.6/dist-packages (from tensorflow==1.14.0) (0.2.2)\n",
            "Requirement already satisfied: numpy<2.0,>=1.14.5 in /usr/local/lib/python3.6/dist-packages (from tensorflow==1.14.0) (1.16.4)\n",
            "Requirement already satisfied: tensorboard<1.15.0,>=1.14.0 in /usr/local/lib/python3.6/dist-packages (from tensorflow==1.14.0) (1.14.0)\n",
            "Requirement already satisfied: grpcio>=1.8.6 in /usr/local/lib/python3.6/dist-packages (from tensorflow==1.14.0) (1.15.0)\n",
            "Requirement already satisfied: wrapt>=1.11.1 in /usr/local/lib/python3.6/dist-packages (from tensorflow==1.14.0) (1.11.2)\n",
            "Requirement already satisfied: wheel>=0.26 in /usr/local/lib/python3.6/dist-packages (from tensorflow==1.14.0) (0.33.4)\n",
            "Requirement already satisfied: astor>=0.6.0 in /usr/local/lib/python3.6/dist-packages (from tensorflow==1.14.0) (0.8.0)\n",
            "Requirement already satisfied: six>=1.10.0 in /usr/local/lib/python3.6/dist-packages (from tensorflow==1.14.0) (1.12.0)\n",
            "Requirement already satisfied: h5py in /usr/local/lib/python3.6/dist-packages (from keras-applications>=1.0.6->tensorflow==1.14.0) (2.8.0)\n",
            "Requirement already satisfied: setuptools in /usr/local/lib/python3.6/dist-packages (from protobuf>=3.6.1->tensorflow==1.14.0) (41.2.0)\n",
            "Requirement already satisfied: werkzeug>=0.11.15 in /usr/local/lib/python3.6/dist-packages (from tensorboard<1.15.0,>=1.14.0->tensorflow==1.14.0) (0.15.5)\n",
            "Requirement already satisfied: markdown>=2.6.8 in /usr/local/lib/python3.6/dist-packages (from tensorboard<1.15.0,>=1.14.0->tensorflow==1.14.0) (3.1.1)\n",
            "Collecting tensorflow_hub==0.4.0\n",
            "\u001b[?25l  Downloading https://files.pythonhosted.org/packages/10/5c/6f3698513cf1cd730a5ea66aec665d213adf9de59b34f362f270e0bd126f/tensorflow_hub-0.4.0-py2.py3-none-any.whl (75kB)\n",
            "\u001b[K     |████████████████████████████████| 81kB 3.8MB/s \n",
            "\u001b[?25hRequirement already satisfied: six>=1.10.0 in /usr/local/lib/python3.6/dist-packages (from tensorflow_hub==0.4.0) (1.12.0)\n",
            "Requirement already satisfied: numpy>=1.12.0 in /usr/local/lib/python3.6/dist-packages (from tensorflow_hub==0.4.0) (1.16.4)\n",
            "Requirement already satisfied: protobuf>=3.4.0 in /usr/local/lib/python3.6/dist-packages (from tensorflow_hub==0.4.0) (3.7.1)\n",
            "Requirement already satisfied: setuptools in /usr/local/lib/python3.6/dist-packages (from protobuf>=3.4.0->tensorflow_hub==0.4.0) (41.2.0)\n",
            "Installing collected packages: tensorflow-hub\n",
            "  Found existing installation: tensorflow-hub 0.5.0\n",
            "    Uninstalling tensorflow-hub-0.5.0:\n",
            "      Successfully uninstalled tensorflow-hub-0.5.0\n",
            "Successfully installed tensorflow-hub-0.4.0\n"
          ],
          "name": "stdout"
        }
      ]
    },
    {
      "cell_type": "code",
      "metadata": {
        "id": "ZKRYt2w1DozS",
        "colab_type": "code",
        "outputId": "38ea2662-c553-44c7-ee0c-9bfc91ffd76f",
        "colab": {
          "base_uri": "https://localhost:8080/",
          "height": 34
        }
      },
      "source": [
        "import tensorflow as tf\n",
        "import pandas as pd\n",
        "import tensorflow_hub as hub\n",
        "import os\n",
        "import re\n",
        "from keras import backend as K\n",
        "import keras.layers as layers\n",
        "from keras.models import Model, load_model\n",
        "from keras.engine import Layer\n",
        "import numpy as np"
      ],
      "execution_count": 0,
      "outputs": [
        {
          "output_type": "stream",
          "text": [
            "Using TensorFlow backend.\n"
          ],
          "name": "stderr"
        }
      ]
    },
    {
      "cell_type": "code",
      "metadata": {
        "id": "aVkaoejVDeu2",
        "colab_type": "code",
        "outputId": "1203dea3-ec5f-41b1-86ac-c5c0a211cbb3",
        "colab": {
          "base_uri": "https://localhost:8080/",
          "height": 195
        }
      },
      "source": [
        "# Load all files from a directory in a DataFrame.\n",
        "def load_directory_data(directory):\n",
        "  data = {}\n",
        "  data[\"sentence\"] = []\n",
        "  data[\"sentiment\"] = []\n",
        "  for file_path in os.listdir(directory):\n",
        "    with tf.gfile.GFile(os.path.join(directory, file_path), \"r\") as f:\n",
        "      data[\"sentence\"].append(f.read())\n",
        "      data[\"sentiment\"].append(re.match(\"\\d+_(\\d+)\\.txt\", file_path).group(1))\n",
        "  return pd.DataFrame.from_dict(data)\n",
        "\n",
        "# Merge positive and negative examples, add a polarity column and shuffle.\n",
        "def load_dataset(directory):\n",
        "  pos_df = load_directory_data(os.path.join(directory, \"pos\"))\n",
        "  neg_df = load_directory_data(os.path.join(directory, \"neg\"))\n",
        "  pos_df[\"polarity\"] = 1\n",
        "  neg_df[\"polarity\"] = 0\n",
        "  return pd.concat([pos_df, neg_df]).sample(frac=1).reset_index(drop=True)\n",
        "\n",
        "# Download and process the dataset files.\n",
        "def download_and_load_datasets(force_download=False):\n",
        "  dataset = tf.keras.utils.get_file(\n",
        "      fname=\"aclImdb.tar.gz\", \n",
        "      origin=\"http://ai.stanford.edu/~amaas/data/sentiment/aclImdb_v1.tar.gz\", \n",
        "      extract=True)\n",
        "\n",
        "  train_df = load_dataset(os.path.join(os.path.dirname(dataset), \n",
        "                                       \"aclImdb\", \"train\"))\n",
        "  test_df = load_dataset(os.path.join(os.path.dirname(dataset), \n",
        "                                      \"aclImdb\", \"test\"))\n",
        "\n",
        "  return train_df, test_df\n",
        "\n",
        "# Reduce logging output.\n",
        "tf.logging.set_verbosity(tf.logging.ERROR)\n",
        "\n",
        "train_df, test_df = download_and_load_datasets()\n",
        "train_df.head()"
      ],
      "execution_count": 0,
      "outputs": [
        {
          "output_type": "execute_result",
          "data": {
            "text/html": [
              "<div>\n",
              "<style scoped>\n",
              "    .dataframe tbody tr th:only-of-type {\n",
              "        vertical-align: middle;\n",
              "    }\n",
              "\n",
              "    .dataframe tbody tr th {\n",
              "        vertical-align: top;\n",
              "    }\n",
              "\n",
              "    .dataframe thead th {\n",
              "        text-align: right;\n",
              "    }\n",
              "</style>\n",
              "<table border=\"1\" class=\"dataframe\">\n",
              "  <thead>\n",
              "    <tr style=\"text-align: right;\">\n",
              "      <th></th>\n",
              "      <th>sentence</th>\n",
              "      <th>sentiment</th>\n",
              "      <th>polarity</th>\n",
              "    </tr>\n",
              "  </thead>\n",
              "  <tbody>\n",
              "    <tr>\n",
              "      <th>0</th>\n",
              "      <td>There are two movie experiences I will always ...</td>\n",
              "      <td>10</td>\n",
              "      <td>1</td>\n",
              "    </tr>\n",
              "    <tr>\n",
              "      <th>1</th>\n",
              "      <td>I saw this film by chance on the small box. It...</td>\n",
              "      <td>8</td>\n",
              "      <td>1</td>\n",
              "    </tr>\n",
              "    <tr>\n",
              "      <th>2</th>\n",
              "      <td>I never thought an old cartoon would bring tea...</td>\n",
              "      <td>8</td>\n",
              "      <td>1</td>\n",
              "    </tr>\n",
              "    <tr>\n",
              "      <th>3</th>\n",
              "      <td>I desperately want to give this movie a 10...I...</td>\n",
              "      <td>1</td>\n",
              "      <td>0</td>\n",
              "    </tr>\n",
              "    <tr>\n",
              "      <th>4</th>\n",
              "      <td>Expecting a combination of scifi and period fi...</td>\n",
              "      <td>2</td>\n",
              "      <td>0</td>\n",
              "    </tr>\n",
              "  </tbody>\n",
              "</table>\n",
              "</div>"
            ],
            "text/plain": [
              "                                            sentence sentiment  polarity\n",
              "0  There are two movie experiences I will always ...        10         1\n",
              "1  I saw this film by chance on the small box. It...         8         1\n",
              "2  I never thought an old cartoon would bring tea...         8         1\n",
              "3  I desperately want to give this movie a 10...I...         1         0\n",
              "4  Expecting a combination of scifi and period fi...         2         0"
            ]
          },
          "metadata": {
            "tags": []
          },
          "execution_count": 6
        }
      ]
    },
    {
      "cell_type": "code",
      "metadata": {
        "id": "W2dSYWlpDfLr",
        "colab_type": "code",
        "colab": {}
      },
      "source": [
        "class ElmoEmbeddingLayer(Layer):\n",
        "    def __init__(self, **kwargs):\n",
        "        self.dimensions = 1024\n",
        "        self.trainable=True\n",
        "        super(ElmoEmbeddingLayer, self).__init__(**kwargs)\n",
        "\n",
        "    def build(self, input_shape):\n",
        "        self.elmo = hub.Module('https://tfhub.dev/google/elmo/2', trainable=self.trainable,\n",
        "                               name=\"{}_module\".format(self.name))\n",
        "\n",
        "        self.trainable_weights += K.tf.trainable_variables(scope=\"^{}_module/.*\".format(self.name))\n",
        "        super(ElmoEmbeddingLayer, self).build(input_shape)\n",
        "\n",
        "    def call(self, x, mask=None):\n",
        "        result = self.elmo(K.squeeze(K.cast(x, tf.string), axis=1),\n",
        "                      as_dict=True,\n",
        "                      signature='default',\n",
        "                      )['default']\n",
        "        return result\n",
        "\n",
        "    def compute_mask(self, inputs, mask=None):\n",
        "        return K.not_equal(inputs, '--PAD--')\n",
        "\n",
        "    def compute_output_shape(self, input_shape):\n",
        "        return (input_shape[0], self.dimensions)\n"
      ],
      "execution_count": 0,
      "outputs": []
    },
    {
      "cell_type": "code",
      "metadata": {
        "id": "N74BeVLBEWHl",
        "colab_type": "code",
        "colab": {}
      },
      "source": [
        "def build_model(): \n",
        "  input_text = layers.Input(shape=(1,), dtype=\"string\")\n",
        "  embedding = ElmoEmbeddingLayer()(input_text)\n",
        "  dense = layers.Dense(256, activation='relu')(embedding)\n",
        "  pred = layers.Dense(1, activation='sigmoid')(dense)\n",
        "\n",
        "  model = Model(inputs=[input_text], outputs=pred)\n",
        "\n",
        "  model.compile(loss='binary_crossentropy', optimizer='adam', metrics=['accuracy'])\n",
        "  model.summary()\n",
        "  \n",
        "  return model"
      ],
      "execution_count": 0,
      "outputs": []
    },
    {
      "cell_type": "code",
      "metadata": {
        "id": "8u0BHEBNEY_y",
        "colab_type": "code",
        "colab": {}
      },
      "source": [
        "train_text = train_df['sentence'].tolist()\n",
        "train_text = [' '.join(t.split()[0:150]) for t in train_text]\n",
        "train_text = np.array(train_text, dtype=object)[:, np.newaxis]\n",
        "train_label = train_df['polarity'].tolist()\n",
        "\n",
        "test_text = test_df['sentence'].tolist()\n",
        "test_text = [' '.join(t.split()[0:150]) for t in test_text]\n",
        "test_text = np.array(test_text, dtype=object)[:, np.newaxis]\n",
        "test_label = test_df['polarity'].tolist()"
      ],
      "execution_count": 0,
      "outputs": []
    },
    {
      "cell_type": "code",
      "metadata": {
        "id": "D-VvpprZEa52",
        "colab_type": "code",
        "outputId": "db3a9b5c-82e9-4cf2-d3d1-063da618809f",
        "colab": {
          "base_uri": "https://localhost:8080/",
          "height": 1000
        }
      },
      "source": [
        "model = build_model()\n",
        "model.fit(train_text, \n",
        "          train_label,\n",
        "          validation_data=(test_text, test_label),\n",
        "          epochs=1,\n",
        "          batch_size=32)"
      ],
      "execution_count": 0,
      "outputs": [
        {
          "output_type": "stream",
          "text": [
            "_________________________________________________________________\n",
            "Layer (type)                 Output Shape              Param #   \n",
            "=================================================================\n",
            "input_1 (InputLayer)         (None, 1)                 0         \n",
            "_________________________________________________________________\n",
            "elmo_embedding_layer_1 (Elmo (None, 1024)              4         \n",
            "_________________________________________________________________\n",
            "dense_1 (Dense)              (None, 256)               262400    \n",
            "_________________________________________________________________\n",
            "dense_2 (Dense)              (None, 1)                 257       \n",
            "=================================================================\n",
            "Total params: 262,661\n",
            "Trainable params: 262,661\n",
            "Non-trainable params: 0\n",
            "_________________________________________________________________\n",
            "Train on 25000 samples, validate on 25000 samples\n",
            "Epoch 1/1\n",
            "   96/25000 [..............................] - ETA: 6:18:53 - loss: 0.7229 - acc: 0.4896"
          ],
          "name": "stdout"
        },
        {
          "output_type": "stream",
          "text": [
            "E0824 10:22:04.139858 140274628392832 ultratb.py:152] Internal Python error in the inspect module.\n",
            "Below is the traceback from this internal error.\n",
            "\n"
          ],
          "name": "stderr"
        },
        {
          "output_type": "stream",
          "text": [
            "Traceback (most recent call last):\n",
            "  File \"/usr/local/lib/python3.6/dist-packages/IPython/core/interactiveshell.py\", line 2882, in run_code\n",
            "    exec(code_obj, self.user_global_ns, self.user_ns)\n",
            "  File \"<ipython-input-10-002c8a64f733>\", line 6, in <module>\n",
            "    batch_size=32)\n",
            "  File \"/usr/local/lib/python3.6/dist-packages/keras/engine/training.py\", line 1039, in fit\n",
            "    validation_steps=validation_steps)\n",
            "  File \"/usr/local/lib/python3.6/dist-packages/keras/engine/training_arrays.py\", line 199, in fit_loop\n",
            "    outs = f(ins_batch)\n",
            "  File \"/usr/local/lib/python3.6/dist-packages/keras/backend/tensorflow_backend.py\", line 2715, in __call__\n",
            "    return self._call(inputs)\n",
            "  File \"/usr/local/lib/python3.6/dist-packages/keras/backend/tensorflow_backend.py\", line 2675, in _call\n",
            "    fetched = self._callable_fn(*array_vals)\n",
            "  File \"/usr/local/lib/python3.6/dist-packages/tensorflow_core/python/client/session.py\", line 1472, in __call__\n",
            "    run_metadata_ptr)\n",
            "KeyboardInterrupt\n",
            "\n",
            "During handling of the above exception, another exception occurred:\n",
            "\n",
            "Traceback (most recent call last):\n",
            "  File \"/usr/local/lib/python3.6/dist-packages/IPython/core/interactiveshell.py\", line 1823, in showtraceback\n",
            "    stb = value._render_traceback_()\n",
            "AttributeError: 'KeyboardInterrupt' object has no attribute '_render_traceback_'\n",
            "\n",
            "During handling of the above exception, another exception occurred:\n",
            "\n",
            "Traceback (most recent call last):\n",
            "  File \"/usr/local/lib/python3.6/dist-packages/IPython/core/ultratb.py\", line 1132, in get_records\n",
            "    return _fixed_getinnerframes(etb, number_of_lines_of_context, tb_offset)\n",
            "  File \"/usr/local/lib/python3.6/dist-packages/IPython/core/ultratb.py\", line 313, in wrapped\n",
            "    return f(*args, **kwargs)\n",
            "  File \"/usr/local/lib/python3.6/dist-packages/IPython/core/ultratb.py\", line 358, in _fixed_getinnerframes\n",
            "    records = fix_frame_records_filenames(inspect.getinnerframes(etb, context))\n",
            "  File \"/usr/lib/python3.6/inspect.py\", line 1490, in getinnerframes\n",
            "    frameinfo = (tb.tb_frame,) + getframeinfo(tb, context)\n",
            "  File \"/usr/lib/python3.6/inspect.py\", line 1448, in getframeinfo\n",
            "    filename = getsourcefile(frame) or getfile(frame)\n",
            "  File \"/usr/lib/python3.6/inspect.py\", line 696, in getsourcefile\n",
            "    if getattr(getmodule(object, filename), '__loader__', None) is not None:\n",
            "  File \"/usr/lib/python3.6/inspect.py\", line 742, in getmodule\n",
            "    os.path.realpath(f)] = module.__name__\n",
            "  File \"/usr/lib/python3.6/posixpath.py\", line 395, in realpath\n",
            "    path, ok = _joinrealpath(filename[:0], filename, {})\n",
            "  File \"/usr/lib/python3.6/posixpath.py\", line 429, in _joinrealpath\n",
            "    if not islink(newpath):\n",
            "  File \"/usr/lib/python3.6/posixpath.py\", line 171, in islink\n",
            "    st = os.lstat(path)\n",
            "KeyboardInterrupt\n"
          ],
          "name": "stdout"
        },
        {
          "output_type": "error",
          "ename": "KeyboardInterrupt",
          "evalue": "ignored",
          "traceback": [
            "\u001b[0;31m---------------------------------------------------------------------------\u001b[0m"
          ]
        }
      ]
    },
    {
      "cell_type": "code",
      "metadata": {
        "id": "bb7kcGfjEgKb",
        "colab_type": "code",
        "colab": {}
      },
      "source": [
        "post_save_preds = model.predict(test_text[0:3])\n",
        "post_save_preds"
      ],
      "execution_count": 0,
      "outputs": []
    },
    {
      "cell_type": "code",
      "metadata": {
        "id": "99aEyi2BEi-C",
        "colab_type": "code",
        "colab": {}
      },
      "source": [
        ""
      ],
      "execution_count": 0,
      "outputs": []
    }
  ]
}