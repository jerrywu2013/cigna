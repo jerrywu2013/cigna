{
  "nbformat": 4,
  "nbformat_minor": 0,
  "metadata": {
    "colab": {
      "name": "Tensorflow_cigna.ipynb",
      "version": "0.3.2",
      "provenance": []
    },
    "kernelspec": {
      "name": "python3",
      "display_name": "Python 3"
    },
    "accelerator": "GPU"
  },
  "cells": [
    {
      "cell_type": "markdown",
      "metadata": {
        "id": "Fyyn7W5nxFFQ",
        "colab_type": "text"
      },
      "source": [
        "Tensorflow 初探"
      ]
    },
    {
      "cell_type": "code",
      "metadata": {
        "id": "OdtL-aFbg_Rp",
        "colab_type": "code",
        "colab": {}
      },
      "source": [
        "import numpy as np\n",
        "import tensorflow as tf\n",
        "import matplotlib.pyplot as plt"
      ],
      "execution_count": 0,
      "outputs": []
    },
    {
      "cell_type": "code",
      "metadata": {
        "id": "oOqxIl0Qhcrf",
        "colab_type": "code",
        "outputId": "abeb6a75-62b3-4ae8-e9be-703759748bb3",
        "colab": {
          "base_uri": "https://localhost:8080/",
          "height": 76
        }
      },
      "source": [
        "print(tf.__version__)"
      ],
      "execution_count": 0,
      "outputs": [
        {
          "output_type": "stream",
          "text": [
            "1.13.1\n"
          ],
          "name": "stdout"
        }
      ]
    },
    {
      "cell_type": "code",
      "metadata": {
        "id": "IGbQ1u0diGze",
        "colab_type": "code",
        "outputId": "80245a1f-36c1-4368-a301-f238661a251e",
        "colab": {
          "base_uri": "https://localhost:8080/",
          "height": 96
        }
      },
      "source": [
        "tf.test.gpu_device_name()"
      ],
      "execution_count": 0,
      "outputs": [
        {
          "output_type": "execute_result",
          "data": {
            "text/plain": [
              "'/device:GPU:0'"
            ]
          },
          "metadata": {
            "tags": []
          },
          "execution_count": 4
        }
      ]
    },
    {
      "cell_type": "code",
      "metadata": {
        "id": "2IG9RXSNjqA9",
        "colab_type": "code",
        "colab": {}
      },
      "source": [
        "def NN(m1,m2,w1,w2,b):\n",
        "  z = m1 * w1 + m2 * w2 + b\n",
        "  return sigmoid(z)\n",
        "\n",
        "def sigmoid(x):\n",
        "  return 1/(1+np.exp(-x))"
      ],
      "execution_count": 0,
      "outputs": []
    },
    {
      "cell_type": "code",
      "metadata": {
        "id": "dJFE7oiniHYH",
        "colab_type": "code",
        "colab": {}
      },
      "source": [
        ""
      ],
      "execution_count": 0,
      "outputs": []
    },
    {
      "cell_type": "code",
      "metadata": {
        "id": "MlYL6Mu-iAWo",
        "colab_type": "code",
        "outputId": "69a274d2-a775-428d-f87a-960e1c276d6a",
        "colab": {
          "base_uri": "https://localhost:8080/",
          "height": 34
        }
      },
      "source": [
        "w1=np.random.randn()\n",
        "w2=np.random.randn()\n",
        "b=np.random.randn()\n",
        "phrases = [\"看起來像\",\"我猜是\",\"我想是\",\"可能是\",\"看起來像是\"]\n",
        "data = [[3,1.5,1],[2,1,0],[4,1.5,1],[3.5,5,0],[2.0,5,1]]\n",
        "rand_data = data[np.random.randint(len(data))]\n",
        "m1 = rand_data[0]\n",
        "m2 = rand_data[1]\n",
        "prediction = NN(m1,m2,w1,w2,b)\n",
        "prediction_text = ['藍色','紅色'][int(np.round(prediction))]\n",
        "phrase = np.random.choice(phrases) + \"\" + prediction_text\n",
        "o = '這個' + phrase + '真的是' + ['藍色','紅色'][rand_data[2]]\n",
        "o"
      ],
      "execution_count": 0,
      "outputs": [
        {
          "output_type": "execute_result",
          "data": {
            "text/plain": [
              "'這個看起來像藍色真的是紅色'"
            ]
          },
          "metadata": {
            "tags": []
          },
          "execution_count": 22
        }
      ]
    },
    {
      "cell_type": "code",
      "metadata": {
        "id": "ep5fVitJhczY",
        "colab_type": "code",
        "outputId": "d50d05ea-9a46-4ab2-9c23-265ba18aceb9",
        "colab": {
          "base_uri": "https://localhost:8080/",
          "height": 270
        }
      },
      "source": [
        "#Example NN\n",
        "n_features = 3\n",
        "n_dense_neurons = 3\n",
        "tf.set_random_seed(101)\n",
        "\n",
        "x = tf.placeholder(tf.float32, (None, n_features))\n",
        "b = tf.Variable(tf.zeros([n_dense_neurons]))\n",
        "W = tf.Variable(tf.random_normal([n_features,n_dense_neurons]))\n",
        "xW = tf.matmul(x,W)\n",
        "z = tf.add(xW, b)\n",
        "a = tf.sigmoid(z)\n",
        "init = tf.global_variables_initializer()\n",
        "\n",
        "with tf.Session() as sess:\n",
        "  sess.run(init)\n",
        "  layer_out = sess.run(a,feed_dict = {x : np.random.random([5,n_features])})\n",
        "print(layer_out)"
      ],
      "execution_count": 0,
      "outputs": [
        {
          "output_type": "stream",
          "text": [
            "WARNING:tensorflow:From /usr/local/lib/python3.6/dist-packages/tensorflow/python/framework/op_def_library.py:263: colocate_with (from tensorflow.python.framework.ops) is deprecated and will be removed in a future version.\n",
            "Instructions for updating:\n",
            "Colocations handled automatically by placer.\n",
            "[[0.37180263 0.4848752  0.40013963]\n",
            " [0.37374812 0.5469098  0.48332396]\n",
            " [0.29870242 0.51684254 0.45256433]\n",
            " [0.3235687  0.45716134 0.43859345]\n",
            " [0.43333548 0.42000324 0.42359108]]\n"
          ],
          "name": "stdout"
        }
      ]
    },
    {
      "cell_type": "code",
      "metadata": {
        "id": "hn2ONXskhc17",
        "colab_type": "code",
        "colab": {}
      },
      "source": [
        "X = tf.constant([[1,0,1,0],[1,0,1,1],[0,1,0,1]], dtype=tf.float32)\n",
        "y = tf.constant([[1],[1],[0]],dtype=tf.float32)\n",
        "def sigmoid(x):\n",
        "  return 1/(1+tf.exp(-x))\n",
        "def derivatives_sigmoid(x):\n",
        "    return x * (1 - x)"
      ],
      "execution_count": 0,
      "outputs": []
    },
    {
      "cell_type": "code",
      "metadata": {
        "id": "NeJMmK1xqDpD",
        "colab_type": "code",
        "colab": {}
      },
      "source": [
        "epoch = 1000\n",
        "lr = 0.1\n",
        "inputlayer_neurons = X.shape[1]\n",
        "hiddenlayer_neurons = 10\n",
        "output_neurons = 1"
      ],
      "execution_count": 0,
      "outputs": []
    },
    {
      "cell_type": "code",
      "metadata": {
        "id": "y26cV8p2qDq-",
        "colab_type": "code",
        "colab": {}
      },
      "source": [
        "wh = tf.random_normal(shape=[int(inputlayer_neurons),int(hiddenlayer_neurons)],\n",
        "                      mean=0.0,stddev=1.0,\n",
        "                      dtype=tf.float32,seed=None,name=None)\n",
        "bh =  tf.random_normal(shape=[1,int(hiddenlayer_neurons)],\n",
        "                      mean=0.0,stddev=1.0,\n",
        "                      dtype=tf.float32,seed=None,name=None)\n",
        "wout =  tf.random_normal(shape=[int(hiddenlayer_neurons),int(output_neurons)],\n",
        "                      mean=0.0,stddev=1.0,\n",
        "                      dtype=tf.float32,seed=None,name=None)\n",
        "bout =  tf.random_normal(shape=[1,int(output_neurons)],\n",
        "                      mean=0.0,stddev=1.0,\n",
        "                      dtype=tf.float32,seed=None,name=None)"
      ],
      "execution_count": 0,
      "outputs": []
    },
    {
      "cell_type": "code",
      "metadata": {
        "id": "NATrfKTxqDt8",
        "colab_type": "code",
        "outputId": "f908ee1a-a22e-479c-db32-2c2cd1f7d303",
        "colab": {
          "base_uri": "https://localhost:8080/",
          "height": 190
        }
      },
      "source": [
        "for i in range(epoch):\n",
        "  hidden_layer_input1 = tf.matmul(X, wh)\n",
        "  hidden_layer_input = hidden_layer_input1 + bh\n",
        "  hidden_layer_activations = sigmoid(hidden_layer_input)\n",
        "  output_layer_input1 = tf.matmul(hidden_layer_activations, wout)\n",
        "  output_layer_input = output_layer_input1 + bout\n",
        "  output = sigmoid(output_layer_input)\n",
        "  \n",
        "  E= y-output\n",
        "  back_output_layer = derivatives_sigmoid(output)\n",
        "  back_hidden_layer = derivatives_sigmoid(hidden_layer_activations)\n",
        "  d_output = E * back_output_layer\n",
        "  Error_at_hidden_layer = tf.matmul(d_output, tf.transpose(wout))\n",
        "  d_hiddenlayer = Error_at_hidden_layer * back_hidden_layer\n",
        "  wout += tf.matmul(tf.transpose(hidden_layer_activations), d_output) * lr \n",
        "  bout += tf.reduce_sum(d_output) * lr\n",
        "  wh += tf.matmul(tf.transpose(X), d_hiddenlayer) * lr\n",
        "  bh += tf.reduce_sum(d_output)*lr\n",
        "  \n",
        "sess = tf.Session()\n",
        "print('Actual :\\n', sess.run(y), '\\n')\n",
        "print('Predicted :\\n', sess.run(output), '\\n')\n",
        "  \n",
        "  "
      ],
      "execution_count": 0,
      "outputs": [
        {
          "output_type": "stream",
          "text": [
            "Actual :\n",
            " [[1.]\n",
            " [1.]\n",
            " [0.]] \n",
            "\n",
            "Predicted :\n",
            " [[0.9697147 ]\n",
            " [0.92694074]\n",
            " [0.09504487]] \n",
            "\n"
          ],
          "name": "stdout"
        }
      ]
    },
    {
      "cell_type": "code",
      "metadata": {
        "id": "iFdHofKzqDw5",
        "colab_type": "code",
        "colab": {}
      },
      "source": [
        "import tensorflow as tf\n",
        "from sklearn.datasets import load_iris\n",
        "from sklearn.model_selection import train_test_split\n",
        "import matplotlib.pyplot as plt"
      ],
      "execution_count": 0,
      "outputs": []
    },
    {
      "cell_type": "code",
      "metadata": {
        "id": "Sjam3_iWqDy0",
        "colab_type": "code",
        "colab": {}
      },
      "source": [
        "data = load_iris()\n",
        "x_train, x_test, y_train, y_test= train_test_split(data.data, data.target, test_size=0.3, random_state=42)"
      ],
      "execution_count": 0,
      "outputs": []
    },
    {
      "cell_type": "code",
      "metadata": {
        "id": "FAawHwqlqD03",
        "colab_type": "code",
        "outputId": "a6bd2e39-15c7-476b-c746-8062fdd2029e",
        "colab": {
          "base_uri": "https://localhost:8080/",
          "height": 1000
        }
      },
      "source": [
        "model = tf.keras.models.Sequential([\n",
        "    tf.keras.layers.Flatten(),\n",
        "    tf.keras.layers.Dense(500, activation=tf.nn.relu),\n",
        "    tf.keras.layers.Dropout(0.2),\n",
        "    tf.keras.layers.Dense(10, activation=tf.nn.softmax)\n",
        "])\n",
        "adam = tf.keras.optimizers.Adam(lr=0.001)\n",
        "model.compile(optimizer=adam,\n",
        "              loss='sparse_categorical_crossentropy',\n",
        "              metrics=['accuracy'])\n",
        "#model.fit(x_train, y_train, epochs=50)\n",
        "history = model.fit(x_train, y_train, epochs=100, validation_split=0.3)"
      ],
      "execution_count": 0,
      "outputs": [
        {
          "output_type": "stream",
          "text": [
            "WARNING: Logging before flag parsing goes to stderr.\n",
            "W0821 02:25:12.908116 140339020412800 deprecation.py:506] From /usr/local/lib/python3.6/dist-packages/tensorflow/python/ops/init_ops.py:1251: calling VarianceScaling.__init__ (from tensorflow.python.ops.init_ops) with dtype is deprecated and will be removed in a future version.\n",
            "Instructions for updating:\n",
            "Call initializer instance with the dtype argument instead of passing it to the constructor\n"
          ],
          "name": "stderr"
        },
        {
          "output_type": "stream",
          "text": [
            "Train on 73 samples, validate on 32 samples\n",
            "Epoch 1/100\n",
            "73/73 [==============================] - 1s 11ms/sample - loss: 2.6117 - acc: 0.0685 - val_loss: 2.0546 - val_acc: 0.3750\n",
            "Epoch 2/100\n",
            "73/73 [==============================] - 0s 178us/sample - loss: 1.9601 - acc: 0.3288 - val_loss: 1.5441 - val_acc: 0.5625\n",
            "Epoch 3/100\n",
            "73/73 [==============================] - 0s 164us/sample - loss: 1.4492 - acc: 0.5342 - val_loss: 1.2325 - val_acc: 0.5625\n",
            "Epoch 4/100\n",
            "73/73 [==============================] - 0s 140us/sample - loss: 1.2534 - acc: 0.5068 - val_loss: 1.0361 - val_acc: 0.5938\n",
            "Epoch 5/100\n",
            "73/73 [==============================] - 0s 161us/sample - loss: 1.0224 - acc: 0.6301 - val_loss: 0.9142 - val_acc: 0.5938\n",
            "Epoch 6/100\n",
            "73/73 [==============================] - 0s 155us/sample - loss: 0.9114 - acc: 0.7123 - val_loss: 0.8556 - val_acc: 0.8438\n",
            "Epoch 7/100\n",
            "73/73 [==============================] - 0s 161us/sample - loss: 0.8759 - acc: 0.6575 - val_loss: 0.8088 - val_acc: 0.8438\n",
            "Epoch 8/100\n",
            "73/73 [==============================] - 0s 179us/sample - loss: 0.8123 - acc: 0.7397 - val_loss: 0.7663 - val_acc: 0.8750\n",
            "Epoch 9/100\n",
            "73/73 [==============================] - 0s 153us/sample - loss: 0.7744 - acc: 0.6986 - val_loss: 0.7425 - val_acc: 0.5938\n",
            "Epoch 10/100\n",
            "73/73 [==============================] - 0s 163us/sample - loss: 0.7804 - acc: 0.6712 - val_loss: 0.7188 - val_acc: 0.5938\n",
            "Epoch 11/100\n",
            "73/73 [==============================] - 0s 166us/sample - loss: 0.7180 - acc: 0.6712 - val_loss: 0.6905 - val_acc: 0.6250\n",
            "Epoch 12/100\n",
            "73/73 [==============================] - 0s 156us/sample - loss: 0.6345 - acc: 0.7534 - val_loss: 0.6642 - val_acc: 0.6250\n",
            "Epoch 13/100\n",
            "73/73 [==============================] - 0s 161us/sample - loss: 0.6305 - acc: 0.7671 - val_loss: 0.6400 - val_acc: 0.9062\n",
            "Epoch 14/100\n",
            "73/73 [==============================] - 0s 150us/sample - loss: 0.6276 - acc: 0.7808 - val_loss: 0.6214 - val_acc: 0.9375\n",
            "Epoch 15/100\n",
            "73/73 [==============================] - 0s 151us/sample - loss: 0.6023 - acc: 0.7260 - val_loss: 0.6055 - val_acc: 0.7812\n",
            "Epoch 16/100\n",
            "73/73 [==============================] - 0s 170us/sample - loss: 0.5840 - acc: 0.7260 - val_loss: 0.5921 - val_acc: 0.6562\n",
            "Epoch 17/100\n",
            "73/73 [==============================] - 0s 196us/sample - loss: 0.5487 - acc: 0.7671 - val_loss: 0.5735 - val_acc: 0.7500\n",
            "Epoch 18/100\n",
            "73/73 [==============================] - 0s 191us/sample - loss: 0.5721 - acc: 0.7260 - val_loss: 0.5544 - val_acc: 0.9375\n",
            "Epoch 19/100\n",
            "73/73 [==============================] - 0s 161us/sample - loss: 0.5424 - acc: 0.8219 - val_loss: 0.5427 - val_acc: 0.9688\n",
            "Epoch 20/100\n",
            "73/73 [==============================] - 0s 157us/sample - loss: 0.5002 - acc: 0.8493 - val_loss: 0.5323 - val_acc: 1.0000\n",
            "Epoch 21/100\n",
            "73/73 [==============================] - 0s 169us/sample - loss: 0.5051 - acc: 0.8356 - val_loss: 0.5280 - val_acc: 0.7812\n",
            "Epoch 22/100\n",
            "73/73 [==============================] - 0s 163us/sample - loss: 0.4971 - acc: 0.7808 - val_loss: 0.5242 - val_acc: 0.7500\n",
            "Epoch 23/100\n",
            "73/73 [==============================] - 0s 157us/sample - loss: 0.5017 - acc: 0.7808 - val_loss: 0.5100 - val_acc: 0.8438\n",
            "Epoch 24/100\n",
            "73/73 [==============================] - 0s 162us/sample - loss: 0.4870 - acc: 0.7671 - val_loss: 0.4968 - val_acc: 0.9375\n",
            "Epoch 25/100\n",
            "73/73 [==============================] - 0s 146us/sample - loss: 0.4634 - acc: 0.8493 - val_loss: 0.4853 - val_acc: 0.9375\n",
            "Epoch 26/100\n",
            "73/73 [==============================] - 0s 158us/sample - loss: 0.4618 - acc: 0.8219 - val_loss: 0.4736 - val_acc: 1.0000\n",
            "Epoch 27/100\n",
            "73/73 [==============================] - 0s 156us/sample - loss: 0.4571 - acc: 0.8356 - val_loss: 0.4652 - val_acc: 0.9375\n",
            "Epoch 28/100\n",
            "73/73 [==============================] - 0s 173us/sample - loss: 0.4525 - acc: 0.8356 - val_loss: 0.4576 - val_acc: 0.9062\n",
            "Epoch 29/100\n",
            "73/73 [==============================] - 0s 151us/sample - loss: 0.4319 - acc: 0.8219 - val_loss: 0.4458 - val_acc: 1.0000\n",
            "Epoch 30/100\n",
            "73/73 [==============================] - 0s 174us/sample - loss: 0.4303 - acc: 0.8219 - val_loss: 0.4380 - val_acc: 1.0000\n",
            "Epoch 31/100\n",
            "73/73 [==============================] - 0s 177us/sample - loss: 0.4234 - acc: 0.8356 - val_loss: 0.4314 - val_acc: 1.0000\n",
            "Epoch 32/100\n",
            "73/73 [==============================] - 0s 190us/sample - loss: 0.4198 - acc: 0.8904 - val_loss: 0.4243 - val_acc: 1.0000\n",
            "Epoch 33/100\n",
            "73/73 [==============================] - 0s 181us/sample - loss: 0.4069 - acc: 0.8767 - val_loss: 0.4179 - val_acc: 1.0000\n",
            "Epoch 34/100\n",
            "73/73 [==============================] - 0s 190us/sample - loss: 0.4284 - acc: 0.8356 - val_loss: 0.4122 - val_acc: 1.0000\n",
            "Epoch 35/100\n",
            "73/73 [==============================] - 0s 163us/sample - loss: 0.4211 - acc: 0.8219 - val_loss: 0.4071 - val_acc: 1.0000\n",
            "Epoch 36/100\n",
            "73/73 [==============================] - 0s 228us/sample - loss: 0.4120 - acc: 0.8219 - val_loss: 0.4003 - val_acc: 1.0000\n",
            "Epoch 37/100\n",
            "73/73 [==============================] - 0s 154us/sample - loss: 0.3946 - acc: 0.9041 - val_loss: 0.3982 - val_acc: 0.9688\n",
            "Epoch 38/100\n",
            "73/73 [==============================] - 0s 156us/sample - loss: 0.3790 - acc: 0.9041 - val_loss: 0.3936 - val_acc: 0.9688\n",
            "Epoch 39/100\n",
            "73/73 [==============================] - 0s 211us/sample - loss: 0.3709 - acc: 0.8767 - val_loss: 0.3827 - val_acc: 0.9688\n",
            "Epoch 40/100\n",
            "73/73 [==============================] - 0s 205us/sample - loss: 0.3744 - acc: 0.9041 - val_loss: 0.3752 - val_acc: 1.0000\n",
            "Epoch 41/100\n",
            "73/73 [==============================] - 0s 165us/sample - loss: 0.3630 - acc: 0.9178 - val_loss: 0.3709 - val_acc: 1.0000\n",
            "Epoch 42/100\n",
            "73/73 [==============================] - 0s 157us/sample - loss: 0.3296 - acc: 0.9178 - val_loss: 0.3663 - val_acc: 1.0000\n",
            "Epoch 43/100\n",
            "73/73 [==============================] - 0s 142us/sample - loss: 0.3976 - acc: 0.7945 - val_loss: 0.3593 - val_acc: 1.0000\n",
            "Epoch 44/100\n",
            "73/73 [==============================] - 0s 147us/sample - loss: 0.3305 - acc: 0.9315 - val_loss: 0.3601 - val_acc: 0.9688\n",
            "Epoch 45/100\n",
            "73/73 [==============================] - 0s 164us/sample - loss: 0.3636 - acc: 0.8767 - val_loss: 0.3758 - val_acc: 0.9375\n",
            "Epoch 46/100\n",
            "73/73 [==============================] - 0s 173us/sample - loss: 0.3523 - acc: 0.9041 - val_loss: 0.3557 - val_acc: 0.9688\n",
            "Epoch 47/100\n",
            "73/73 [==============================] - 0s 149us/sample - loss: 0.3783 - acc: 0.8219 - val_loss: 0.3394 - val_acc: 1.0000\n",
            "Epoch 48/100\n",
            "73/73 [==============================] - 0s 173us/sample - loss: 0.3233 - acc: 0.9041 - val_loss: 0.3382 - val_acc: 1.0000\n",
            "Epoch 49/100\n",
            "73/73 [==============================] - 0s 159us/sample - loss: 0.3427 - acc: 0.8630 - val_loss: 0.3505 - val_acc: 0.9062\n",
            "Epoch 50/100\n",
            "73/73 [==============================] - 0s 154us/sample - loss: 0.3630 - acc: 0.8356 - val_loss: 0.3337 - val_acc: 0.9375\n",
            "Epoch 51/100\n",
            "73/73 [==============================] - 0s 174us/sample - loss: 0.3330 - acc: 0.8493 - val_loss: 0.3188 - val_acc: 1.0000\n",
            "Epoch 52/100\n",
            "73/73 [==============================] - 0s 176us/sample - loss: 0.2926 - acc: 0.9041 - val_loss: 0.3203 - val_acc: 0.9688\n",
            "Epoch 53/100\n",
            "73/73 [==============================] - 0s 139us/sample - loss: 0.3119 - acc: 0.8904 - val_loss: 0.3160 - val_acc: 0.9688\n",
            "Epoch 54/100\n",
            "73/73 [==============================] - 0s 179us/sample - loss: 0.3168 - acc: 0.9178 - val_loss: 0.3036 - val_acc: 1.0000\n",
            "Epoch 55/100\n",
            "73/73 [==============================] - 0s 167us/sample - loss: 0.3177 - acc: 0.8767 - val_loss: 0.3035 - val_acc: 1.0000\n",
            "Epoch 56/100\n",
            "73/73 [==============================] - 0s 208us/sample - loss: 0.3364 - acc: 0.9315 - val_loss: 0.2980 - val_acc: 1.0000\n",
            "Epoch 57/100\n",
            "73/73 [==============================] - 0s 144us/sample - loss: 0.2892 - acc: 0.9452 - val_loss: 0.2914 - val_acc: 1.0000\n",
            "Epoch 58/100\n",
            "73/73 [==============================] - 0s 153us/sample - loss: 0.3151 - acc: 0.9041 - val_loss: 0.2905 - val_acc: 0.9688\n",
            "Epoch 59/100\n",
            "73/73 [==============================] - 0s 183us/sample - loss: 0.2995 - acc: 0.9041 - val_loss: 0.2860 - val_acc: 0.9688\n",
            "Epoch 60/100\n",
            "73/73 [==============================] - 0s 156us/sample - loss: 0.2790 - acc: 0.9178 - val_loss: 0.2795 - val_acc: 1.0000\n",
            "Epoch 61/100\n",
            "73/73 [==============================] - 0s 164us/sample - loss: 0.3163 - acc: 0.9041 - val_loss: 0.2761 - val_acc: 1.0000\n",
            "Epoch 62/100\n",
            "73/73 [==============================] - 0s 141us/sample - loss: 0.2907 - acc: 0.8904 - val_loss: 0.2772 - val_acc: 1.0000\n",
            "Epoch 63/100\n",
            "73/73 [==============================] - 0s 137us/sample - loss: 0.2836 - acc: 0.8904 - val_loss: 0.2675 - val_acc: 1.0000\n",
            "Epoch 64/100\n",
            "73/73 [==============================] - 0s 204us/sample - loss: 0.2715 - acc: 0.9452 - val_loss: 0.2641 - val_acc: 0.9688\n",
            "Epoch 65/100\n",
            "73/73 [==============================] - 0s 178us/sample - loss: 0.2714 - acc: 0.9315 - val_loss: 0.2617 - val_acc: 0.9688\n",
            "Epoch 66/100\n",
            "73/73 [==============================] - 0s 154us/sample - loss: 0.2948 - acc: 0.9041 - val_loss: 0.2544 - val_acc: 1.0000\n",
            "Epoch 67/100\n",
            "73/73 [==============================] - 0s 185us/sample - loss: 0.2654 - acc: 0.9452 - val_loss: 0.2514 - val_acc: 1.0000\n",
            "Epoch 68/100\n",
            "73/73 [==============================] - 0s 219us/sample - loss: 0.2908 - acc: 0.9178 - val_loss: 0.2546 - val_acc: 1.0000\n",
            "Epoch 69/100\n",
            "73/73 [==============================] - 0s 179us/sample - loss: 0.2806 - acc: 0.8767 - val_loss: 0.2539 - val_acc: 1.0000\n",
            "Epoch 70/100\n",
            "73/73 [==============================] - 0s 195us/sample - loss: 0.2836 - acc: 0.9041 - val_loss: 0.2415 - val_acc: 1.0000\n",
            "Epoch 71/100\n",
            "73/73 [==============================] - 0s 186us/sample - loss: 0.2604 - acc: 0.9452 - val_loss: 0.2411 - val_acc: 0.9688\n",
            "Epoch 72/100\n",
            "73/73 [==============================] - 0s 180us/sample - loss: 0.2450 - acc: 0.9315 - val_loss: 0.2435 - val_acc: 0.9688\n",
            "Epoch 73/100\n",
            "73/73 [==============================] - 0s 164us/sample - loss: 0.2473 - acc: 0.9452 - val_loss: 0.2402 - val_acc: 0.9688\n",
            "Epoch 74/100\n",
            "73/73 [==============================] - 0s 168us/sample - loss: 0.2543 - acc: 0.9452 - val_loss: 0.2279 - val_acc: 1.0000\n",
            "Epoch 75/100\n",
            "73/73 [==============================] - 0s 166us/sample - loss: 0.2699 - acc: 0.9452 - val_loss: 0.2326 - val_acc: 1.0000\n",
            "Epoch 76/100\n",
            "73/73 [==============================] - 0s 201us/sample - loss: 0.2737 - acc: 0.8904 - val_loss: 0.2262 - val_acc: 1.0000\n",
            "Epoch 77/100\n",
            "73/73 [==============================] - 0s 165us/sample - loss: 0.2520 - acc: 0.9452 - val_loss: 0.2219 - val_acc: 1.0000\n",
            "Epoch 78/100\n",
            "73/73 [==============================] - 0s 177us/sample - loss: 0.2449 - acc: 0.9315 - val_loss: 0.2154 - val_acc: 1.0000\n",
            "Epoch 79/100\n",
            "73/73 [==============================] - 0s 173us/sample - loss: 0.2525 - acc: 0.9178 - val_loss: 0.2136 - val_acc: 1.0000\n",
            "Epoch 80/100\n",
            "73/73 [==============================] - 0s 168us/sample - loss: 0.2441 - acc: 0.9178 - val_loss: 0.2118 - val_acc: 1.0000\n",
            "Epoch 81/100\n",
            "73/73 [==============================] - 0s 190us/sample - loss: 0.2629 - acc: 0.9452 - val_loss: 0.2147 - val_acc: 0.9688\n",
            "Epoch 82/100\n",
            "73/73 [==============================] - 0s 162us/sample - loss: 0.2573 - acc: 0.9178 - val_loss: 0.2073 - val_acc: 0.9688\n",
            "Epoch 83/100\n",
            "73/73 [==============================] - 0s 165us/sample - loss: 0.2609 - acc: 0.9178 - val_loss: 0.2011 - val_acc: 1.0000\n",
            "Epoch 84/100\n",
            "73/73 [==============================] - 0s 153us/sample - loss: 0.2291 - acc: 0.9178 - val_loss: 0.1983 - val_acc: 1.0000\n",
            "Epoch 85/100\n",
            "73/73 [==============================] - 0s 209us/sample - loss: 0.2218 - acc: 0.9452 - val_loss: 0.2012 - val_acc: 0.9688\n",
            "Epoch 86/100\n",
            "73/73 [==============================] - 0s 197us/sample - loss: 0.2307 - acc: 0.9452 - val_loss: 0.2163 - val_acc: 0.9688\n",
            "Epoch 87/100\n",
            "73/73 [==============================] - 0s 163us/sample - loss: 0.2425 - acc: 0.9315 - val_loss: 0.2022 - val_acc: 0.9688\n",
            "Epoch 88/100\n",
            "73/73 [==============================] - 0s 160us/sample - loss: 0.2247 - acc: 0.9315 - val_loss: 0.1891 - val_acc: 1.0000\n",
            "Epoch 89/100\n",
            "73/73 [==============================] - 0s 155us/sample - loss: 0.2205 - acc: 0.9315 - val_loss: 0.1848 - val_acc: 1.0000\n",
            "Epoch 90/100\n",
            "73/73 [==============================] - 0s 158us/sample - loss: 0.1884 - acc: 0.9452 - val_loss: 0.1823 - val_acc: 1.0000\n",
            "Epoch 91/100\n",
            "73/73 [==============================] - 0s 156us/sample - loss: 0.1932 - acc: 0.9863 - val_loss: 0.1805 - val_acc: 1.0000\n",
            "Epoch 92/100\n",
            "73/73 [==============================] - 0s 165us/sample - loss: 0.2199 - acc: 0.9315 - val_loss: 0.1788 - val_acc: 1.0000\n",
            "Epoch 93/100\n",
            "73/73 [==============================] - 0s 151us/sample - loss: 0.2209 - acc: 0.9041 - val_loss: 0.1790 - val_acc: 0.9688\n",
            "Epoch 94/100\n",
            "73/73 [==============================] - 0s 156us/sample - loss: 0.2155 - acc: 0.9589 - val_loss: 0.1741 - val_acc: 1.0000\n",
            "Epoch 95/100\n",
            "73/73 [==============================] - 0s 170us/sample - loss: 0.2159 - acc: 0.9589 - val_loss: 0.1718 - val_acc: 1.0000\n",
            "Epoch 96/100\n",
            "73/73 [==============================] - 0s 176us/sample - loss: 0.2199 - acc: 0.9452 - val_loss: 0.1689 - val_acc: 1.0000\n",
            "Epoch 97/100\n",
            "73/73 [==============================] - 0s 153us/sample - loss: 0.1818 - acc: 0.9452 - val_loss: 0.1698 - val_acc: 1.0000\n",
            "Epoch 98/100\n",
            "73/73 [==============================] - 0s 146us/sample - loss: 0.2124 - acc: 0.9452 - val_loss: 0.1710 - val_acc: 0.9688\n",
            "Epoch 99/100\n",
            "73/73 [==============================] - 0s 146us/sample - loss: 0.1946 - acc: 0.9452 - val_loss: 0.1708 - val_acc: 0.9688\n",
            "Epoch 100/100\n",
            "73/73 [==============================] - 0s 139us/sample - loss: 0.1957 - acc: 0.9452 - val_loss: 0.1634 - val_acc: 1.0000\n"
          ],
          "name": "stdout"
        }
      ]
    },
    {
      "cell_type": "code",
      "metadata": {
        "id": "VbEQVkwDqD3r",
        "colab_type": "code",
        "outputId": "b2330487-351d-4284-ffae-41bdea8128c3",
        "colab": {
          "base_uri": "https://localhost:8080/",
          "height": 295
        }
      },
      "source": [
        "plt.plot(history.history['loss'])\n",
        "plt.plot(history.history['val_loss'])\n",
        "plt.title('Model Loss')\n",
        "plt.ylabel('Loss')\n",
        "plt.xlabel('Epoch')\n",
        "plt.legend(['Training','Testing'], loc='upper left')\n",
        "plt.show()"
      ],
      "execution_count": 0,
      "outputs": [
        {
          "output_type": "display_data",
          "data": {
            "image/png": "[encoded data removed]",
            "text/plain": [
              "<Figure size 432x288 with 1 Axes>"
            ]
          },
          "metadata": {
            "tags": []
          }
        }
      ]
    },
    {
      "cell_type": "code",
      "metadata": {
        "id": "x6sjQjOEqD7L",
        "colab_type": "code",
        "outputId": "76de44fa-6b4a-4e1a-ef2d-7f41b1968cc3",
        "colab": {
          "base_uri": "https://localhost:8080/",
          "height": 50
        }
      },
      "source": [
        "model.evaluate(x_test, y_test)"
      ],
      "execution_count": 0,
      "outputs": [
        {
          "output_type": "stream",
          "text": [
            "45/45 [==============================] - 0s 198us/sample - loss: 0.1348 - acc: 1.0000\n"
          ],
          "name": "stdout"
        },
        {
          "output_type": "execute_result",
          "data": {
            "text/plain": [
              "[0.13479209542274476, 1.0]"
            ]
          },
          "metadata": {
            "tags": []
          },
          "execution_count": 8
        }
      ]
    },
    {
      "cell_type": "code",
      "metadata": {
        "id": "f06-I3Xchc4U",
        "colab_type": "code",
        "colab": {}
      },
      "source": [
        "y_pred = model.predict_classes(x_test[0:3])"
      ],
      "execution_count": 0,
      "outputs": []
    },
    {
      "cell_type": "code",
      "metadata": {
        "id": "cg5PdZV1hc59",
        "colab_type": "code",
        "outputId": "9fd90fde-458d-4040-c3df-23f7bdd354eb",
        "colab": {
          "base_uri": "https://localhost:8080/",
          "height": 33
        }
      },
      "source": [
        "print(y_pred)"
      ],
      "execution_count": 0,
      "outputs": [
        {
          "output_type": "stream",
          "text": [
            "[1 0 2]\n"
          ],
          "name": "stdout"
        }
      ]
    },
    {
      "cell_type": "code",
      "metadata": {
        "id": "3qfJXNJ8hc7a",
        "colab_type": "code",
        "outputId": "22f89d3b-134d-4c29-8ea0-86b20059fa0a",
        "colab": {
          "base_uri": "https://localhost:8080/",
          "height": 66
        }
      },
      "source": [
        "x_test[0:3],y_test[0:3]"
      ],
      "execution_count": 0,
      "outputs": [
        {
          "output_type": "execute_result",
          "data": {
            "text/plain": [
              "(array([[6.1, 2.8, 4.7, 1.2],\n",
              "        [5.7, 3.8, 1.7, 0.3],\n",
              "        [7.7, 2.6, 6.9, 2.3]]), array([1, 0, 2]))"
            ]
          },
          "metadata": {
            "tags": []
          },
          "execution_count": 11
        }
      ]
    },
    {
      "cell_type": "code",
      "metadata": {
        "id": "R2AnkaC7hc-b",
        "colab_type": "code",
        "colab": {}
      },
      "source": [
        ""
      ],
      "execution_count": 0,
      "outputs": []
    },
    {
      "cell_type": "code",
      "metadata": {
        "id": "CbNinEcXhdAF",
        "colab_type": "code",
        "colab": {}
      },
      "source": [
        "import pandas as pd\n",
        "import numpy as np\n",
        "import tensorflow as tf\n",
        "import matplotlib.pyplot as plt\n",
        "import sklearn\n",
        "from sklearn.preprocessing import MinMaxScaler\n",
        "from sklearn.model_selection import train_test_split\n",
        "from sklearn import preprocessing"
      ],
      "execution_count": 0,
      "outputs": []
    },
    {
      "cell_type": "code",
      "metadata": {
        "id": "4lFbH0Um_3Uc",
        "colab_type": "code",
        "colab": {}
      },
      "source": [
        "df=pd.DataFrame(data.data)"
      ],
      "execution_count": 0,
      "outputs": []
    },
    {
      "cell_type": "code",
      "metadata": {
        "id": "V3MoNF6FAW9g",
        "colab_type": "code",
        "colab": {}
      },
      "source": [
        "data_df = df[[0,1,2]]\n",
        "target_df = df[3]\n",
        "X_train, X_test, y_train, y_test = train_test_split(data_df, target_df)"
      ],
      "execution_count": 0,
      "outputs": []
    },
    {
      "cell_type": "code",
      "metadata": {
        "id": "R5dNu66VAr8u",
        "colab_type": "code",
        "outputId": "79527f89-83c5-4fe4-8faf-8a5afc9515f6",
        "colab": {
          "base_uri": "https://localhost:8080/",
          "height": 1000
        }
      },
      "source": [
        "model = tf.keras.models.Sequential([\n",
        "  tf.keras.layers.Dense(1000, input_dim=3, kernel_initializer='normal', activation='relu'),\n",
        "  tf.keras.layers.Dense(150, activation='relu'),\n",
        "  tf.keras.layers.Dense(50, activation='relu'),\n",
        "  tf.keras.layers.Dense(1, activation='linear')\n",
        "])\n",
        "adam = tf.keras.optimizers.Adam(lr=0.0001)\n",
        "model.compile(loss='mse', optimizer=adam, metrics=['mse','mae'])\n",
        "history = model.fit(X_train, y_train, epochs=300, validation_split=0.4)"
      ],
      "execution_count": 0,
      "outputs": [
        {
          "output_type": "stream",
          "text": [
            "Train on 67 samples, validate on 45 samples\n",
            "Epoch 1/300\n",
            "67/67 [==============================] - 0s 6ms/sample - loss: 3.1736 - mean_squared_error: 3.1736 - mean_absolute_error: 1.5998 - val_loss: 2.1377 - val_mean_squared_error: 2.1377 - val_mean_absolute_error: 1.2715\n",
            "Epoch 2/300\n",
            "67/67 [==============================] - 0s 375us/sample - loss: 1.9540 - mean_squared_error: 1.9540 - mean_absolute_error: 1.1968 - val_loss: 1.2219 - val_mean_squared_error: 1.2219 - val_mean_absolute_error: 0.9003\n",
            "Epoch 3/300\n",
            "67/67 [==============================] - 0s 279us/sample - loss: 1.1187 - mean_squared_error: 1.1187 - mean_absolute_error: 0.8500 - val_loss: 0.7081 - val_mean_squared_error: 0.7081 - val_mean_absolute_error: 0.6848\n",
            "Epoch 4/300\n",
            "67/67 [==============================] - 0s 271us/sample - loss: 0.6389 - mean_squared_error: 0.6389 - mean_absolute_error: 0.6675 - val_loss: 0.4213 - val_mean_squared_error: 0.4213 - val_mean_absolute_error: 0.5561\n",
            "Epoch 5/300\n",
            "67/67 [==============================] - 0s 265us/sample - loss: 0.4004 - mean_squared_error: 0.4004 - mean_absolute_error: 0.5508 - val_loss: 0.2815 - val_mean_squared_error: 0.2815 - val_mean_absolute_error: 0.4552\n",
            "Epoch 6/300\n",
            "67/67 [==============================] - 0s 274us/sample - loss: 0.2808 - mean_squared_error: 0.2808 - mean_absolute_error: 0.4674 - val_loss: 0.2172 - val_mean_squared_error: 0.2172 - val_mean_absolute_error: 0.3853\n",
            "Epoch 7/300\n",
            "67/67 [==============================] - 0s 284us/sample - loss: 0.2212 - mean_squared_error: 0.2212 - mean_absolute_error: 0.4098 - val_loss: 0.1867 - val_mean_squared_error: 0.1867 - val_mean_absolute_error: 0.3480\n",
            "Epoch 8/300\n",
            "67/67 [==============================] - 0s 272us/sample - loss: 0.1934 - mean_squared_error: 0.1934 - mean_absolute_error: 0.3797 - val_loss: 0.1700 - val_mean_squared_error: 0.1700 - val_mean_absolute_error: 0.3321\n",
            "Epoch 9/300\n",
            "67/67 [==============================] - 0s 269us/sample - loss: 0.1787 - mean_squared_error: 0.1787 - mean_absolute_error: 0.3625 - val_loss: 0.1580 - val_mean_squared_error: 0.1580 - val_mean_absolute_error: 0.3270\n",
            "Epoch 10/300\n",
            "67/67 [==============================] - 0s 271us/sample - loss: 0.1649 - mean_squared_error: 0.1649 - mean_absolute_error: 0.3468 - val_loss: 0.1430 - val_mean_squared_error: 0.1430 - val_mean_absolute_error: 0.3152\n",
            "Epoch 11/300\n",
            "67/67 [==============================] - 0s 257us/sample - loss: 0.1481 - mean_squared_error: 0.1481 - mean_absolute_error: 0.3297 - val_loss: 0.1257 - val_mean_squared_error: 0.1257 - val_mean_absolute_error: 0.2950\n",
            "Epoch 12/300\n",
            "67/67 [==============================] - 0s 302us/sample - loss: 0.1286 - mean_squared_error: 0.1286 - mean_absolute_error: 0.3100 - val_loss: 0.1122 - val_mean_squared_error: 0.1122 - val_mean_absolute_error: 0.2758\n",
            "Epoch 13/300\n",
            "67/67 [==============================] - 0s 280us/sample - loss: 0.1149 - mean_squared_error: 0.1149 - mean_absolute_error: 0.2941 - val_loss: 0.1016 - val_mean_squared_error: 0.1016 - val_mean_absolute_error: 0.2555\n",
            "Epoch 14/300\n",
            "67/67 [==============================] - 0s 264us/sample - loss: 0.1024 - mean_squared_error: 0.1024 - mean_absolute_error: 0.2778 - val_loss: 0.0939 - val_mean_squared_error: 0.0939 - val_mean_absolute_error: 0.2394\n",
            "Epoch 15/300\n",
            "67/67 [==============================] - 0s 327us/sample - loss: 0.0938 - mean_squared_error: 0.0938 - mean_absolute_error: 0.2644 - val_loss: 0.0877 - val_mean_squared_error: 0.0877 - val_mean_absolute_error: 0.2264\n",
            "Epoch 16/300\n",
            "67/67 [==============================] - 0s 447us/sample - loss: 0.0857 - mean_squared_error: 0.0857 - mean_absolute_error: 0.2513 - val_loss: 0.0816 - val_mean_squared_error: 0.0816 - val_mean_absolute_error: 0.2150\n",
            "Epoch 17/300\n",
            "67/67 [==============================] - 0s 260us/sample - loss: 0.0790 - mean_squared_error: 0.0790 - mean_absolute_error: 0.2389 - val_loss: 0.0760 - val_mean_squared_error: 0.0760 - val_mean_absolute_error: 0.2040\n",
            "Epoch 18/300\n",
            "67/67 [==============================] - 0s 287us/sample - loss: 0.0724 - mean_squared_error: 0.0724 - mean_absolute_error: 0.2254 - val_loss: 0.0716 - val_mean_squared_error: 0.0716 - val_mean_absolute_error: 0.1953\n",
            "Epoch 19/300\n",
            "67/67 [==============================] - 0s 272us/sample - loss: 0.0673 - mean_squared_error: 0.0673 - mean_absolute_error: 0.2134 - val_loss: 0.0669 - val_mean_squared_error: 0.0669 - val_mean_absolute_error: 0.1891\n",
            "Epoch 20/300\n",
            "67/67 [==============================] - 0s 272us/sample - loss: 0.0614 - mean_squared_error: 0.0614 - mean_absolute_error: 0.2021 - val_loss: 0.0609 - val_mean_squared_error: 0.0609 - val_mean_absolute_error: 0.1902\n",
            "Epoch 21/300\n",
            "67/67 [==============================] - 0s 263us/sample - loss: 0.0567 - mean_squared_error: 0.0567 - mean_absolute_error: 0.1949 - val_loss: 0.0580 - val_mean_squared_error: 0.0580 - val_mean_absolute_error: 0.1925\n",
            "Epoch 22/300\n",
            "67/67 [==============================] - 0s 271us/sample - loss: 0.0542 - mean_squared_error: 0.0542 - mean_absolute_error: 0.1910 - val_loss: 0.0559 - val_mean_squared_error: 0.0559 - val_mean_absolute_error: 0.1890\n",
            "Epoch 23/300\n",
            "67/67 [==============================] - 0s 272us/sample - loss: 0.0514 - mean_squared_error: 0.0514 - mean_absolute_error: 0.1825 - val_loss: 0.0541 - val_mean_squared_error: 0.0541 - val_mean_absolute_error: 0.1819\n",
            "Epoch 24/300\n",
            "67/67 [==============================] - 0s 315us/sample - loss: 0.0497 - mean_squared_error: 0.0497 - mean_absolute_error: 0.1728 - val_loss: 0.0556 - val_mean_squared_error: 0.0556 - val_mean_absolute_error: 0.1745\n",
            "Epoch 25/300\n",
            "67/67 [==============================] - 0s 284us/sample - loss: 0.0512 - mean_squared_error: 0.0512 - mean_absolute_error: 0.1690 - val_loss: 0.0573 - val_mean_squared_error: 0.0573 - val_mean_absolute_error: 0.1720\n",
            "Epoch 26/300\n",
            "67/67 [==============================] - 0s 291us/sample - loss: 0.0501 - mean_squared_error: 0.0501 - mean_absolute_error: 0.1647 - val_loss: 0.0540 - val_mean_squared_error: 0.0540 - val_mean_absolute_error: 0.1732\n",
            "Epoch 27/300\n",
            "67/67 [==============================] - 0s 283us/sample - loss: 0.0469 - mean_squared_error: 0.0469 - mean_absolute_error: 0.1612 - val_loss: 0.0521 - val_mean_squared_error: 0.0521 - val_mean_absolute_error: 0.1798\n",
            "Epoch 28/300\n",
            "67/67 [==============================] - 0s 342us/sample - loss: 0.0471 - mean_squared_error: 0.0471 - mean_absolute_error: 0.1666 - val_loss: 0.0536 - val_mean_squared_error: 0.0536 - val_mean_absolute_error: 0.1892\n",
            "Epoch 29/300\n",
            "67/67 [==============================] - 0s 278us/sample - loss: 0.0488 - mean_squared_error: 0.0488 - mean_absolute_error: 0.1730 - val_loss: 0.0536 - val_mean_squared_error: 0.0536 - val_mean_absolute_error: 0.1893\n",
            "Epoch 30/300\n",
            "67/67 [==============================] - 0s 275us/sample - loss: 0.0478 - mean_squared_error: 0.0478 - mean_absolute_error: 0.1695 - val_loss: 0.0521 - val_mean_squared_error: 0.0521 - val_mean_absolute_error: 0.1825\n",
            "Epoch 31/300\n",
            "67/67 [==============================] - 0s 280us/sample - loss: 0.0457 - mean_squared_error: 0.0457 - mean_absolute_error: 0.1625 - val_loss: 0.0519 - val_mean_squared_error: 0.0519 - val_mean_absolute_error: 0.1769\n",
            "Epoch 32/300\n",
            "67/67 [==============================] - 0s 270us/sample - loss: 0.0455 - mean_squared_error: 0.0455 - mean_absolute_error: 0.1585 - val_loss: 0.0528 - val_mean_squared_error: 0.0528 - val_mean_absolute_error: 0.1727\n",
            "Epoch 33/300\n",
            "67/67 [==============================] - 0s 288us/sample - loss: 0.0461 - mean_squared_error: 0.0461 - mean_absolute_error: 0.1580 - val_loss: 0.0534 - val_mean_squared_error: 0.0534 - val_mean_absolute_error: 0.1712\n",
            "Epoch 34/300\n",
            "67/67 [==============================] - 0s 252us/sample - loss: 0.0456 - mean_squared_error: 0.0456 - mean_absolute_error: 0.1571 - val_loss: 0.0522 - val_mean_squared_error: 0.0522 - val_mean_absolute_error: 0.1728\n",
            "Epoch 35/300\n",
            "67/67 [==============================] - 0s 282us/sample - loss: 0.0448 - mean_squared_error: 0.0448 - mean_absolute_error: 0.1559 - val_loss: 0.0513 - val_mean_squared_error: 0.0513 - val_mean_absolute_error: 0.1746\n",
            "Epoch 36/300\n",
            "67/67 [==============================] - 0s 284us/sample - loss: 0.0442 - mean_squared_error: 0.0442 - mean_absolute_error: 0.1552 - val_loss: 0.0508 - val_mean_squared_error: 0.0508 - val_mean_absolute_error: 0.1754\n",
            "Epoch 37/300\n",
            "67/67 [==============================] - 0s 295us/sample - loss: 0.0441 - mean_squared_error: 0.0441 - mean_absolute_error: 0.1551 - val_loss: 0.0507 - val_mean_squared_error: 0.0507 - val_mean_absolute_error: 0.1747\n",
            "Epoch 38/300\n",
            "67/67 [==============================] - 0s 254us/sample - loss: 0.0438 - mean_squared_error: 0.0438 - mean_absolute_error: 0.1555 - val_loss: 0.0503 - val_mean_squared_error: 0.0503 - val_mean_absolute_error: 0.1759\n",
            "Epoch 39/300\n",
            "67/67 [==============================] - 0s 320us/sample - loss: 0.0434 - mean_squared_error: 0.0434 - mean_absolute_error: 0.1554 - val_loss: 0.0501 - val_mean_squared_error: 0.0501 - val_mean_absolute_error: 0.1767\n",
            "Epoch 40/300\n",
            "67/67 [==============================] - 0s 345us/sample - loss: 0.0435 - mean_squared_error: 0.0435 - mean_absolute_error: 0.1559 - val_loss: 0.0500 - val_mean_squared_error: 0.0500 - val_mean_absolute_error: 0.1774\n",
            "Epoch 41/300\n",
            "67/67 [==============================] - 0s 265us/sample - loss: 0.0433 - mean_squared_error: 0.0433 - mean_absolute_error: 0.1558 - val_loss: 0.0499 - val_mean_squared_error: 0.0499 - val_mean_absolute_error: 0.1776\n",
            "Epoch 42/300\n",
            "67/67 [==============================] - 0s 353us/sample - loss: 0.0431 - mean_squared_error: 0.0431 - mean_absolute_error: 0.1553 - val_loss: 0.0498 - val_mean_squared_error: 0.0498 - val_mean_absolute_error: 0.1770\n",
            "Epoch 43/300\n",
            "67/67 [==============================] - 0s 342us/sample - loss: 0.0429 - mean_squared_error: 0.0429 - mean_absolute_error: 0.1543 - val_loss: 0.0498 - val_mean_squared_error: 0.0498 - val_mean_absolute_error: 0.1751\n",
            "Epoch 44/300\n",
            "67/67 [==============================] - 0s 294us/sample - loss: 0.0427 - mean_squared_error: 0.0427 - mean_absolute_error: 0.1534 - val_loss: 0.0500 - val_mean_squared_error: 0.0500 - val_mean_absolute_error: 0.1737\n",
            "Epoch 45/300\n",
            "67/67 [==============================] - 0s 333us/sample - loss: 0.0429 - mean_squared_error: 0.0429 - mean_absolute_error: 0.1529 - val_loss: 0.0495 - val_mean_squared_error: 0.0495 - val_mean_absolute_error: 0.1754\n",
            "Epoch 46/300\n",
            "67/67 [==============================] - 0s 277us/sample - loss: 0.0425 - mean_squared_error: 0.0425 - mean_absolute_error: 0.1527 - val_loss: 0.0495 - val_mean_squared_error: 0.0495 - val_mean_absolute_error: 0.1776\n",
            "Epoch 47/300\n",
            "67/67 [==============================] - 0s 321us/sample - loss: 0.0432 - mean_squared_error: 0.0432 - mean_absolute_error: 0.1551 - val_loss: 0.0495 - val_mean_squared_error: 0.0495 - val_mean_absolute_error: 0.1783\n",
            "Epoch 48/300\n",
            "67/67 [==============================] - 0s 318us/sample - loss: 0.0427 - mean_squared_error: 0.0427 - mean_absolute_error: 0.1539 - val_loss: 0.0492 - val_mean_squared_error: 0.0492 - val_mean_absolute_error: 0.1764\n",
            "Epoch 49/300\n",
            "67/67 [==============================] - 0s 313us/sample - loss: 0.0422 - mean_squared_error: 0.0422 - mean_absolute_error: 0.1521 - val_loss: 0.0494 - val_mean_squared_error: 0.0494 - val_mean_absolute_error: 0.1735\n",
            "Epoch 50/300\n",
            "67/67 [==============================] - 0s 317us/sample - loss: 0.0425 - mean_squared_error: 0.0425 - mean_absolute_error: 0.1512 - val_loss: 0.0513 - val_mean_squared_error: 0.0513 - val_mean_absolute_error: 0.1694\n",
            "Epoch 51/300\n",
            "67/67 [==============================] - 0s 292us/sample - loss: 0.0445 - mean_squared_error: 0.0445 - mean_absolute_error: 0.1545 - val_loss: 0.0531 - val_mean_squared_error: 0.0531 - val_mean_absolute_error: 0.1671\n",
            "Epoch 52/300\n",
            "67/67 [==============================] - 0s 337us/sample - loss: 0.0447 - mean_squared_error: 0.0447 - mean_absolute_error: 0.1554 - val_loss: 0.0506 - val_mean_squared_error: 0.0506 - val_mean_absolute_error: 0.1674\n",
            "Epoch 53/300\n",
            "67/67 [==============================] - 0s 286us/sample - loss: 0.0430 - mean_squared_error: 0.0430 - mean_absolute_error: 0.1509 - val_loss: 0.0487 - val_mean_squared_error: 0.0487 - val_mean_absolute_error: 0.1702\n",
            "Epoch 54/300\n",
            "67/67 [==============================] - 0s 277us/sample - loss: 0.0414 - mean_squared_error: 0.0414 - mean_absolute_error: 0.1495 - val_loss: 0.0481 - val_mean_squared_error: 0.0481 - val_mean_absolute_error: 0.1737\n",
            "Epoch 55/300\n",
            "67/67 [==============================] - 0s 286us/sample - loss: 0.0417 - mean_squared_error: 0.0417 - mean_absolute_error: 0.1532 - val_loss: 0.0483 - val_mean_squared_error: 0.0483 - val_mean_absolute_error: 0.1772\n",
            "Epoch 56/300\n",
            "67/67 [==============================] - 0s 292us/sample - loss: 0.0422 - mean_squared_error: 0.0422 - mean_absolute_error: 0.1556 - val_loss: 0.0480 - val_mean_squared_error: 0.0480 - val_mean_absolute_error: 0.1765\n",
            "Epoch 57/300\n",
            "67/67 [==============================] - 0s 272us/sample - loss: 0.0415 - mean_squared_error: 0.0415 - mean_absolute_error: 0.1538 - val_loss: 0.0478 - val_mean_squared_error: 0.0478 - val_mean_absolute_error: 0.1724\n",
            "Epoch 58/300\n",
            "67/67 [==============================] - 0s 311us/sample - loss: 0.0410 - mean_squared_error: 0.0410 - mean_absolute_error: 0.1499 - val_loss: 0.0496 - val_mean_squared_error: 0.0496 - val_mean_absolute_error: 0.1658\n",
            "Epoch 59/300\n",
            "67/67 [==============================] - 0s 274us/sample - loss: 0.0434 - mean_squared_error: 0.0434 - mean_absolute_error: 0.1529 - val_loss: 0.0509 - val_mean_squared_error: 0.0509 - val_mean_absolute_error: 0.1642\n",
            "Epoch 60/300\n",
            "67/67 [==============================] - 0s 281us/sample - loss: 0.0432 - mean_squared_error: 0.0432 - mean_absolute_error: 0.1527 - val_loss: 0.0487 - val_mean_squared_error: 0.0487 - val_mean_absolute_error: 0.1677\n",
            "Epoch 61/300\n",
            "67/67 [==============================] - 0s 269us/sample - loss: 0.0416 - mean_squared_error: 0.0416 - mean_absolute_error: 0.1502 - val_loss: 0.0476 - val_mean_squared_error: 0.0476 - val_mean_absolute_error: 0.1733\n",
            "Epoch 62/300\n",
            "67/67 [==============================] - 0s 272us/sample - loss: 0.0422 - mean_squared_error: 0.0422 - mean_absolute_error: 0.1556 - val_loss: 0.0483 - val_mean_squared_error: 0.0483 - val_mean_absolute_error: 0.1793\n",
            "Epoch 63/300\n",
            "67/67 [==============================] - 0s 278us/sample - loss: 0.0424 - mean_squared_error: 0.0424 - mean_absolute_error: 0.1586 - val_loss: 0.0489 - val_mean_squared_error: 0.0489 - val_mean_absolute_error: 0.1818\n",
            "Epoch 64/300\n",
            "67/67 [==============================] - 0s 274us/sample - loss: 0.0431 - mean_squared_error: 0.0431 - mean_absolute_error: 0.1595 - val_loss: 0.0491 - val_mean_squared_error: 0.0491 - val_mean_absolute_error: 0.1825\n",
            "Epoch 65/300\n",
            "67/67 [==============================] - 0s 257us/sample - loss: 0.0429 - mean_squared_error: 0.0429 - mean_absolute_error: 0.1576 - val_loss: 0.0481 - val_mean_squared_error: 0.0481 - val_mean_absolute_error: 0.1793\n",
            "Epoch 66/300\n",
            "67/67 [==============================] - 0s 287us/sample - loss: 0.0413 - mean_squared_error: 0.0413 - mean_absolute_error: 0.1526 - val_loss: 0.0474 - val_mean_squared_error: 0.0474 - val_mean_absolute_error: 0.1727\n",
            "Epoch 67/300\n",
            "67/67 [==============================] - 0s 285us/sample - loss: 0.0405 - mean_squared_error: 0.0405 - mean_absolute_error: 0.1488 - val_loss: 0.0483 - val_mean_squared_error: 0.0483 - val_mean_absolute_error: 0.1686\n",
            "Epoch 68/300\n",
            "67/67 [==============================] - 0s 331us/sample - loss: 0.0406 - mean_squared_error: 0.0406 - mean_absolute_error: 0.1469 - val_loss: 0.0479 - val_mean_squared_error: 0.0479 - val_mean_absolute_error: 0.1694\n",
            "Epoch 69/300\n",
            "67/67 [==============================] - 0s 292us/sample - loss: 0.0403 - mean_squared_error: 0.0403 - mean_absolute_error: 0.1469 - val_loss: 0.0481 - val_mean_squared_error: 0.0481 - val_mean_absolute_error: 0.1681\n",
            "Epoch 70/300\n",
            "67/67 [==============================] - 0s 290us/sample - loss: 0.0409 - mean_squared_error: 0.0409 - mean_absolute_error: 0.1471 - val_loss: 0.0491 - val_mean_squared_error: 0.0491 - val_mean_absolute_error: 0.1658\n",
            "Epoch 71/300\n",
            "67/67 [==============================] - 0s 300us/sample - loss: 0.0411 - mean_squared_error: 0.0411 - mean_absolute_error: 0.1476 - val_loss: 0.0482 - val_mean_squared_error: 0.0482 - val_mean_absolute_error: 0.1666\n",
            "Epoch 72/300\n",
            "67/67 [==============================] - 0s 297us/sample - loss: 0.0404 - mean_squared_error: 0.0404 - mean_absolute_error: 0.1464 - val_loss: 0.0471 - val_mean_squared_error: 0.0471 - val_mean_absolute_error: 0.1685\n",
            "Epoch 73/300\n",
            "67/67 [==============================] - 0s 279us/sample - loss: 0.0396 - mean_squared_error: 0.0396 - mean_absolute_error: 0.1459 - val_loss: 0.0467 - val_mean_squared_error: 0.0467 - val_mean_absolute_error: 0.1735\n",
            "Epoch 74/300\n",
            "67/67 [==============================] - 0s 277us/sample - loss: 0.0400 - mean_squared_error: 0.0400 - mean_absolute_error: 0.1491 - val_loss: 0.0474 - val_mean_squared_error: 0.0474 - val_mean_absolute_error: 0.1777\n",
            "Epoch 75/300\n",
            "67/67 [==============================] - 0s 301us/sample - loss: 0.0413 - mean_squared_error: 0.0413 - mean_absolute_error: 0.1533 - val_loss: 0.0476 - val_mean_squared_error: 0.0476 - val_mean_absolute_error: 0.1791\n",
            "Epoch 76/300\n",
            "67/67 [==============================] - 0s 255us/sample - loss: 0.0419 - mean_squared_error: 0.0419 - mean_absolute_error: 0.1546 - val_loss: 0.0470 - val_mean_squared_error: 0.0470 - val_mean_absolute_error: 0.1769\n",
            "Epoch 77/300\n",
            "67/67 [==============================] - 0s 286us/sample - loss: 0.0404 - mean_squared_error: 0.0404 - mean_absolute_error: 0.1504 - val_loss: 0.0466 - val_mean_squared_error: 0.0466 - val_mean_absolute_error: 0.1682\n",
            "Epoch 78/300\n",
            "67/67 [==============================] - 0s 282us/sample - loss: 0.0397 - mean_squared_error: 0.0397 - mean_absolute_error: 0.1454 - val_loss: 0.0492 - val_mean_squared_error: 0.0492 - val_mean_absolute_error: 0.1630\n",
            "Epoch 79/300\n",
            "67/67 [==============================] - 0s 308us/sample - loss: 0.0411 - mean_squared_error: 0.0411 - mean_absolute_error: 0.1467 - val_loss: 0.0473 - val_mean_squared_error: 0.0473 - val_mean_absolute_error: 0.1651\n",
            "Epoch 80/300\n",
            "67/67 [==============================] - 0s 285us/sample - loss: 0.0395 - mean_squared_error: 0.0395 - mean_absolute_error: 0.1457 - val_loss: 0.0462 - val_mean_squared_error: 0.0462 - val_mean_absolute_error: 0.1725\n",
            "Epoch 81/300\n",
            "67/67 [==============================] - 0s 320us/sample - loss: 0.0392 - mean_squared_error: 0.0392 - mean_absolute_error: 0.1487 - val_loss: 0.0477 - val_mean_squared_error: 0.0477 - val_mean_absolute_error: 0.1801\n",
            "Epoch 82/300\n",
            "67/67 [==============================] - 0s 433us/sample - loss: 0.0423 - mean_squared_error: 0.0423 - mean_absolute_error: 0.1574 - val_loss: 0.0483 - val_mean_squared_error: 0.0483 - val_mean_absolute_error: 0.1817\n",
            "Epoch 83/300\n",
            "67/67 [==============================] - 0s 305us/sample - loss: 0.0419 - mean_squared_error: 0.0419 - mean_absolute_error: 0.1570 - val_loss: 0.0463 - val_mean_squared_error: 0.0463 - val_mean_absolute_error: 0.1740\n",
            "Epoch 84/300\n",
            "67/67 [==============================] - 0s 298us/sample - loss: 0.0395 - mean_squared_error: 0.0395 - mean_absolute_error: 0.1494 - val_loss: 0.0464 - val_mean_squared_error: 0.0464 - val_mean_absolute_error: 0.1667\n",
            "Epoch 85/300\n",
            "67/67 [==============================] - 0s 296us/sample - loss: 0.0394 - mean_squared_error: 0.0394 - mean_absolute_error: 0.1454 - val_loss: 0.0486 - val_mean_squared_error: 0.0486 - val_mean_absolute_error: 0.1624\n",
            "Epoch 86/300\n",
            "67/67 [==============================] - 0s 328us/sample - loss: 0.0413 - mean_squared_error: 0.0413 - mean_absolute_error: 0.1473 - val_loss: 0.0504 - val_mean_squared_error: 0.0504 - val_mean_absolute_error: 0.1622\n",
            "Epoch 87/300\n",
            "67/67 [==============================] - 0s 322us/sample - loss: 0.0423 - mean_squared_error: 0.0423 - mean_absolute_error: 0.1490 - val_loss: 0.0493 - val_mean_squared_error: 0.0493 - val_mean_absolute_error: 0.1622\n",
            "Epoch 88/300\n",
            "67/67 [==============================] - 0s 306us/sample - loss: 0.0412 - mean_squared_error: 0.0412 - mean_absolute_error: 0.1470 - val_loss: 0.0473 - val_mean_squared_error: 0.0473 - val_mean_absolute_error: 0.1632\n",
            "Epoch 89/300\n",
            "67/67 [==============================] - 0s 307us/sample - loss: 0.0399 - mean_squared_error: 0.0399 - mean_absolute_error: 0.1452 - val_loss: 0.0481 - val_mean_squared_error: 0.0481 - val_mean_absolute_error: 0.1625\n",
            "Epoch 90/300\n",
            "67/67 [==============================] - 0s 253us/sample - loss: 0.0407 - mean_squared_error: 0.0407 - mean_absolute_error: 0.1465 - val_loss: 0.0470 - val_mean_squared_error: 0.0470 - val_mean_absolute_error: 0.1637\n",
            "Epoch 91/300\n",
            "67/67 [==============================] - 0s 263us/sample - loss: 0.0397 - mean_squared_error: 0.0397 - mean_absolute_error: 0.1472 - val_loss: 0.0459 - val_mean_squared_error: 0.0459 - val_mean_absolute_error: 0.1729\n",
            "Epoch 92/300\n",
            "67/67 [==============================] - 0s 301us/sample - loss: 0.0406 - mean_squared_error: 0.0406 - mean_absolute_error: 0.1536 - val_loss: 0.0477 - val_mean_squared_error: 0.0477 - val_mean_absolute_error: 0.1805\n",
            "Epoch 93/300\n",
            "67/67 [==============================] - 0s 301us/sample - loss: 0.0418 - mean_squared_error: 0.0418 - mean_absolute_error: 0.1572 - val_loss: 0.0465 - val_mean_squared_error: 0.0465 - val_mean_absolute_error: 0.1768\n",
            "Epoch 94/300\n",
            "67/67 [==============================] - 0s 295us/sample - loss: 0.0401 - mean_squared_error: 0.0401 - mean_absolute_error: 0.1511 - val_loss: 0.0454 - val_mean_squared_error: 0.0454 - val_mean_absolute_error: 0.1683\n",
            "Epoch 95/300\n",
            "67/67 [==============================] - 0s 300us/sample - loss: 0.0383 - mean_squared_error: 0.0383 - mean_absolute_error: 0.1432 - val_loss: 0.0470 - val_mean_squared_error: 0.0470 - val_mean_absolute_error: 0.1630\n",
            "Epoch 96/300\n",
            "67/67 [==============================] - 0s 297us/sample - loss: 0.0397 - mean_squared_error: 0.0397 - mean_absolute_error: 0.1442 - val_loss: 0.0496 - val_mean_squared_error: 0.0496 - val_mean_absolute_error: 0.1624\n",
            "Epoch 97/300\n",
            "67/67 [==============================] - 0s 303us/sample - loss: 0.0408 - mean_squared_error: 0.0408 - mean_absolute_error: 0.1467 - val_loss: 0.0472 - val_mean_squared_error: 0.0472 - val_mean_absolute_error: 0.1630\n",
            "Epoch 98/300\n",
            "67/67 [==============================] - 0s 303us/sample - loss: 0.0382 - mean_squared_error: 0.0382 - mean_absolute_error: 0.1414 - val_loss: 0.0453 - val_mean_squared_error: 0.0453 - val_mean_absolute_error: 0.1673\n",
            "Epoch 99/300\n",
            "67/67 [==============================] - 0s 303us/sample - loss: 0.0376 - mean_squared_error: 0.0376 - mean_absolute_error: 0.1429 - val_loss: 0.0463 - val_mean_squared_error: 0.0463 - val_mean_absolute_error: 0.1761\n",
            "Epoch 100/300\n",
            "67/67 [==============================] - 0s 305us/sample - loss: 0.0405 - mean_squared_error: 0.0405 - mean_absolute_error: 0.1511 - val_loss: 0.0509 - val_mean_squared_error: 0.0509 - val_mean_absolute_error: 0.1871\n",
            "Epoch 101/300\n",
            "67/67 [==============================] - 0s 289us/sample - loss: 0.0457 - mean_squared_error: 0.0457 - mean_absolute_error: 0.1634 - val_loss: 0.0508 - val_mean_squared_error: 0.0508 - val_mean_absolute_error: 0.1867\n",
            "Epoch 102/300\n",
            "67/67 [==============================] - 0s 272us/sample - loss: 0.0447 - mean_squared_error: 0.0447 - mean_absolute_error: 0.1581 - val_loss: 0.0459 - val_mean_squared_error: 0.0459 - val_mean_absolute_error: 0.1740\n",
            "Epoch 103/300\n",
            "67/67 [==============================] - 0s 303us/sample - loss: 0.0399 - mean_squared_error: 0.0399 - mean_absolute_error: 0.1484 - val_loss: 0.0455 - val_mean_squared_error: 0.0455 - val_mean_absolute_error: 0.1645\n",
            "Epoch 104/300\n",
            "67/67 [==============================] - 0s 265us/sample - loss: 0.0377 - mean_squared_error: 0.0377 - mean_absolute_error: 0.1408 - val_loss: 0.0470 - val_mean_squared_error: 0.0470 - val_mean_absolute_error: 0.1629\n",
            "Epoch 105/300\n",
            "67/67 [==============================] - 0s 302us/sample - loss: 0.0390 - mean_squared_error: 0.0390 - mean_absolute_error: 0.1438 - val_loss: 0.0486 - val_mean_squared_error: 0.0486 - val_mean_absolute_error: 0.1634\n",
            "Epoch 106/300\n",
            "67/67 [==============================] - 0s 279us/sample - loss: 0.0399 - mean_squared_error: 0.0399 - mean_absolute_error: 0.1460 - val_loss: 0.0495 - val_mean_squared_error: 0.0495 - val_mean_absolute_error: 0.1638\n",
            "Epoch 107/300\n",
            "67/67 [==============================] - 0s 291us/sample - loss: 0.0410 - mean_squared_error: 0.0410 - mean_absolute_error: 0.1479 - val_loss: 0.0503 - val_mean_squared_error: 0.0503 - val_mean_absolute_error: 0.1634\n",
            "Epoch 108/300\n",
            "67/67 [==============================] - 0s 298us/sample - loss: 0.0410 - mean_squared_error: 0.0410 - mean_absolute_error: 0.1485 - val_loss: 0.0462 - val_mean_squared_error: 0.0462 - val_mean_absolute_error: 0.1623\n",
            "Epoch 109/300\n",
            "67/67 [==============================] - 0s 288us/sample - loss: 0.0378 - mean_squared_error: 0.0378 - mean_absolute_error: 0.1413 - val_loss: 0.0446 - val_mean_squared_error: 0.0446 - val_mean_absolute_error: 0.1672\n",
            "Epoch 110/300\n",
            "67/67 [==============================] - 0s 295us/sample - loss: 0.0378 - mean_squared_error: 0.0378 - mean_absolute_error: 0.1439 - val_loss: 0.0460 - val_mean_squared_error: 0.0460 - val_mean_absolute_error: 0.1759\n",
            "Epoch 111/300\n",
            "67/67 [==============================] - 0s 293us/sample - loss: 0.0402 - mean_squared_error: 0.0402 - mean_absolute_error: 0.1512 - val_loss: 0.0461 - val_mean_squared_error: 0.0461 - val_mean_absolute_error: 0.1766\n",
            "Epoch 112/300\n",
            "67/67 [==============================] - 0s 264us/sample - loss: 0.0391 - mean_squared_error: 0.0391 - mean_absolute_error: 0.1493 - val_loss: 0.0445 - val_mean_squared_error: 0.0445 - val_mean_absolute_error: 0.1648\n",
            "Epoch 113/300\n",
            "67/67 [==============================] - 0s 279us/sample - loss: 0.0385 - mean_squared_error: 0.0385 - mean_absolute_error: 0.1452 - val_loss: 0.0503 - val_mean_squared_error: 0.0503 - val_mean_absolute_error: 0.1593\n",
            "Epoch 114/300\n",
            "67/67 [==============================] - 0s 264us/sample - loss: 0.0425 - mean_squared_error: 0.0425 - mean_absolute_error: 0.1488 - val_loss: 0.0531 - val_mean_squared_error: 0.0531 - val_mean_absolute_error: 0.1604\n",
            "Epoch 115/300\n",
            "67/67 [==============================] - 0s 244us/sample - loss: 0.0439 - mean_squared_error: 0.0439 - mean_absolute_error: 0.1505 - val_loss: 0.0505 - val_mean_squared_error: 0.0505 - val_mean_absolute_error: 0.1590\n",
            "Epoch 116/300\n",
            "67/67 [==============================] - 0s 257us/sample - loss: 0.0413 - mean_squared_error: 0.0413 - mean_absolute_error: 0.1469 - val_loss: 0.0464 - val_mean_squared_error: 0.0464 - val_mean_absolute_error: 0.1602\n",
            "Epoch 117/300\n",
            "67/67 [==============================] - 0s 292us/sample - loss: 0.0388 - mean_squared_error: 0.0388 - mean_absolute_error: 0.1431 - val_loss: 0.0444 - val_mean_squared_error: 0.0444 - val_mean_absolute_error: 0.1630\n",
            "Epoch 118/300\n",
            "67/67 [==============================] - 0s 253us/sample - loss: 0.0372 - mean_squared_error: 0.0372 - mean_absolute_error: 0.1421 - val_loss: 0.0445 - val_mean_squared_error: 0.0445 - val_mean_absolute_error: 0.1627\n",
            "Epoch 119/300\n",
            "67/67 [==============================] - 0s 312us/sample - loss: 0.0375 - mean_squared_error: 0.0375 - mean_absolute_error: 0.1416 - val_loss: 0.0455 - val_mean_squared_error: 0.0455 - val_mean_absolute_error: 0.1609\n",
            "Epoch 120/300\n",
            "67/67 [==============================] - 0s 266us/sample - loss: 0.0377 - mean_squared_error: 0.0377 - mean_absolute_error: 0.1414 - val_loss: 0.0449 - val_mean_squared_error: 0.0449 - val_mean_absolute_error: 0.1616\n",
            "Epoch 121/300\n",
            "67/67 [==============================] - 0s 287us/sample - loss: 0.0370 - mean_squared_error: 0.0370 - mean_absolute_error: 0.1399 - val_loss: 0.0442 - val_mean_squared_error: 0.0442 - val_mean_absolute_error: 0.1639\n",
            "Epoch 122/300\n",
            "67/67 [==============================] - 0s 285us/sample - loss: 0.0369 - mean_squared_error: 0.0369 - mean_absolute_error: 0.1399 - val_loss: 0.0446 - val_mean_squared_error: 0.0446 - val_mean_absolute_error: 0.1641\n",
            "Epoch 123/300\n",
            "67/67 [==============================] - 0s 381us/sample - loss: 0.0371 - mean_squared_error: 0.0371 - mean_absolute_error: 0.1396 - val_loss: 0.0447 - val_mean_squared_error: 0.0447 - val_mean_absolute_error: 0.1645\n",
            "Epoch 124/300\n",
            "67/67 [==============================] - 0s 331us/sample - loss: 0.0369 - mean_squared_error: 0.0369 - mean_absolute_error: 0.1395 - val_loss: 0.0445 - val_mean_squared_error: 0.0445 - val_mean_absolute_error: 0.1691\n",
            "Epoch 125/300\n",
            "67/67 [==============================] - 0s 260us/sample - loss: 0.0384 - mean_squared_error: 0.0384 - mean_absolute_error: 0.1442 - val_loss: 0.0469 - val_mean_squared_error: 0.0469 - val_mean_absolute_error: 0.1780\n",
            "Epoch 126/300\n",
            "67/67 [==============================] - 0s 297us/sample - loss: 0.0418 - mean_squared_error: 0.0418 - mean_absolute_error: 0.1543 - val_loss: 0.0465 - val_mean_squared_error: 0.0465 - val_mean_absolute_error: 0.1772\n",
            "Epoch 127/300\n",
            "67/67 [==============================] - 0s 282us/sample - loss: 0.0403 - mean_squared_error: 0.0403 - mean_absolute_error: 0.1510 - val_loss: 0.0442 - val_mean_squared_error: 0.0442 - val_mean_absolute_error: 0.1689\n",
            "Epoch 128/300\n",
            "67/67 [==============================] - 0s 262us/sample - loss: 0.0372 - mean_squared_error: 0.0372 - mean_absolute_error: 0.1421 - val_loss: 0.0439 - val_mean_squared_error: 0.0439 - val_mean_absolute_error: 0.1645\n",
            "Epoch 129/300\n",
            "67/67 [==============================] - 0s 282us/sample - loss: 0.0368 - mean_squared_error: 0.0368 - mean_absolute_error: 0.1394 - val_loss: 0.0455 - val_mean_squared_error: 0.0455 - val_mean_absolute_error: 0.1616\n",
            "Epoch 130/300\n",
            "67/67 [==============================] - 0s 270us/sample - loss: 0.0382 - mean_squared_error: 0.0382 - mean_absolute_error: 0.1413 - val_loss: 0.0458 - val_mean_squared_error: 0.0458 - val_mean_absolute_error: 0.1612\n",
            "Epoch 131/300\n",
            "67/67 [==============================] - 0s 270us/sample - loss: 0.0368 - mean_squared_error: 0.0368 - mean_absolute_error: 0.1388 - val_loss: 0.0439 - val_mean_squared_error: 0.0439 - val_mean_absolute_error: 0.1638\n",
            "Epoch 132/300\n",
            "67/67 [==============================] - 0s 289us/sample - loss: 0.0374 - mean_squared_error: 0.0374 - mean_absolute_error: 0.1414 - val_loss: 0.0445 - val_mean_squared_error: 0.0445 - val_mean_absolute_error: 0.1707\n",
            "Epoch 133/300\n",
            "67/67 [==============================] - 0s 291us/sample - loss: 0.0377 - mean_squared_error: 0.0377 - mean_absolute_error: 0.1436 - val_loss: 0.0441 - val_mean_squared_error: 0.0441 - val_mean_absolute_error: 0.1684\n",
            "Epoch 134/300\n",
            "67/67 [==============================] - 0s 293us/sample - loss: 0.0371 - mean_squared_error: 0.0371 - mean_absolute_error: 0.1426 - val_loss: 0.0440 - val_mean_squared_error: 0.0440 - val_mean_absolute_error: 0.1674\n",
            "Epoch 135/300\n",
            "67/67 [==============================] - 0s 265us/sample - loss: 0.0369 - mean_squared_error: 0.0369 - mean_absolute_error: 0.1408 - val_loss: 0.0438 - val_mean_squared_error: 0.0438 - val_mean_absolute_error: 0.1649\n",
            "Epoch 136/300\n",
            "67/67 [==============================] - 0s 324us/sample - loss: 0.0366 - mean_squared_error: 0.0366 - mean_absolute_error: 0.1399 - val_loss: 0.0441 - val_mean_squared_error: 0.0441 - val_mean_absolute_error: 0.1681\n",
            "Epoch 137/300\n",
            "67/67 [==============================] - 0s 303us/sample - loss: 0.0371 - mean_squared_error: 0.0371 - mean_absolute_error: 0.1417 - val_loss: 0.0440 - val_mean_squared_error: 0.0440 - val_mean_absolute_error: 0.1664\n",
            "Epoch 138/300\n",
            "67/67 [==============================] - 0s 298us/sample - loss: 0.0366 - mean_squared_error: 0.0366 - mean_absolute_error: 0.1403 - val_loss: 0.0441 - val_mean_squared_error: 0.0441 - val_mean_absolute_error: 0.1620\n",
            "Epoch 139/300\n",
            "67/67 [==============================] - 0s 280us/sample - loss: 0.0364 - mean_squared_error: 0.0364 - mean_absolute_error: 0.1393 - val_loss: 0.0470 - val_mean_squared_error: 0.0470 - val_mean_absolute_error: 0.1603\n",
            "Epoch 140/300\n",
            "67/67 [==============================] - 0s 251us/sample - loss: 0.0396 - mean_squared_error: 0.0396 - mean_absolute_error: 0.1450 - val_loss: 0.0505 - val_mean_squared_error: 0.0505 - val_mean_absolute_error: 0.1608\n",
            "Epoch 141/300\n",
            "67/67 [==============================] - 0s 286us/sample - loss: 0.0410 - mean_squared_error: 0.0410 - mean_absolute_error: 0.1473 - val_loss: 0.0464 - val_mean_squared_error: 0.0464 - val_mean_absolute_error: 0.1593\n",
            "Epoch 142/300\n",
            "67/67 [==============================] - 0s 286us/sample - loss: 0.0372 - mean_squared_error: 0.0372 - mean_absolute_error: 0.1401 - val_loss: 0.0438 - val_mean_squared_error: 0.0438 - val_mean_absolute_error: 0.1608\n",
            "Epoch 143/300\n",
            "67/67 [==============================] - 0s 295us/sample - loss: 0.0362 - mean_squared_error: 0.0362 - mean_absolute_error: 0.1385 - val_loss: 0.0433 - val_mean_squared_error: 0.0433 - val_mean_absolute_error: 0.1622\n",
            "Epoch 144/300\n",
            "67/67 [==============================] - 0s 264us/sample - loss: 0.0358 - mean_squared_error: 0.0358 - mean_absolute_error: 0.1381 - val_loss: 0.0435 - val_mean_squared_error: 0.0435 - val_mean_absolute_error: 0.1682\n",
            "Epoch 145/300\n",
            "67/67 [==============================] - 0s 250us/sample - loss: 0.0372 - mean_squared_error: 0.0372 - mean_absolute_error: 0.1425 - val_loss: 0.0438 - val_mean_squared_error: 0.0438 - val_mean_absolute_error: 0.1698\n",
            "Epoch 146/300\n",
            "67/67 [==============================] - 0s 277us/sample - loss: 0.0367 - mean_squared_error: 0.0367 - mean_absolute_error: 0.1431 - val_loss: 0.0431 - val_mean_squared_error: 0.0431 - val_mean_absolute_error: 0.1628\n",
            "Epoch 147/300\n",
            "67/67 [==============================] - 0s 253us/sample - loss: 0.0367 - mean_squared_error: 0.0367 - mean_absolute_error: 0.1401 - val_loss: 0.0456 - val_mean_squared_error: 0.0456 - val_mean_absolute_error: 0.1596\n",
            "Epoch 148/300\n",
            "67/67 [==============================] - 0s 274us/sample - loss: 0.0375 - mean_squared_error: 0.0375 - mean_absolute_error: 0.1400 - val_loss: 0.0458 - val_mean_squared_error: 0.0458 - val_mean_absolute_error: 0.1594\n",
            "Epoch 149/300\n",
            "67/67 [==============================] - 0s 262us/sample - loss: 0.0374 - mean_squared_error: 0.0374 - mean_absolute_error: 0.1397 - val_loss: 0.0447 - val_mean_squared_error: 0.0447 - val_mean_absolute_error: 0.1600\n",
            "Epoch 150/300\n",
            "67/67 [==============================] - 0s 318us/sample - loss: 0.0363 - mean_squared_error: 0.0363 - mean_absolute_error: 0.1383 - val_loss: 0.0432 - val_mean_squared_error: 0.0432 - val_mean_absolute_error: 0.1615\n",
            "Epoch 151/300\n",
            "67/67 [==============================] - 0s 311us/sample - loss: 0.0354 - mean_squared_error: 0.0354 - mean_absolute_error: 0.1375 - val_loss: 0.0428 - val_mean_squared_error: 0.0428 - val_mean_absolute_error: 0.1643\n",
            "Epoch 152/300\n",
            "67/67 [==============================] - 0s 308us/sample - loss: 0.0358 - mean_squared_error: 0.0358 - mean_absolute_error: 0.1387 - val_loss: 0.0432 - val_mean_squared_error: 0.0432 - val_mean_absolute_error: 0.1675\n",
            "Epoch 153/300\n",
            "67/67 [==============================] - 0s 298us/sample - loss: 0.0366 - mean_squared_error: 0.0366 - mean_absolute_error: 0.1412 - val_loss: 0.0428 - val_mean_squared_error: 0.0428 - val_mean_absolute_error: 0.1635\n",
            "Epoch 154/300\n",
            "67/67 [==============================] - 0s 298us/sample - loss: 0.0355 - mean_squared_error: 0.0355 - mean_absolute_error: 0.1373 - val_loss: 0.0449 - val_mean_squared_error: 0.0449 - val_mean_absolute_error: 0.1592\n",
            "Epoch 155/300\n",
            "67/67 [==============================] - 0s 279us/sample - loss: 0.0367 - mean_squared_error: 0.0367 - mean_absolute_error: 0.1389 - val_loss: 0.0472 - val_mean_squared_error: 0.0472 - val_mean_absolute_error: 0.1588\n",
            "Epoch 156/300\n",
            "67/67 [==============================] - 0s 264us/sample - loss: 0.0386 - mean_squared_error: 0.0386 - mean_absolute_error: 0.1415 - val_loss: 0.0452 - val_mean_squared_error: 0.0452 - val_mean_absolute_error: 0.1595\n",
            "Epoch 157/300\n",
            "67/67 [==============================] - 0s 301us/sample - loss: 0.0357 - mean_squared_error: 0.0357 - mean_absolute_error: 0.1367 - val_loss: 0.0427 - val_mean_squared_error: 0.0427 - val_mean_absolute_error: 0.1639\n",
            "Epoch 158/300\n",
            "67/67 [==============================] - 0s 261us/sample - loss: 0.0361 - mean_squared_error: 0.0361 - mean_absolute_error: 0.1400 - val_loss: 0.0436 - val_mean_squared_error: 0.0436 - val_mean_absolute_error: 0.1699\n",
            "Epoch 159/300\n",
            "67/67 [==============================] - 0s 297us/sample - loss: 0.0377 - mean_squared_error: 0.0377 - mean_absolute_error: 0.1447 - val_loss: 0.0427 - val_mean_squared_error: 0.0427 - val_mean_absolute_error: 0.1654\n",
            "Epoch 160/300\n",
            "67/67 [==============================] - 0s 256us/sample - loss: 0.0358 - mean_squared_error: 0.0358 - mean_absolute_error: 0.1374 - val_loss: 0.0457 - val_mean_squared_error: 0.0457 - val_mean_absolute_error: 0.1590\n",
            "Epoch 161/300\n",
            "67/67 [==============================] - 0s 306us/sample - loss: 0.0383 - mean_squared_error: 0.0383 - mean_absolute_error: 0.1406 - val_loss: 0.0474 - val_mean_squared_error: 0.0474 - val_mean_absolute_error: 0.1591\n",
            "Epoch 162/300\n",
            "67/67 [==============================] - 0s 335us/sample - loss: 0.0378 - mean_squared_error: 0.0378 - mean_absolute_error: 0.1410 - val_loss: 0.0435 - val_mean_squared_error: 0.0435 - val_mean_absolute_error: 0.1597\n",
            "Epoch 163/300\n",
            "67/67 [==============================] - 0s 344us/sample - loss: 0.0355 - mean_squared_error: 0.0355 - mean_absolute_error: 0.1357 - val_loss: 0.0426 - val_mean_squared_error: 0.0426 - val_mean_absolute_error: 0.1610\n",
            "Epoch 164/300\n",
            "67/67 [==============================] - 0s 300us/sample - loss: 0.0354 - mean_squared_error: 0.0354 - mean_absolute_error: 0.1374 - val_loss: 0.0427 - val_mean_squared_error: 0.0427 - val_mean_absolute_error: 0.1623\n",
            "Epoch 165/300\n",
            "67/67 [==============================] - 0s 274us/sample - loss: 0.0356 - mean_squared_error: 0.0356 - mean_absolute_error: 0.1384 - val_loss: 0.0427 - val_mean_squared_error: 0.0427 - val_mean_absolute_error: 0.1622\n",
            "Epoch 166/300\n",
            "67/67 [==============================] - 0s 246us/sample - loss: 0.0356 - mean_squared_error: 0.0356 - mean_absolute_error: 0.1390 - val_loss: 0.0426 - val_mean_squared_error: 0.0426 - val_mean_absolute_error: 0.1636\n",
            "Epoch 167/300\n",
            "67/67 [==============================] - 0s 281us/sample - loss: 0.0355 - mean_squared_error: 0.0355 - mean_absolute_error: 0.1388 - val_loss: 0.0425 - val_mean_squared_error: 0.0425 - val_mean_absolute_error: 0.1611\n",
            "Epoch 168/300\n",
            "67/67 [==============================] - 0s 299us/sample - loss: 0.0365 - mean_squared_error: 0.0365 - mean_absolute_error: 0.1393 - val_loss: 0.0424 - val_mean_squared_error: 0.0424 - val_mean_absolute_error: 0.1629\n",
            "Epoch 169/300\n",
            "67/67 [==============================] - 0s 252us/sample - loss: 0.0370 - mean_squared_error: 0.0370 - mean_absolute_error: 0.1415 - val_loss: 0.0453 - val_mean_squared_error: 0.0453 - val_mean_absolute_error: 0.1744\n",
            "Epoch 170/300\n",
            "67/67 [==============================] - 0s 274us/sample - loss: 0.0390 - mean_squared_error: 0.0390 - mean_absolute_error: 0.1479 - val_loss: 0.0433 - val_mean_squared_error: 0.0433 - val_mean_absolute_error: 0.1687\n",
            "Epoch 171/300\n",
            "67/67 [==============================] - 0s 274us/sample - loss: 0.0367 - mean_squared_error: 0.0367 - mean_absolute_error: 0.1414 - val_loss: 0.0426 - val_mean_squared_error: 0.0426 - val_mean_absolute_error: 0.1619\n",
            "Epoch 172/300\n",
            "67/67 [==============================] - 0s 262us/sample - loss: 0.0354 - mean_squared_error: 0.0354 - mean_absolute_error: 0.1383 - val_loss: 0.0428 - val_mean_squared_error: 0.0428 - val_mean_absolute_error: 0.1613\n",
            "Epoch 173/300\n",
            "67/67 [==============================] - 0s 252us/sample - loss: 0.0356 - mean_squared_error: 0.0356 - mean_absolute_error: 0.1392 - val_loss: 0.0428 - val_mean_squared_error: 0.0428 - val_mean_absolute_error: 0.1622\n",
            "Epoch 174/300\n",
            "67/67 [==============================] - 0s 294us/sample - loss: 0.0356 - mean_squared_error: 0.0356 - mean_absolute_error: 0.1400 - val_loss: 0.0427 - val_mean_squared_error: 0.0427 - val_mean_absolute_error: 0.1637\n",
            "Epoch 175/300\n",
            "67/67 [==============================] - 0s 259us/sample - loss: 0.0357 - mean_squared_error: 0.0357 - mean_absolute_error: 0.1409 - val_loss: 0.0426 - val_mean_squared_error: 0.0426 - val_mean_absolute_error: 0.1640\n",
            "Epoch 176/300\n",
            "67/67 [==============================] - 0s 263us/sample - loss: 0.0356 - mean_squared_error: 0.0356 - mean_absolute_error: 0.1396 - val_loss: 0.0429 - val_mean_squared_error: 0.0429 - val_mean_absolute_error: 0.1598\n",
            "Epoch 177/300\n",
            "67/67 [==============================] - 0s 266us/sample - loss: 0.0355 - mean_squared_error: 0.0355 - mean_absolute_error: 0.1382 - val_loss: 0.0441 - val_mean_squared_error: 0.0441 - val_mean_absolute_error: 0.1577\n",
            "Epoch 178/300\n",
            "67/67 [==============================] - 0s 291us/sample - loss: 0.0368 - mean_squared_error: 0.0368 - mean_absolute_error: 0.1387 - val_loss: 0.0454 - val_mean_squared_error: 0.0454 - val_mean_absolute_error: 0.1567\n",
            "Epoch 179/300\n",
            "67/67 [==============================] - 0s 253us/sample - loss: 0.0378 - mean_squared_error: 0.0378 - mean_absolute_error: 0.1404 - val_loss: 0.0454 - val_mean_squared_error: 0.0454 - val_mean_absolute_error: 0.1566\n",
            "Epoch 180/300\n",
            "67/67 [==============================] - 0s 256us/sample - loss: 0.0369 - mean_squared_error: 0.0369 - mean_absolute_error: 0.1387 - val_loss: 0.0436 - val_mean_squared_error: 0.0436 - val_mean_absolute_error: 0.1583\n",
            "Epoch 181/300\n",
            "67/67 [==============================] - 0s 281us/sample - loss: 0.0357 - mean_squared_error: 0.0357 - mean_absolute_error: 0.1377 - val_loss: 0.0423 - val_mean_squared_error: 0.0423 - val_mean_absolute_error: 0.1608\n",
            "Epoch 182/300\n",
            "67/67 [==============================] - 0s 317us/sample - loss: 0.0354 - mean_squared_error: 0.0354 - mean_absolute_error: 0.1398 - val_loss: 0.0426 - val_mean_squared_error: 0.0426 - val_mean_absolute_error: 0.1671\n",
            "Epoch 183/300\n",
            "67/67 [==============================] - 0s 297us/sample - loss: 0.0367 - mean_squared_error: 0.0367 - mean_absolute_error: 0.1446 - val_loss: 0.0442 - val_mean_squared_error: 0.0442 - val_mean_absolute_error: 0.1724\n",
            "Epoch 184/300\n",
            "67/67 [==============================] - 0s 289us/sample - loss: 0.0386 - mean_squared_error: 0.0386 - mean_absolute_error: 0.1496 - val_loss: 0.0436 - val_mean_squared_error: 0.0436 - val_mean_absolute_error: 0.1705\n",
            "Epoch 185/300\n",
            "67/67 [==============================] - 0s 335us/sample - loss: 0.0376 - mean_squared_error: 0.0376 - mean_absolute_error: 0.1457 - val_loss: 0.0425 - val_mean_squared_error: 0.0425 - val_mean_absolute_error: 0.1671\n",
            "Epoch 186/300\n",
            "67/67 [==============================] - 0s 257us/sample - loss: 0.0361 - mean_squared_error: 0.0361 - mean_absolute_error: 0.1411 - val_loss: 0.0421 - val_mean_squared_error: 0.0421 - val_mean_absolute_error: 0.1629\n",
            "Epoch 187/300\n",
            "67/67 [==============================] - 0s 284us/sample - loss: 0.0351 - mean_squared_error: 0.0351 - mean_absolute_error: 0.1370 - val_loss: 0.0430 - val_mean_squared_error: 0.0430 - val_mean_absolute_error: 0.1602\n",
            "Epoch 188/300\n",
            "67/67 [==============================] - 0s 263us/sample - loss: 0.0354 - mean_squared_error: 0.0354 - mean_absolute_error: 0.1355 - val_loss: 0.0437 - val_mean_squared_error: 0.0437 - val_mean_absolute_error: 0.1594\n",
            "Epoch 189/300\n",
            "67/67 [==============================] - 0s 268us/sample - loss: 0.0357 - mean_squared_error: 0.0357 - mean_absolute_error: 0.1360 - val_loss: 0.0428 - val_mean_squared_error: 0.0428 - val_mean_absolute_error: 0.1603\n",
            "Epoch 190/300\n",
            "67/67 [==============================] - 0s 279us/sample - loss: 0.0351 - mean_squared_error: 0.0351 - mean_absolute_error: 0.1348 - val_loss: 0.0431 - val_mean_squared_error: 0.0431 - val_mean_absolute_error: 0.1599\n",
            "Epoch 191/300\n",
            "67/67 [==============================] - 0s 300us/sample - loss: 0.0356 - mean_squared_error: 0.0356 - mean_absolute_error: 0.1355 - val_loss: 0.0460 - val_mean_squared_error: 0.0460 - val_mean_absolute_error: 0.1588\n",
            "Epoch 192/300\n",
            "67/67 [==============================] - 0s 293us/sample - loss: 0.0377 - mean_squared_error: 0.0377 - mean_absolute_error: 0.1393 - val_loss: 0.0468 - val_mean_squared_error: 0.0468 - val_mean_absolute_error: 0.1585\n",
            "Epoch 193/300\n",
            "67/67 [==============================] - 0s 259us/sample - loss: 0.0375 - mean_squared_error: 0.0375 - mean_absolute_error: 0.1392 - val_loss: 0.0430 - val_mean_squared_error: 0.0430 - val_mean_absolute_error: 0.1597\n",
            "Epoch 194/300\n",
            "67/67 [==============================] - 0s 271us/sample - loss: 0.0344 - mean_squared_error: 0.0344 - mean_absolute_error: 0.1348 - val_loss: 0.0444 - val_mean_squared_error: 0.0444 - val_mean_absolute_error: 0.1717\n",
            "Epoch 195/300\n",
            "67/67 [==============================] - 0s 317us/sample - loss: 0.0392 - mean_squared_error: 0.0392 - mean_absolute_error: 0.1493 - val_loss: 0.0511 - val_mean_squared_error: 0.0511 - val_mean_absolute_error: 0.1857\n",
            "Epoch 196/300\n",
            "67/67 [==============================] - 0s 285us/sample - loss: 0.0485 - mean_squared_error: 0.0485 - mean_absolute_error: 0.1707 - val_loss: 0.0505 - val_mean_squared_error: 0.0505 - val_mean_absolute_error: 0.1844\n",
            "Epoch 197/300\n",
            "67/67 [==============================] - 0s 323us/sample - loss: 0.0430 - mean_squared_error: 0.0430 - mean_absolute_error: 0.1579 - val_loss: 0.0422 - val_mean_squared_error: 0.0422 - val_mean_absolute_error: 0.1641\n",
            "Epoch 198/300\n",
            "67/67 [==============================] - 0s 244us/sample - loss: 0.0348 - mean_squared_error: 0.0348 - mean_absolute_error: 0.1367 - val_loss: 0.0472 - val_mean_squared_error: 0.0472 - val_mean_absolute_error: 0.1565\n",
            "Epoch 199/300\n",
            "67/67 [==============================] - 0s 277us/sample - loss: 0.0397 - mean_squared_error: 0.0397 - mean_absolute_error: 0.1458 - val_loss: 0.0527 - val_mean_squared_error: 0.0527 - val_mean_absolute_error: 0.1593\n",
            "Epoch 200/300\n",
            "67/67 [==============================] - 0s 253us/sample - loss: 0.0427 - mean_squared_error: 0.0427 - mean_absolute_error: 0.1488 - val_loss: 0.0481 - val_mean_squared_error: 0.0481 - val_mean_absolute_error: 0.1553\n",
            "Epoch 201/300\n",
            "67/67 [==============================] - 0s 244us/sample - loss: 0.0393 - mean_squared_error: 0.0393 - mean_absolute_error: 0.1429 - val_loss: 0.0455 - val_mean_squared_error: 0.0455 - val_mean_absolute_error: 0.1556\n",
            "Epoch 202/300\n",
            "67/67 [==============================] - 0s 253us/sample - loss: 0.0374 - mean_squared_error: 0.0374 - mean_absolute_error: 0.1395 - val_loss: 0.0436 - val_mean_squared_error: 0.0436 - val_mean_absolute_error: 0.1576\n",
            "Epoch 203/300\n",
            "67/67 [==============================] - 0s 272us/sample - loss: 0.0359 - mean_squared_error: 0.0359 - mean_absolute_error: 0.1399 - val_loss: 0.0421 - val_mean_squared_error: 0.0421 - val_mean_absolute_error: 0.1627\n",
            "Epoch 204/300\n",
            "67/67 [==============================] - 0s 312us/sample - loss: 0.0359 - mean_squared_error: 0.0359 - mean_absolute_error: 0.1412 - val_loss: 0.0421 - val_mean_squared_error: 0.0421 - val_mean_absolute_error: 0.1648\n",
            "Epoch 205/300\n",
            "67/67 [==============================] - 0s 280us/sample - loss: 0.0354 - mean_squared_error: 0.0354 - mean_absolute_error: 0.1395 - val_loss: 0.0419 - val_mean_squared_error: 0.0419 - val_mean_absolute_error: 0.1635\n",
            "Epoch 206/300\n",
            "67/67 [==============================] - 0s 376us/sample - loss: 0.0351 - mean_squared_error: 0.0351 - mean_absolute_error: 0.1369 - val_loss: 0.0418 - val_mean_squared_error: 0.0418 - val_mean_absolute_error: 0.1606\n",
            "Epoch 207/300\n",
            "67/67 [==============================] - 0s 267us/sample - loss: 0.0344 - mean_squared_error: 0.0344 - mean_absolute_error: 0.1333 - val_loss: 0.0426 - val_mean_squared_error: 0.0426 - val_mean_absolute_error: 0.1582\n",
            "Epoch 208/300\n",
            "67/67 [==============================] - 0s 245us/sample - loss: 0.0346 - mean_squared_error: 0.0346 - mean_absolute_error: 0.1344 - val_loss: 0.0441 - val_mean_squared_error: 0.0441 - val_mean_absolute_error: 0.1570\n",
            "Epoch 209/300\n",
            "67/67 [==============================] - 0s 271us/sample - loss: 0.0358 - mean_squared_error: 0.0358 - mean_absolute_error: 0.1371 - val_loss: 0.0446 - val_mean_squared_error: 0.0446 - val_mean_absolute_error: 0.1563\n",
            "Epoch 210/300\n",
            "67/67 [==============================] - 0s 268us/sample - loss: 0.0362 - mean_squared_error: 0.0362 - mean_absolute_error: 0.1373 - val_loss: 0.0436 - val_mean_squared_error: 0.0436 - val_mean_absolute_error: 0.1562\n",
            "Epoch 211/300\n",
            "67/67 [==============================] - 0s 260us/sample - loss: 0.0352 - mean_squared_error: 0.0352 - mean_absolute_error: 0.1353 - val_loss: 0.0416 - val_mean_squared_error: 0.0416 - val_mean_absolute_error: 0.1591\n",
            "Epoch 212/300\n",
            "67/67 [==============================] - 0s 282us/sample - loss: 0.0342 - mean_squared_error: 0.0342 - mean_absolute_error: 0.1368 - val_loss: 0.0431 - val_mean_squared_error: 0.0431 - val_mean_absolute_error: 0.1690\n",
            "Epoch 213/300\n",
            "67/67 [==============================] - 0s 302us/sample - loss: 0.0383 - mean_squared_error: 0.0383 - mean_absolute_error: 0.1477 - val_loss: 0.0454 - val_mean_squared_error: 0.0454 - val_mean_absolute_error: 0.1747\n",
            "Epoch 214/300\n",
            "67/67 [==============================] - 0s 245us/sample - loss: 0.0397 - mean_squared_error: 0.0397 - mean_absolute_error: 0.1510 - val_loss: 0.0420 - val_mean_squared_error: 0.0420 - val_mean_absolute_error: 0.1649\n",
            "Epoch 215/300\n",
            "67/67 [==============================] - 0s 265us/sample - loss: 0.0341 - mean_squared_error: 0.0341 - mean_absolute_error: 0.1348 - val_loss: 0.0447 - val_mean_squared_error: 0.0447 - val_mean_absolute_error: 0.1559\n",
            "Epoch 216/300\n",
            "67/67 [==============================] - 0s 250us/sample - loss: 0.0365 - mean_squared_error: 0.0365 - mean_absolute_error: 0.1378 - val_loss: 0.0534 - val_mean_squared_error: 0.0534 - val_mean_absolute_error: 0.1609\n",
            "Epoch 217/300\n",
            "67/67 [==============================] - 0s 316us/sample - loss: 0.0441 - mean_squared_error: 0.0441 - mean_absolute_error: 0.1538 - val_loss: 0.0537 - val_mean_squared_error: 0.0537 - val_mean_absolute_error: 0.1602\n",
            "Epoch 218/300\n",
            "67/67 [==============================] - 0s 266us/sample - loss: 0.0427 - mean_squared_error: 0.0427 - mean_absolute_error: 0.1500 - val_loss: 0.0446 - val_mean_squared_error: 0.0446 - val_mean_absolute_error: 0.1558\n",
            "Epoch 219/300\n",
            "67/67 [==============================] - 0s 288us/sample - loss: 0.0358 - mean_squared_error: 0.0358 - mean_absolute_error: 0.1364 - val_loss: 0.0416 - val_mean_squared_error: 0.0416 - val_mean_absolute_error: 0.1600\n",
            "Epoch 220/300\n",
            "67/67 [==============================] - 0s 298us/sample - loss: 0.0344 - mean_squared_error: 0.0344 - mean_absolute_error: 0.1369 - val_loss: 0.0416 - val_mean_squared_error: 0.0416 - val_mean_absolute_error: 0.1602\n",
            "Epoch 221/300\n",
            "67/67 [==============================] - 0s 298us/sample - loss: 0.0345 - mean_squared_error: 0.0345 - mean_absolute_error: 0.1366 - val_loss: 0.0420 - val_mean_squared_error: 0.0420 - val_mean_absolute_error: 0.1591\n",
            "Epoch 222/300\n",
            "67/67 [==============================] - 0s 308us/sample - loss: 0.0348 - mean_squared_error: 0.0348 - mean_absolute_error: 0.1368 - val_loss: 0.0436 - val_mean_squared_error: 0.0436 - val_mean_absolute_error: 0.1574\n",
            "Epoch 223/300\n",
            "67/67 [==============================] - 0s 292us/sample - loss: 0.0355 - mean_squared_error: 0.0355 - mean_absolute_error: 0.1364 - val_loss: 0.0443 - val_mean_squared_error: 0.0443 - val_mean_absolute_error: 0.1571\n",
            "Epoch 224/300\n",
            "67/67 [==============================] - 0s 266us/sample - loss: 0.0359 - mean_squared_error: 0.0359 - mean_absolute_error: 0.1365 - val_loss: 0.0427 - val_mean_squared_error: 0.0427 - val_mean_absolute_error: 0.1579\n",
            "Epoch 225/300\n",
            "67/67 [==============================] - 0s 262us/sample - loss: 0.0351 - mean_squared_error: 0.0351 - mean_absolute_error: 0.1361 - val_loss: 0.0414 - val_mean_squared_error: 0.0414 - val_mean_absolute_error: 0.1598\n",
            "Epoch 226/300\n",
            "67/67 [==============================] - 0s 289us/sample - loss: 0.0343 - mean_squared_error: 0.0343 - mean_absolute_error: 0.1354 - val_loss: 0.0414 - val_mean_squared_error: 0.0414 - val_mean_absolute_error: 0.1617\n",
            "Epoch 227/300\n",
            "67/67 [==============================] - 0s 305us/sample - loss: 0.0345 - mean_squared_error: 0.0345 - mean_absolute_error: 0.1349 - val_loss: 0.0415 - val_mean_squared_error: 0.0415 - val_mean_absolute_error: 0.1622\n",
            "Epoch 228/300\n",
            "67/67 [==============================] - 0s 299us/sample - loss: 0.0347 - mean_squared_error: 0.0347 - mean_absolute_error: 0.1346 - val_loss: 0.0415 - val_mean_squared_error: 0.0415 - val_mean_absolute_error: 0.1603\n",
            "Epoch 229/300\n",
            "67/67 [==============================] - 0s 306us/sample - loss: 0.0339 - mean_squared_error: 0.0339 - mean_absolute_error: 0.1328 - val_loss: 0.0427 - val_mean_squared_error: 0.0427 - val_mean_absolute_error: 0.1574\n",
            "Epoch 230/300\n",
            "67/67 [==============================] - 0s 338us/sample - loss: 0.0353 - mean_squared_error: 0.0353 - mean_absolute_error: 0.1358 - val_loss: 0.0445 - val_mean_squared_error: 0.0445 - val_mean_absolute_error: 0.1567\n",
            "Epoch 231/300\n",
            "67/67 [==============================] - 0s 308us/sample - loss: 0.0358 - mean_squared_error: 0.0358 - mean_absolute_error: 0.1368 - val_loss: 0.0432 - val_mean_squared_error: 0.0432 - val_mean_absolute_error: 0.1566\n",
            "Epoch 232/300\n",
            "67/67 [==============================] - 0s 269us/sample - loss: 0.0348 - mean_squared_error: 0.0348 - mean_absolute_error: 0.1349 - val_loss: 0.0418 - val_mean_squared_error: 0.0418 - val_mean_absolute_error: 0.1577\n",
            "Epoch 233/300\n",
            "67/67 [==============================] - 0s 294us/sample - loss: 0.0340 - mean_squared_error: 0.0340 - mean_absolute_error: 0.1335 - val_loss: 0.0412 - val_mean_squared_error: 0.0412 - val_mean_absolute_error: 0.1598\n",
            "Epoch 234/300\n",
            "67/67 [==============================] - 0s 271us/sample - loss: 0.0342 - mean_squared_error: 0.0342 - mean_absolute_error: 0.1342 - val_loss: 0.0412 - val_mean_squared_error: 0.0412 - val_mean_absolute_error: 0.1606\n",
            "Epoch 235/300\n",
            "67/67 [==============================] - 0s 349us/sample - loss: 0.0343 - mean_squared_error: 0.0343 - mean_absolute_error: 0.1343 - val_loss: 0.0412 - val_mean_squared_error: 0.0412 - val_mean_absolute_error: 0.1594\n",
            "Epoch 236/300\n",
            "67/67 [==============================] - 0s 267us/sample - loss: 0.0344 - mean_squared_error: 0.0344 - mean_absolute_error: 0.1343 - val_loss: 0.0420 - val_mean_squared_error: 0.0420 - val_mean_absolute_error: 0.1568\n",
            "Epoch 237/300\n",
            "67/67 [==============================] - 0s 282us/sample - loss: 0.0344 - mean_squared_error: 0.0344 - mean_absolute_error: 0.1342 - val_loss: 0.0440 - val_mean_squared_error: 0.0440 - val_mean_absolute_error: 0.1557\n",
            "Epoch 238/300\n",
            "67/67 [==============================] - 0s 248us/sample - loss: 0.0360 - mean_squared_error: 0.0360 - mean_absolute_error: 0.1371 - val_loss: 0.0444 - val_mean_squared_error: 0.0444 - val_mean_absolute_error: 0.1558\n",
            "Epoch 239/300\n",
            "67/67 [==============================] - 0s 255us/sample - loss: 0.0356 - mean_squared_error: 0.0356 - mean_absolute_error: 0.1359 - val_loss: 0.0424 - val_mean_squared_error: 0.0424 - val_mean_absolute_error: 0.1566\n",
            "Epoch 240/300\n",
            "67/67 [==============================] - 0s 252us/sample - loss: 0.0344 - mean_squared_error: 0.0344 - mean_absolute_error: 0.1339 - val_loss: 0.0412 - val_mean_squared_error: 0.0412 - val_mean_absolute_error: 0.1585\n",
            "Epoch 241/300\n",
            "67/67 [==============================] - 0s 244us/sample - loss: 0.0340 - mean_squared_error: 0.0340 - mean_absolute_error: 0.1342 - val_loss: 0.0410 - val_mean_squared_error: 0.0410 - val_mean_absolute_error: 0.1609\n",
            "Epoch 242/300\n",
            "67/67 [==============================] - 0s 295us/sample - loss: 0.0344 - mean_squared_error: 0.0344 - mean_absolute_error: 0.1353 - val_loss: 0.0412 - val_mean_squared_error: 0.0412 - val_mean_absolute_error: 0.1623\n",
            "Epoch 243/300\n",
            "67/67 [==============================] - 0s 287us/sample - loss: 0.0348 - mean_squared_error: 0.0348 - mean_absolute_error: 0.1364 - val_loss: 0.0415 - val_mean_squared_error: 0.0415 - val_mean_absolute_error: 0.1641\n",
            "Epoch 244/300\n",
            "67/67 [==============================] - 0s 280us/sample - loss: 0.0355 - mean_squared_error: 0.0355 - mean_absolute_error: 0.1386 - val_loss: 0.0424 - val_mean_squared_error: 0.0424 - val_mean_absolute_error: 0.1664\n",
            "Epoch 245/300\n",
            "67/67 [==============================] - 0s 270us/sample - loss: 0.0366 - mean_squared_error: 0.0366 - mean_absolute_error: 0.1409 - val_loss: 0.0422 - val_mean_squared_error: 0.0422 - val_mean_absolute_error: 0.1652\n",
            "Epoch 246/300\n",
            "67/67 [==============================] - 0s 265us/sample - loss: 0.0355 - mean_squared_error: 0.0355 - mean_absolute_error: 0.1348 - val_loss: 0.0416 - val_mean_squared_error: 0.0416 - val_mean_absolute_error: 0.1592\n",
            "Epoch 247/300\n",
            "67/67 [==============================] - 0s 430us/sample - loss: 0.0344 - mean_squared_error: 0.0344 - mean_absolute_error: 0.1325 - val_loss: 0.0424 - val_mean_squared_error: 0.0424 - val_mean_absolute_error: 0.1579\n",
            "Epoch 248/300\n",
            "67/67 [==============================] - 0s 276us/sample - loss: 0.0355 - mean_squared_error: 0.0355 - mean_absolute_error: 0.1347 - val_loss: 0.0420 - val_mean_squared_error: 0.0420 - val_mean_absolute_error: 0.1602\n",
            "Epoch 249/300\n",
            "67/67 [==============================] - 0s 260us/sample - loss: 0.0347 - mean_squared_error: 0.0347 - mean_absolute_error: 0.1319 - val_loss: 0.0421 - val_mean_squared_error: 0.0421 - val_mean_absolute_error: 0.1593\n",
            "Epoch 250/300\n",
            "67/67 [==============================] - 0s 264us/sample - loss: 0.0345 - mean_squared_error: 0.0345 - mean_absolute_error: 0.1319 - val_loss: 0.0418 - val_mean_squared_error: 0.0418 - val_mean_absolute_error: 0.1580\n",
            "Epoch 251/300\n",
            "67/67 [==============================] - 0s 286us/sample - loss: 0.0339 - mean_squared_error: 0.0339 - mean_absolute_error: 0.1324 - val_loss: 0.0421 - val_mean_squared_error: 0.0421 - val_mean_absolute_error: 0.1568\n",
            "Epoch 252/300\n",
            "67/67 [==============================] - 0s 282us/sample - loss: 0.0342 - mean_squared_error: 0.0342 - mean_absolute_error: 0.1328 - val_loss: 0.0412 - val_mean_squared_error: 0.0412 - val_mean_absolute_error: 0.1602\n",
            "Epoch 253/300\n",
            "67/67 [==============================] - 0s 256us/sample - loss: 0.0356 - mean_squared_error: 0.0356 - mean_absolute_error: 0.1381 - val_loss: 0.0425 - val_mean_squared_error: 0.0425 - val_mean_absolute_error: 0.1669\n",
            "Epoch 254/300\n",
            "67/67 [==============================] - 0s 260us/sample - loss: 0.0364 - mean_squared_error: 0.0364 - mean_absolute_error: 0.1400 - val_loss: 0.0419 - val_mean_squared_error: 0.0419 - val_mean_absolute_error: 0.1644\n",
            "Epoch 255/300\n",
            "67/67 [==============================] - 0s 267us/sample - loss: 0.0356 - mean_squared_error: 0.0356 - mean_absolute_error: 0.1369 - val_loss: 0.0415 - val_mean_squared_error: 0.0415 - val_mean_absolute_error: 0.1619\n",
            "Epoch 256/300\n",
            "67/67 [==============================] - 0s 250us/sample - loss: 0.0342 - mean_squared_error: 0.0342 - mean_absolute_error: 0.1319 - val_loss: 0.0423 - val_mean_squared_error: 0.0423 - val_mean_absolute_error: 0.1570\n",
            "Epoch 257/300\n",
            "67/67 [==============================] - 0s 344us/sample - loss: 0.0342 - mean_squared_error: 0.0342 - mean_absolute_error: 0.1330 - val_loss: 0.0450 - val_mean_squared_error: 0.0450 - val_mean_absolute_error: 0.1573\n",
            "Epoch 258/300\n",
            "67/67 [==============================] - 0s 279us/sample - loss: 0.0371 - mean_squared_error: 0.0371 - mean_absolute_error: 0.1399 - val_loss: 0.0434 - val_mean_squared_error: 0.0434 - val_mean_absolute_error: 0.1565\n",
            "Epoch 259/300\n",
            "67/67 [==============================] - 0s 277us/sample - loss: 0.0347 - mean_squared_error: 0.0347 - mean_absolute_error: 0.1337 - val_loss: 0.0412 - val_mean_squared_error: 0.0412 - val_mean_absolute_error: 0.1613\n",
            "Epoch 260/300\n",
            "67/67 [==============================] - 0s 241us/sample - loss: 0.0354 - mean_squared_error: 0.0354 - mean_absolute_error: 0.1350 - val_loss: 0.0411 - val_mean_squared_error: 0.0411 - val_mean_absolute_error: 0.1619\n",
            "Epoch 261/300\n",
            "67/67 [==============================] - 0s 262us/sample - loss: 0.0334 - mean_squared_error: 0.0334 - mean_absolute_error: 0.1332 - val_loss: 0.0424 - val_mean_squared_error: 0.0424 - val_mean_absolute_error: 0.1557\n",
            "Epoch 262/300\n",
            "67/67 [==============================] - 0s 286us/sample - loss: 0.0350 - mean_squared_error: 0.0350 - mean_absolute_error: 0.1350 - val_loss: 0.0456 - val_mean_squared_error: 0.0456 - val_mean_absolute_error: 0.1542\n",
            "Epoch 263/300\n",
            "67/67 [==============================] - 0s 280us/sample - loss: 0.0368 - mean_squared_error: 0.0368 - mean_absolute_error: 0.1382 - val_loss: 0.0430 - val_mean_squared_error: 0.0430 - val_mean_absolute_error: 0.1541\n",
            "Epoch 264/300\n",
            "67/67 [==============================] - 0s 295us/sample - loss: 0.0348 - mean_squared_error: 0.0348 - mean_absolute_error: 0.1357 - val_loss: 0.0411 - val_mean_squared_error: 0.0411 - val_mean_absolute_error: 0.1586\n",
            "Epoch 265/300\n",
            "67/67 [==============================] - 0s 268us/sample - loss: 0.0345 - mean_squared_error: 0.0345 - mean_absolute_error: 0.1375 - val_loss: 0.0412 - val_mean_squared_error: 0.0412 - val_mean_absolute_error: 0.1624\n",
            "Epoch 266/300\n",
            "67/67 [==============================] - 0s 288us/sample - loss: 0.0348 - mean_squared_error: 0.0348 - mean_absolute_error: 0.1399 - val_loss: 0.0417 - val_mean_squared_error: 0.0417 - val_mean_absolute_error: 0.1651\n",
            "Epoch 267/300\n",
            "67/67 [==============================] - 0s 336us/sample - loss: 0.0358 - mean_squared_error: 0.0358 - mean_absolute_error: 0.1445 - val_loss: 0.0429 - val_mean_squared_error: 0.0429 - val_mean_absolute_error: 0.1692\n",
            "Epoch 268/300\n",
            "67/67 [==============================] - 0s 297us/sample - loss: 0.0370 - mean_squared_error: 0.0370 - mean_absolute_error: 0.1463 - val_loss: 0.0415 - val_mean_squared_error: 0.0415 - val_mean_absolute_error: 0.1635\n",
            "Epoch 269/300\n",
            "67/67 [==============================] - 0s 253us/sample - loss: 0.0343 - mean_squared_error: 0.0343 - mean_absolute_error: 0.1363 - val_loss: 0.0419 - val_mean_squared_error: 0.0419 - val_mean_absolute_error: 0.1555\n",
            "Epoch 270/300\n",
            "67/67 [==============================] - 0s 326us/sample - loss: 0.0345 - mean_squared_error: 0.0345 - mean_absolute_error: 0.1343 - val_loss: 0.0446 - val_mean_squared_error: 0.0446 - val_mean_absolute_error: 0.1548\n",
            "Epoch 271/300\n",
            "67/67 [==============================] - 0s 276us/sample - loss: 0.0366 - mean_squared_error: 0.0366 - mean_absolute_error: 0.1390 - val_loss: 0.0430 - val_mean_squared_error: 0.0430 - val_mean_absolute_error: 0.1547\n",
            "Epoch 272/300\n",
            "67/67 [==============================] - 0s 305us/sample - loss: 0.0357 - mean_squared_error: 0.0357 - mean_absolute_error: 0.1346 - val_loss: 0.0411 - val_mean_squared_error: 0.0411 - val_mean_absolute_error: 0.1589\n",
            "Epoch 273/300\n",
            "67/67 [==============================] - 0s 267us/sample - loss: 0.0340 - mean_squared_error: 0.0340 - mean_absolute_error: 0.1324 - val_loss: 0.0411 - val_mean_squared_error: 0.0411 - val_mean_absolute_error: 0.1578\n",
            "Epoch 274/300\n",
            "67/67 [==============================] - 0s 277us/sample - loss: 0.0338 - mean_squared_error: 0.0338 - mean_absolute_error: 0.1324 - val_loss: 0.0410 - val_mean_squared_error: 0.0410 - val_mean_absolute_error: 0.1574\n",
            "Epoch 275/300\n",
            "67/67 [==============================] - 0s 312us/sample - loss: 0.0337 - mean_squared_error: 0.0337 - mean_absolute_error: 0.1326 - val_loss: 0.0410 - val_mean_squared_error: 0.0410 - val_mean_absolute_error: 0.1575\n",
            "Epoch 276/300\n",
            "67/67 [==============================] - 0s 342us/sample - loss: 0.0338 - mean_squared_error: 0.0338 - mean_absolute_error: 0.1330 - val_loss: 0.0409 - val_mean_squared_error: 0.0409 - val_mean_absolute_error: 0.1577\n",
            "Epoch 277/300\n",
            "67/67 [==============================] - 0s 252us/sample - loss: 0.0338 - mean_squared_error: 0.0338 - mean_absolute_error: 0.1326 - val_loss: 0.0408 - val_mean_squared_error: 0.0408 - val_mean_absolute_error: 0.1591\n",
            "Epoch 278/300\n",
            "67/67 [==============================] - 0s 278us/sample - loss: 0.0345 - mean_squared_error: 0.0345 - mean_absolute_error: 0.1332 - val_loss: 0.0415 - val_mean_squared_error: 0.0415 - val_mean_absolute_error: 0.1627\n",
            "Epoch 279/300\n",
            "67/67 [==============================] - 0s 344us/sample - loss: 0.0354 - mean_squared_error: 0.0354 - mean_absolute_error: 0.1352 - val_loss: 0.0416 - val_mean_squared_error: 0.0416 - val_mean_absolute_error: 0.1627\n",
            "Epoch 280/300\n",
            "67/67 [==============================] - 0s 279us/sample - loss: 0.0349 - mean_squared_error: 0.0349 - mean_absolute_error: 0.1341 - val_loss: 0.0411 - val_mean_squared_error: 0.0411 - val_mean_absolute_error: 0.1571\n",
            "Epoch 281/300\n",
            "67/67 [==============================] - 0s 254us/sample - loss: 0.0345 - mean_squared_error: 0.0345 - mean_absolute_error: 0.1344 - val_loss: 0.0447 - val_mean_squared_error: 0.0447 - val_mean_absolute_error: 0.1544\n",
            "Epoch 282/300\n",
            "67/67 [==============================] - 0s 273us/sample - loss: 0.0368 - mean_squared_error: 0.0368 - mean_absolute_error: 0.1394 - val_loss: 0.0449 - val_mean_squared_error: 0.0449 - val_mean_absolute_error: 0.1538\n",
            "Epoch 283/300\n",
            "67/67 [==============================] - 0s 347us/sample - loss: 0.0360 - mean_squared_error: 0.0360 - mean_absolute_error: 0.1374 - val_loss: 0.0415 - val_mean_squared_error: 0.0415 - val_mean_absolute_error: 0.1543\n",
            "Epoch 284/300\n",
            "67/67 [==============================] - 0s 282us/sample - loss: 0.0337 - mean_squared_error: 0.0337 - mean_absolute_error: 0.1329 - val_loss: 0.0405 - val_mean_squared_error: 0.0405 - val_mean_absolute_error: 0.1597\n",
            "Epoch 285/300\n",
            "67/67 [==============================] - 0s 256us/sample - loss: 0.0342 - mean_squared_error: 0.0342 - mean_absolute_error: 0.1355 - val_loss: 0.0405 - val_mean_squared_error: 0.0405 - val_mean_absolute_error: 0.1596\n",
            "Epoch 286/300\n",
            "67/67 [==============================] - 0s 268us/sample - loss: 0.0334 - mean_squared_error: 0.0334 - mean_absolute_error: 0.1331 - val_loss: 0.0417 - val_mean_squared_error: 0.0417 - val_mean_absolute_error: 0.1540\n",
            "Epoch 287/300\n",
            "67/67 [==============================] - 0s 292us/sample - loss: 0.0353 - mean_squared_error: 0.0353 - mean_absolute_error: 0.1364 - val_loss: 0.0443 - val_mean_squared_error: 0.0443 - val_mean_absolute_error: 0.1521\n",
            "Epoch 288/300\n",
            "67/67 [==============================] - 0s 337us/sample - loss: 0.0364 - mean_squared_error: 0.0364 - mean_absolute_error: 0.1368 - val_loss: 0.0418 - val_mean_squared_error: 0.0418 - val_mean_absolute_error: 0.1551\n",
            "Epoch 289/300\n",
            "67/67 [==============================] - 0s 261us/sample - loss: 0.0342 - mean_squared_error: 0.0342 - mean_absolute_error: 0.1339 - val_loss: 0.0412 - val_mean_squared_error: 0.0412 - val_mean_absolute_error: 0.1641\n",
            "Epoch 290/300\n",
            "67/67 [==============================] - 0s 247us/sample - loss: 0.0363 - mean_squared_error: 0.0363 - mean_absolute_error: 0.1444 - val_loss: 0.0412 - val_mean_squared_error: 0.0412 - val_mean_absolute_error: 0.1642\n",
            "Epoch 291/300\n",
            "67/67 [==============================] - 0s 354us/sample - loss: 0.0346 - mean_squared_error: 0.0346 - mean_absolute_error: 0.1391 - val_loss: 0.0423 - val_mean_squared_error: 0.0423 - val_mean_absolute_error: 0.1536\n",
            "Epoch 292/300\n",
            "67/67 [==============================] - 0s 282us/sample - loss: 0.0342 - mean_squared_error: 0.0342 - mean_absolute_error: 0.1325 - val_loss: 0.0503 - val_mean_squared_error: 0.0503 - val_mean_absolute_error: 0.1544\n",
            "Epoch 293/300\n",
            "67/67 [==============================] - 0s 262us/sample - loss: 0.0416 - mean_squared_error: 0.0416 - mean_absolute_error: 0.1491 - val_loss: 0.0538 - val_mean_squared_error: 0.0538 - val_mean_absolute_error: 0.1577\n",
            "Epoch 294/300\n",
            "67/67 [==============================] - 0s 248us/sample - loss: 0.0451 - mean_squared_error: 0.0451 - mean_absolute_error: 0.1548 - val_loss: 0.0492 - val_mean_squared_error: 0.0492 - val_mean_absolute_error: 0.1519\n",
            "Epoch 295/300\n",
            "67/67 [==============================] - 0s 268us/sample - loss: 0.0382 - mean_squared_error: 0.0382 - mean_absolute_error: 0.1389 - val_loss: 0.0410 - val_mean_squared_error: 0.0410 - val_mean_absolute_error: 0.1594\n",
            "Epoch 296/300\n",
            "67/67 [==============================] - 0s 270us/sample - loss: 0.0352 - mean_squared_error: 0.0352 - mean_absolute_error: 0.1397 - val_loss: 0.0470 - val_mean_squared_error: 0.0470 - val_mean_absolute_error: 0.1790\n",
            "Epoch 297/300\n",
            "67/67 [==============================] - 0s 284us/sample - loss: 0.0427 - mean_squared_error: 0.0427 - mean_absolute_error: 0.1615 - val_loss: 0.0466 - val_mean_squared_error: 0.0466 - val_mean_absolute_error: 0.1761\n",
            "Epoch 298/300\n",
            "67/67 [==============================] - 0s 276us/sample - loss: 0.0411 - mean_squared_error: 0.0411 - mean_absolute_error: 0.1559 - val_loss: 0.0410 - val_mean_squared_error: 0.0410 - val_mean_absolute_error: 0.1633\n",
            "Epoch 299/300\n",
            "67/67 [==============================] - 0s 253us/sample - loss: 0.0341 - mean_squared_error: 0.0341 - mean_absolute_error: 0.1346 - val_loss: 0.0419 - val_mean_squared_error: 0.0419 - val_mean_absolute_error: 0.1562\n",
            "Epoch 300/300\n",
            "67/67 [==============================] - 0s 252us/sample - loss: 0.0349 - mean_squared_error: 0.0349 - mean_absolute_error: 0.1350 - val_loss: 0.0490 - val_mean_squared_error: 0.0490 - val_mean_absolute_error: 0.1583\n"
          ],
          "name": "stdout"
        }
      ]
    },
    {
      "cell_type": "code",
      "metadata": {
        "id": "v5aNfodbA8xs",
        "colab_type": "code",
        "outputId": "72f5a6b2-2d6c-489a-9850-5b465b969b67",
        "colab": {
          "base_uri": "https://localhost:8080/",
          "height": 50
        }
      },
      "source": [
        "model.evaluate(X_test, y_test)"
      ],
      "execution_count": 0,
      "outputs": [
        {
          "output_type": "stream",
          "text": [
            "38/38 [==============================] - 0s 298us/sample - loss: 0.0385 - mean_squared_error: 0.0385 - mean_absolute_error: 0.1596\n"
          ],
          "name": "stdout"
        },
        {
          "output_type": "execute_result",
          "data": {
            "text/plain": [
              "[0.03854225850418994, 0.03854226, 0.15955734]"
            ]
          },
          "metadata": {
            "tags": []
          },
          "execution_count": 83
        }
      ]
    },
    {
      "cell_type": "code",
      "metadata": {
        "id": "8vSB68BWBCFk",
        "colab_type": "code",
        "outputId": "8b267856-e390-4495-eec8-519cf49df364",
        "colab": {
          "base_uri": "https://localhost:8080/",
          "height": 66
        }
      },
      "source": [
        "y_pred = model.predict_classes(X_test[0:3])\n",
        "y_pred"
      ],
      "execution_count": 0,
      "outputs": [
        {
          "output_type": "execute_result",
          "data": {
            "text/plain": [
              "array([[1],\n",
              "       [0],\n",
              "       [1]], dtype=int32)"
            ]
          },
          "metadata": {
            "tags": []
          },
          "execution_count": 89
        }
      ]
    },
    {
      "cell_type": "code",
      "metadata": {
        "id": "FgT_AsS6Bhum",
        "colab_type": "code",
        "outputId": "bf6fab31-9c45-4d22-da6d-8c85a2d689e7",
        "colab": {
          "base_uri": "https://localhost:8080/",
          "height": 115
        }
      },
      "source": [
        "y_pred,y_test[0:3]"
      ],
      "execution_count": 0,
      "outputs": [
        {
          "output_type": "execute_result",
          "data": {
            "text/plain": [
              "(array([[1],\n",
              "        [0],\n",
              "        [1]], dtype=int32), 123    1.8\n",
              " 19     0.3\n",
              " 128    2.1\n",
              " Name: 3, dtype: float64)"
            ]
          },
          "metadata": {
            "tags": []
          },
          "execution_count": 90
        }
      ]
    },
    {
      "cell_type": "code",
      "metadata": {
        "id": "DywDmLzTCgof",
        "colab_type": "code",
        "outputId": "9cb19307-c0f6-48ad-82eb-51434b1ae157",
        "colab": {
          "base_uri": "https://localhost:8080/",
          "height": 295
        }
      },
      "source": [
        "plt.plot(history.history['loss'])\n",
        "plt.plot(history.history['val_loss'])\n",
        "plt.title('Model Loss')\n",
        "plt.ylabel('Loss')\n",
        "plt.xlabel('Epoch')\n",
        "plt.legend(['Training','Testing'], loc='upper left')\n",
        "plt.show()"
      ],
      "execution_count": 0,
      "outputs": [
        {
          "output_type": "display_data",
          "data": {
            "image/png": "[encoded data removed]",
            "text/plain": [
              "<Figure size 432x288 with 1 Axes>"
            ]
          },
          "metadata": {
            "tags": []
          }
        }
      ]
    },
    {
      "cell_type": "code",
      "metadata": {
        "id": "O7WD7TnbD2d9",
        "colab_type": "code",
        "colab": {}
      },
      "source": [
        ""
      ],
      "execution_count": 0,
      "outputs": []
    }
  ]
}