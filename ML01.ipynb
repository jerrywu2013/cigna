{
  "nbformat": 4,
  "nbformat_minor": 0,
  "metadata": {
    "colab": {
      "name": "02.ipynb",
      "version": "0.3.2",
      "provenance": []
    },
    "kernelspec": {
      "name": "python3",
      "display_name": "Python 3"
    }
  },
  "cells": [
    {
      "cell_type": "code",
      "metadata": {
        "id": "wlZJQLj2cZMw",
        "colab_type": "code",
        "colab": {
          "base_uri": "https://localhost:8080/",
          "height": 270
        },
        "outputId": "5041a396-e34b-4690-d688-3adbadcac559"
      },
      "source": [
        "from sklearn import datasets\n",
        "import pandas as pd\n",
        "import numpy as np\n",
        "from sklearn import linear_model\n",
        "import matplotlib.pyplot as plt\n",
        "\n",
        "iris = datasets.load_iris()\n",
        "\n",
        "df_data = pd.DataFrame(iris['data'], columns=iris.feature_names)\n",
        "df_target = pd.DataFrame(iris['target'], columns=['Target'])\n",
        "df = pd.concat([df_data,df_target],axis=1)\n",
        "\n",
        "\n",
        "reg = linear_model.LinearRegression()\n",
        "\n",
        "iris_pl_re = np.array(df['petal length (cm)']).reshape(-1,1)\n",
        "iris_pw_re = np.array(df['petal width (cm)']).reshape(-1,1)\n",
        "\n",
        "reg.fit(iris_pl_re, iris_pw_re)\n",
        "reg.score(iris_pl_re, iris_pw_re)\n",
        "\n",
        "prediction_space = np.linspace(min(iris_pl_re),\n",
        "                               max(iris_pl_re)).reshape(-1, 1)\n",
        "\n",
        "plt.scatter(iris_pl_re, iris_pw_re, color = 'blue')\n",
        "plt.plot(prediction_space, reg.predict(prediction_space),\n",
        "         color='black', linewidth=2)\n",
        "\n",
        "plt.show()\n"
      ],
      "execution_count": 29,
      "outputs": [
        {
          "output_type": "display_data",
          "data": {
            "image/png": "[encoded data removed]",
            "text/plain": [
              "<Figure size 432x288 with 1 Axes>"
            ]
          },
          "metadata": {
            "tags": []
          }
        }
      ]
    },
    {
      "cell_type": "code",
      "metadata": {
        "id": "OBk8t10EQJvx",
        "colab_type": "code",
        "colab": {}
      },
      "source": [
        ""
      ],
      "execution_count": 0,
      "outputs": []
    },
    {
      "cell_type": "code",
      "metadata": {
        "id": "xyPc-9KMfh-9",
        "colab_type": "code",
        "colab": {
          "base_uri": "https://localhost:8080/",
          "height": 66
        },
        "outputId": "93626ecf-2fd5-4077-aa3f-43660fc1c94b"
      },
      "source": [
        "from sklearn import datasets\n",
        "import pandas as pd\n",
        "import numpy as np\n",
        "from sklearn import linear_model\n",
        "from sklearn.model_selection import train_test_split\n",
        "from sklearn.metrics import mean_squared_error\n",
        "\n",
        "iris = datasets.load_iris()\n",
        "\n",
        "df_data = pd.DataFrame(iris['data'], columns=iris.feature_names)\n",
        "df_target = pd.DataFrame(iris['target'], columns=['Target'])\n",
        "df = pd.concat([df_data,df_target],axis=1)\n",
        "\n",
        "X_train, X_test, y_train, y_test = train_test_split(df_data, df_target,\n",
        "                                                    test_size = 0.3,\n",
        "                                                    random_state=42)\n",
        "\n",
        "reg_all = linear_model.LinearRegression()\n",
        "reg_all.fit(X_train, y_train)\n",
        "\n",
        "\n",
        "y_pred = reg_all.predict(X_test)\n",
        "rmse = np.sqrt(mean_squared_error(y_test, y_pred))\n",
        "\n",
        "print('R^2', reg_all.score(X_test, y_test))\n",
        "print('RMSE: \\n', rmse)"
      ],
      "execution_count": 25,
      "outputs": [
        {
          "output_type": "stream",
          "text": [
            "R^2 0.9442318571467434\n",
            "RMSE: \n",
            " 0.19663649808277694\n"
          ],
          "name": "stdout"
        }
      ]
    },
    {
      "cell_type": "code",
      "metadata": {
        "id": "idb2_u3JQI-5",
        "colab_type": "code",
        "colab": {}
      },
      "source": [
        ""
      ],
      "execution_count": 0,
      "outputs": []
    },
    {
      "cell_type": "code",
      "metadata": {
        "id": "RzjDONQEfiBN",
        "colab_type": "code",
        "colab": {
          "base_uri": "https://localhost:8080/",
          "height": 33
        },
        "outputId": "00ee42cc-dd48-494c-93e7-7978e34b0128"
      },
      "source": [
        "reg_all.predict([[5.5, 2.4, 3.7, 1.0]])"
      ],
      "execution_count": 4,
      "outputs": [
        {
          "output_type": "execute_result",
          "data": {
            "text/plain": [
              "array([[0.95797719]])"
            ]
          },
          "metadata": {
            "tags": []
          },
          "execution_count": 4
        }
      ]
    },
    {
      "cell_type": "code",
      "metadata": {
        "id": "P9u-QB-UNuly",
        "colab_type": "code",
        "colab": {
          "base_uri": "https://localhost:8080/",
          "height": 33
        },
        "outputId": "6240c5b9-6126-47d1-fa17-b46d3df1b390"
      },
      "source": [
        "reg_all.predict(X_test[0:1]),np.array(y_test[0:1])"
      ],
      "execution_count": 17,
      "outputs": [
        {
          "output_type": "execute_result",
          "data": {
            "text/plain": [
              "(array([[1.24069097]]), array([[1]]))"
            ]
          },
          "metadata": {
            "tags": []
          },
          "execution_count": 17
        }
      ]
    },
    {
      "cell_type": "code",
      "metadata": {
        "id": "Z2JU_SIFfiDZ",
        "colab_type": "code",
        "colab": {
          "base_uri": "https://localhost:8080/",
          "height": 76
        },
        "outputId": "f7d2b426-fa24-4dd1-ddc6-7e9fc84296b8"
      },
      "source": [
        ""
      ],
      "execution_count": 8,
      "outputs": [
        {
          "output_type": "execute_result",
          "data": {
            "text/html": [
              "<div>\n",
              "<style scoped>\n",
              "    .dataframe tbody tr th:only-of-type {\n",
              "        vertical-align: middle;\n",
              "    }\n",
              "\n",
              "    .dataframe tbody tr th {\n",
              "        vertical-align: top;\n",
              "    }\n",
              "\n",
              "    .dataframe thead th {\n",
              "        text-align: right;\n",
              "    }\n",
              "</style>\n",
              "<table border=\"1\" class=\"dataframe\">\n",
              "  <thead>\n",
              "    <tr style=\"text-align: right;\">\n",
              "      <th></th>\n",
              "      <th>sepal length (cm)</th>\n",
              "      <th>sepal width (cm)</th>\n",
              "      <th>petal length (cm)</th>\n",
              "      <th>petal width (cm)</th>\n",
              "    </tr>\n",
              "  </thead>\n",
              "  <tbody>\n",
              "    <tr>\n",
              "      <th>81</th>\n",
              "      <td>5.5</td>\n",
              "      <td>2.4</td>\n",
              "      <td>3.7</td>\n",
              "      <td>1.0</td>\n",
              "    </tr>\n",
              "  </tbody>\n",
              "</table>\n",
              "</div>"
            ],
            "text/plain": [
              "    sepal length (cm)  sepal width (cm)  petal length (cm)  petal width (cm)\n",
              "81                5.5               2.4                3.7               1.0"
            ]
          },
          "metadata": {
            "tags": []
          },
          "execution_count": 8
        }
      ]
    },
    {
      "cell_type": "code",
      "metadata": {
        "id": "cSZTNPwSOiKY",
        "colab_type": "code",
        "colab": {}
      },
      "source": [
        ""
      ],
      "execution_count": 0,
      "outputs": []
    }
  ]
}